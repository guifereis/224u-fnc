{
 "cells": [
  {
   "cell_type": "code",
   "execution_count": 1,
   "metadata": {},
   "outputs": [],
   "source": [
    "import pandas as pd\n",
    "import numpy as np\n",
    "import sklearn\n",
    "import os\n",
    "from tqdm import tqdm, trange, tqdm_notebook\n",
    "import re\n",
    "import nltk\n",
    "from multiprocessing import cpu_count, Pool\n",
    "from functools import partial\n",
    "import ipywidgets\n",
    "from sklearn.ensemble import GradientBoostingClassifier"
   ]
  },
  {
   "cell_type": "code",
   "execution_count": 2,
   "metadata": {},
   "outputs": [],
   "source": [
    "X_train = pd.read_hdf(\"X_train_full_allfeatures-NOLABEL.h5\", key=\"df\")\n",
    "y_train = pd.read_hdf(\"y_train_full.h5\", key=\"df\")"
   ]
  },
  {
   "cell_type": "code",
   "execution_count": 3,
   "metadata": {},
   "outputs": [
    {
     "data": {
      "text/plain": [
       "0    unrelated\n",
       "1        agree\n",
       "2    unrelated\n",
       "3    unrelated\n",
       "4     disagree\n",
       "Name: Stance, dtype: object"
      ]
     },
     "execution_count": 3,
     "metadata": {},
     "output_type": "execute_result"
    }
   ],
   "source": [
    "y_train.head()"
   ]
  },
  {
   "cell_type": "code",
   "execution_count": 4,
   "metadata": {},
   "outputs": [
    {
     "name": "stdout",
     "output_type": "stream",
     "text": [
      "(49972, 49)\n",
      "(49972,)\n"
     ]
    }
   ],
   "source": [
    "print(X_train.shape)\n",
    "print(y_train.shape)"
   ]
  },
  {
   "cell_type": "code",
   "execution_count": 5,
   "metadata": {},
   "outputs": [],
   "source": [
    "del X_train[\"articleBody\"]\n",
    "del X_train[\"Headline\"]\n",
    "for col_name in X_train.columns:\n",
    "    if \"___\" == col_name[0:3]:\n",
    "        del X_train[col_name]"
   ]
  },
  {
   "cell_type": "code",
   "execution_count": 6,
   "metadata": {},
   "outputs": [
    {
     "name": "stdout",
     "output_type": "stream",
     "text": [
      "(49972, 43)\n",
      "(49972,)\n"
     ]
    }
   ],
   "source": [
    "print(X_train.shape)\n",
    "print(y_train.shape)"
   ]
  },
  {
   "cell_type": "code",
   "execution_count": 7,
   "metadata": {},
   "outputs": [
    {
     "data": {
      "text/html": [
       "<div>\n",
       "<style scoped>\n",
       "    .dataframe tbody tr th:only-of-type {\n",
       "        vertical-align: middle;\n",
       "    }\n",
       "\n",
       "    .dataframe tbody tr th {\n",
       "        vertical-align: top;\n",
       "    }\n",
       "\n",
       "    .dataframe thead th {\n",
       "        text-align: right;\n",
       "    }\n",
       "</style>\n",
       "<table border=\"1\" class=\"dataframe\">\n",
       "  <thead>\n",
       "    <tr style=\"text-align: right;\">\n",
       "      <th></th>\n",
       "      <th>bin_count</th>\n",
       "      <th>bin_count_early</th>\n",
       "      <th>bin_count_stopless</th>\n",
       "      <th>word_overlap_features</th>\n",
       "      <th>wrf_hl_fake</th>\n",
       "      <th>wrf_hl_fraud</th>\n",
       "      <th>wrf_hl_hoax</th>\n",
       "      <th>wrf_hl_false</th>\n",
       "      <th>wrf_hl_deny</th>\n",
       "      <th>wrf_hl_denies</th>\n",
       "      <th>...</th>\n",
       "      <th>chargram_2_first_hits</th>\n",
       "      <th>chargram_8_hits</th>\n",
       "      <th>chargram_8_early_hits</th>\n",
       "      <th>chargram_8_first_hits</th>\n",
       "      <th>chargram_4_hits</th>\n",
       "      <th>chargram_4_early_hits</th>\n",
       "      <th>chargram_4_first_hits</th>\n",
       "      <th>chargram_16_hits</th>\n",
       "      <th>chargram_16_early_hits</th>\n",
       "      <th>chargram_16_first_hits</th>\n",
       "    </tr>\n",
       "  </thead>\n",
       "  <tbody>\n",
       "    <tr>\n",
       "      <th>0</th>\n",
       "      <td>2</td>\n",
       "      <td>0</td>\n",
       "      <td>0</td>\n",
       "      <td>0.014085</td>\n",
       "      <td>0</td>\n",
       "      <td>0</td>\n",
       "      <td>0</td>\n",
       "      <td>0</td>\n",
       "      <td>0</td>\n",
       "      <td>0</td>\n",
       "      <td>...</td>\n",
       "      <td>0</td>\n",
       "      <td>0</td>\n",
       "      <td>0</td>\n",
       "      <td>0</td>\n",
       "      <td>0</td>\n",
       "      <td>0</td>\n",
       "      <td>0</td>\n",
       "      <td>0</td>\n",
       "      <td>0</td>\n",
       "      <td>0</td>\n",
       "    </tr>\n",
       "    <tr>\n",
       "      <th>1</th>\n",
       "      <td>10</td>\n",
       "      <td>7</td>\n",
       "      <td>7</td>\n",
       "      <td>0.046083</td>\n",
       "      <td>0</td>\n",
       "      <td>0</td>\n",
       "      <td>0</td>\n",
       "      <td>0</td>\n",
       "      <td>0</td>\n",
       "      <td>0</td>\n",
       "      <td>...</td>\n",
       "      <td>3</td>\n",
       "      <td>0</td>\n",
       "      <td>0</td>\n",
       "      <td>0</td>\n",
       "      <td>0</td>\n",
       "      <td>0</td>\n",
       "      <td>0</td>\n",
       "      <td>0</td>\n",
       "      <td>0</td>\n",
       "      <td>0</td>\n",
       "    </tr>\n",
       "    <tr>\n",
       "      <th>2</th>\n",
       "      <td>5</td>\n",
       "      <td>4</td>\n",
       "      <td>1</td>\n",
       "      <td>0.030303</td>\n",
       "      <td>0</td>\n",
       "      <td>0</td>\n",
       "      <td>0</td>\n",
       "      <td>0</td>\n",
       "      <td>0</td>\n",
       "      <td>0</td>\n",
       "      <td>...</td>\n",
       "      <td>1</td>\n",
       "      <td>0</td>\n",
       "      <td>0</td>\n",
       "      <td>0</td>\n",
       "      <td>0</td>\n",
       "      <td>0</td>\n",
       "      <td>0</td>\n",
       "      <td>0</td>\n",
       "      <td>0</td>\n",
       "      <td>0</td>\n",
       "    </tr>\n",
       "    <tr>\n",
       "      <th>3</th>\n",
       "      <td>3</td>\n",
       "      <td>3</td>\n",
       "      <td>0</td>\n",
       "      <td>0.028169</td>\n",
       "      <td>0</td>\n",
       "      <td>0</td>\n",
       "      <td>0</td>\n",
       "      <td>0</td>\n",
       "      <td>0</td>\n",
       "      <td>0</td>\n",
       "      <td>...</td>\n",
       "      <td>1</td>\n",
       "      <td>0</td>\n",
       "      <td>0</td>\n",
       "      <td>0</td>\n",
       "      <td>0</td>\n",
       "      <td>0</td>\n",
       "      <td>0</td>\n",
       "      <td>0</td>\n",
       "      <td>0</td>\n",
       "      <td>0</td>\n",
       "    </tr>\n",
       "    <tr>\n",
       "      <th>4</th>\n",
       "      <td>9</td>\n",
       "      <td>5</td>\n",
       "      <td>4</td>\n",
       "      <td>0.032727</td>\n",
       "      <td>0</td>\n",
       "      <td>0</td>\n",
       "      <td>0</td>\n",
       "      <td>0</td>\n",
       "      <td>0</td>\n",
       "      <td>0</td>\n",
       "      <td>...</td>\n",
       "      <td>4</td>\n",
       "      <td>0</td>\n",
       "      <td>0</td>\n",
       "      <td>0</td>\n",
       "      <td>0</td>\n",
       "      <td>0</td>\n",
       "      <td>0</td>\n",
       "      <td>0</td>\n",
       "      <td>0</td>\n",
       "      <td>0</td>\n",
       "    </tr>\n",
       "  </tbody>\n",
       "</table>\n",
       "<p>5 rows × 43 columns</p>\n",
       "</div>"
      ],
      "text/plain": [
       "   bin_count  bin_count_early  bin_count_stopless  word_overlap_features  \\\n",
       "0          2                0                   0               0.014085   \n",
       "1         10                7                   7               0.046083   \n",
       "2          5                4                   1               0.030303   \n",
       "3          3                3                   0               0.028169   \n",
       "4          9                5                   4               0.032727   \n",
       "\n",
       "   wrf_hl_fake  wrf_hl_fraud  wrf_hl_hoax  wrf_hl_false  wrf_hl_deny  \\\n",
       "0            0             0            0             0            0   \n",
       "1            0             0            0             0            0   \n",
       "2            0             0            0             0            0   \n",
       "3            0             0            0             0            0   \n",
       "4            0             0            0             0            0   \n",
       "\n",
       "   wrf_hl_denies           ...            chargram_2_first_hits  \\\n",
       "0              0           ...                                0   \n",
       "1              0           ...                                3   \n",
       "2              0           ...                                1   \n",
       "3              0           ...                                1   \n",
       "4              0           ...                                4   \n",
       "\n",
       "   chargram_8_hits  chargram_8_early_hits  chargram_8_first_hits  \\\n",
       "0                0                      0                      0   \n",
       "1                0                      0                      0   \n",
       "2                0                      0                      0   \n",
       "3                0                      0                      0   \n",
       "4                0                      0                      0   \n",
       "\n",
       "   chargram_4_hits  chargram_4_early_hits  chargram_4_first_hits  \\\n",
       "0                0                      0                      0   \n",
       "1                0                      0                      0   \n",
       "2                0                      0                      0   \n",
       "3                0                      0                      0   \n",
       "4                0                      0                      0   \n",
       "\n",
       "   chargram_16_hits  chargram_16_early_hits  chargram_16_first_hits  \n",
       "0                 0                       0                       0  \n",
       "1                 0                       0                       0  \n",
       "2                 0                       0                       0  \n",
       "3                 0                       0                       0  \n",
       "4                 0                       0                       0  \n",
       "\n",
       "[5 rows x 43 columns]"
      ]
     },
     "execution_count": 7,
     "metadata": {},
     "output_type": "execute_result"
    }
   ],
   "source": [
    "X_train.head()"
   ]
  },
  {
   "cell_type": "code",
   "execution_count": 8,
   "metadata": {},
   "outputs": [
    {
     "name": "stdout",
     "output_type": "stream",
     "text": [
      "(49972, 44)\n"
     ]
    }
   ],
   "source": [
    "Xy_train = pd.concat([X_train, y_train], axis=1)\n",
    "print(Xy_train.shape)"
   ]
  },
  {
   "cell_type": "code",
   "execution_count": 9,
   "metadata": {},
   "outputs": [
    {
     "data": {
      "text/html": [
       "<div>\n",
       "<style scoped>\n",
       "    .dataframe tbody tr th:only-of-type {\n",
       "        vertical-align: middle;\n",
       "    }\n",
       "\n",
       "    .dataframe tbody tr th {\n",
       "        vertical-align: top;\n",
       "    }\n",
       "\n",
       "    .dataframe thead th {\n",
       "        text-align: right;\n",
       "    }\n",
       "</style>\n",
       "<table border=\"1\" class=\"dataframe\">\n",
       "  <thead>\n",
       "    <tr style=\"text-align: right;\">\n",
       "      <th></th>\n",
       "      <th>bin_count</th>\n",
       "      <th>bin_count_early</th>\n",
       "      <th>bin_count_stopless</th>\n",
       "      <th>word_overlap_features</th>\n",
       "      <th>wrf_hl_fake</th>\n",
       "      <th>wrf_hl_fraud</th>\n",
       "      <th>wrf_hl_hoax</th>\n",
       "      <th>wrf_hl_false</th>\n",
       "      <th>wrf_hl_deny</th>\n",
       "      <th>wrf_hl_denies</th>\n",
       "      <th>...</th>\n",
       "      <th>chargram_8_hits</th>\n",
       "      <th>chargram_8_early_hits</th>\n",
       "      <th>chargram_8_first_hits</th>\n",
       "      <th>chargram_4_hits</th>\n",
       "      <th>chargram_4_early_hits</th>\n",
       "      <th>chargram_4_first_hits</th>\n",
       "      <th>chargram_16_hits</th>\n",
       "      <th>chargram_16_early_hits</th>\n",
       "      <th>chargram_16_first_hits</th>\n",
       "      <th>Stance</th>\n",
       "    </tr>\n",
       "  </thead>\n",
       "  <tbody>\n",
       "    <tr>\n",
       "      <th>0</th>\n",
       "      <td>2</td>\n",
       "      <td>0</td>\n",
       "      <td>0</td>\n",
       "      <td>0.014085</td>\n",
       "      <td>0</td>\n",
       "      <td>0</td>\n",
       "      <td>0</td>\n",
       "      <td>0</td>\n",
       "      <td>0</td>\n",
       "      <td>0</td>\n",
       "      <td>...</td>\n",
       "      <td>0</td>\n",
       "      <td>0</td>\n",
       "      <td>0</td>\n",
       "      <td>0</td>\n",
       "      <td>0</td>\n",
       "      <td>0</td>\n",
       "      <td>0</td>\n",
       "      <td>0</td>\n",
       "      <td>0</td>\n",
       "      <td>unrelated</td>\n",
       "    </tr>\n",
       "    <tr>\n",
       "      <th>1</th>\n",
       "      <td>10</td>\n",
       "      <td>7</td>\n",
       "      <td>7</td>\n",
       "      <td>0.046083</td>\n",
       "      <td>0</td>\n",
       "      <td>0</td>\n",
       "      <td>0</td>\n",
       "      <td>0</td>\n",
       "      <td>0</td>\n",
       "      <td>0</td>\n",
       "      <td>...</td>\n",
       "      <td>0</td>\n",
       "      <td>0</td>\n",
       "      <td>0</td>\n",
       "      <td>0</td>\n",
       "      <td>0</td>\n",
       "      <td>0</td>\n",
       "      <td>0</td>\n",
       "      <td>0</td>\n",
       "      <td>0</td>\n",
       "      <td>agree</td>\n",
       "    </tr>\n",
       "    <tr>\n",
       "      <th>2</th>\n",
       "      <td>5</td>\n",
       "      <td>4</td>\n",
       "      <td>1</td>\n",
       "      <td>0.030303</td>\n",
       "      <td>0</td>\n",
       "      <td>0</td>\n",
       "      <td>0</td>\n",
       "      <td>0</td>\n",
       "      <td>0</td>\n",
       "      <td>0</td>\n",
       "      <td>...</td>\n",
       "      <td>0</td>\n",
       "      <td>0</td>\n",
       "      <td>0</td>\n",
       "      <td>0</td>\n",
       "      <td>0</td>\n",
       "      <td>0</td>\n",
       "      <td>0</td>\n",
       "      <td>0</td>\n",
       "      <td>0</td>\n",
       "      <td>unrelated</td>\n",
       "    </tr>\n",
       "    <tr>\n",
       "      <th>3</th>\n",
       "      <td>3</td>\n",
       "      <td>3</td>\n",
       "      <td>0</td>\n",
       "      <td>0.028169</td>\n",
       "      <td>0</td>\n",
       "      <td>0</td>\n",
       "      <td>0</td>\n",
       "      <td>0</td>\n",
       "      <td>0</td>\n",
       "      <td>0</td>\n",
       "      <td>...</td>\n",
       "      <td>0</td>\n",
       "      <td>0</td>\n",
       "      <td>0</td>\n",
       "      <td>0</td>\n",
       "      <td>0</td>\n",
       "      <td>0</td>\n",
       "      <td>0</td>\n",
       "      <td>0</td>\n",
       "      <td>0</td>\n",
       "      <td>unrelated</td>\n",
       "    </tr>\n",
       "    <tr>\n",
       "      <th>4</th>\n",
       "      <td>9</td>\n",
       "      <td>5</td>\n",
       "      <td>4</td>\n",
       "      <td>0.032727</td>\n",
       "      <td>0</td>\n",
       "      <td>0</td>\n",
       "      <td>0</td>\n",
       "      <td>0</td>\n",
       "      <td>0</td>\n",
       "      <td>0</td>\n",
       "      <td>...</td>\n",
       "      <td>0</td>\n",
       "      <td>0</td>\n",
       "      <td>0</td>\n",
       "      <td>0</td>\n",
       "      <td>0</td>\n",
       "      <td>0</td>\n",
       "      <td>0</td>\n",
       "      <td>0</td>\n",
       "      <td>0</td>\n",
       "      <td>disagree</td>\n",
       "    </tr>\n",
       "  </tbody>\n",
       "</table>\n",
       "<p>5 rows × 44 columns</p>\n",
       "</div>"
      ],
      "text/plain": [
       "   bin_count  bin_count_early  bin_count_stopless  word_overlap_features  \\\n",
       "0          2                0                   0               0.014085   \n",
       "1         10                7                   7               0.046083   \n",
       "2          5                4                   1               0.030303   \n",
       "3          3                3                   0               0.028169   \n",
       "4          9                5                   4               0.032727   \n",
       "\n",
       "   wrf_hl_fake  wrf_hl_fraud  wrf_hl_hoax  wrf_hl_false  wrf_hl_deny  \\\n",
       "0            0             0            0             0            0   \n",
       "1            0             0            0             0            0   \n",
       "2            0             0            0             0            0   \n",
       "3            0             0            0             0            0   \n",
       "4            0             0            0             0            0   \n",
       "\n",
       "   wrf_hl_denies    ...      chargram_8_hits  chargram_8_early_hits  \\\n",
       "0              0    ...                    0                      0   \n",
       "1              0    ...                    0                      0   \n",
       "2              0    ...                    0                      0   \n",
       "3              0    ...                    0                      0   \n",
       "4              0    ...                    0                      0   \n",
       "\n",
       "   chargram_8_first_hits  chargram_4_hits  chargram_4_early_hits  \\\n",
       "0                      0                0                      0   \n",
       "1                      0                0                      0   \n",
       "2                      0                0                      0   \n",
       "3                      0                0                      0   \n",
       "4                      0                0                      0   \n",
       "\n",
       "   chargram_4_first_hits  chargram_16_hits  chargram_16_early_hits  \\\n",
       "0                      0                 0                       0   \n",
       "1                      0                 0                       0   \n",
       "2                      0                 0                       0   \n",
       "3                      0                 0                       0   \n",
       "4                      0                 0                       0   \n",
       "\n",
       "   chargram_16_first_hits     Stance  \n",
       "0                       0  unrelated  \n",
       "1                       0      agree  \n",
       "2                       0  unrelated  \n",
       "3                       0  unrelated  \n",
       "4                       0   disagree  \n",
       "\n",
       "[5 rows x 44 columns]"
      ]
     },
     "execution_count": 9,
     "metadata": {},
     "output_type": "execute_result"
    }
   ],
   "source": [
    "Xy_train.head()"
   ]
  },
  {
   "cell_type": "code",
   "execution_count": 11,
   "metadata": {},
   "outputs": [],
   "source": [
    "Xy_train = Xy_train[Xy_train[\"Stance\"] != \"unrelated\"]"
   ]
  },
  {
   "cell_type": "code",
   "execution_count": 12,
   "metadata": {},
   "outputs": [
    {
     "name": "stdout",
     "output_type": "stream",
     "text": [
      "(13427, 44)\n"
     ]
    }
   ],
   "source": [
    "print(Xy_train.shape)"
   ]
  },
  {
   "cell_type": "code",
   "execution_count": 13,
   "metadata": {},
   "outputs": [
    {
     "name": "stdout",
     "output_type": "stream",
     "text": [
      "(13427, 43)\n",
      "(13427,)\n"
     ]
    }
   ],
   "source": [
    "y_train = Xy_train[\"Stance\"]\n",
    "X_train = Xy_train.drop(\"Stance\", axis=1)\n",
    "print(X_train.shape)\n",
    "print(y_train.shape)"
   ]
  },
  {
   "cell_type": "code",
   "execution_count": null,
   "metadata": {},
   "outputs": [],
   "source": []
  },
  {
   "cell_type": "code",
   "execution_count": null,
   "metadata": {},
   "outputs": [],
   "source": []
  },
  {
   "cell_type": "code",
   "execution_count": null,
   "metadata": {},
   "outputs": [],
   "source": []
  },
  {
   "cell_type": "code",
   "execution_count": 14,
   "metadata": {},
   "outputs": [],
   "source": [
    "X_train, X_dev, y_train, y_dev = sklearn.model_selection.train_test_split(X_train, y_train, test_size=0.1, random_state=42, shuffle=True)"
   ]
  },
  {
   "cell_type": "code",
   "execution_count": 15,
   "metadata": {},
   "outputs": [
    {
     "name": "stdout",
     "output_type": "stream",
     "text": [
      "(12084, 43)\n",
      "(12084,)\n",
      "(1343, 43)\n",
      "(1343,)\n"
     ]
    }
   ],
   "source": [
    "print(X_train.shape)\n",
    "print(y_train.shape)\n",
    "print(X_dev.shape)\n",
    "print(y_dev.shape)"
   ]
  },
  {
   "cell_type": "code",
   "execution_count": 16,
   "metadata": {},
   "outputs": [
    {
     "data": {
      "text/html": [
       "<div>\n",
       "<style scoped>\n",
       "    .dataframe tbody tr th:only-of-type {\n",
       "        vertical-align: middle;\n",
       "    }\n",
       "\n",
       "    .dataframe tbody tr th {\n",
       "        vertical-align: top;\n",
       "    }\n",
       "\n",
       "    .dataframe thead th {\n",
       "        text-align: right;\n",
       "    }\n",
       "</style>\n",
       "<table border=\"1\" class=\"dataframe\">\n",
       "  <thead>\n",
       "    <tr style=\"text-align: right;\">\n",
       "      <th></th>\n",
       "      <th>bin_count</th>\n",
       "      <th>bin_count_early</th>\n",
       "      <th>bin_count_stopless</th>\n",
       "      <th>word_overlap_features</th>\n",
       "      <th>wrf_hl_fake</th>\n",
       "      <th>wrf_hl_fraud</th>\n",
       "      <th>wrf_hl_hoax</th>\n",
       "      <th>wrf_hl_false</th>\n",
       "      <th>wrf_hl_deny</th>\n",
       "      <th>wrf_hl_denies</th>\n",
       "      <th>...</th>\n",
       "      <th>chargram_2_first_hits</th>\n",
       "      <th>chargram_8_hits</th>\n",
       "      <th>chargram_8_early_hits</th>\n",
       "      <th>chargram_8_first_hits</th>\n",
       "      <th>chargram_4_hits</th>\n",
       "      <th>chargram_4_early_hits</th>\n",
       "      <th>chargram_4_first_hits</th>\n",
       "      <th>chargram_16_hits</th>\n",
       "      <th>chargram_16_early_hits</th>\n",
       "      <th>chargram_16_first_hits</th>\n",
       "    </tr>\n",
       "  </thead>\n",
       "  <tbody>\n",
       "    <tr>\n",
       "      <th>21452</th>\n",
       "      <td>9</td>\n",
       "      <td>9</td>\n",
       "      <td>7</td>\n",
       "      <td>0.029762</td>\n",
       "      <td>0</td>\n",
       "      <td>0</td>\n",
       "      <td>0</td>\n",
       "      <td>0</td>\n",
       "      <td>0</td>\n",
       "      <td>0</td>\n",
       "      <td>...</td>\n",
       "      <td>1</td>\n",
       "      <td>0</td>\n",
       "      <td>0</td>\n",
       "      <td>0</td>\n",
       "      <td>0</td>\n",
       "      <td>0</td>\n",
       "      <td>0</td>\n",
       "      <td>0</td>\n",
       "      <td>0</td>\n",
       "      <td>0</td>\n",
       "    </tr>\n",
       "    <tr>\n",
       "      <th>46770</th>\n",
       "      <td>11</td>\n",
       "      <td>5</td>\n",
       "      <td>7</td>\n",
       "      <td>0.115789</td>\n",
       "      <td>0</td>\n",
       "      <td>0</td>\n",
       "      <td>0</td>\n",
       "      <td>0</td>\n",
       "      <td>0</td>\n",
       "      <td>0</td>\n",
       "      <td>...</td>\n",
       "      <td>3</td>\n",
       "      <td>0</td>\n",
       "      <td>0</td>\n",
       "      <td>0</td>\n",
       "      <td>0</td>\n",
       "      <td>0</td>\n",
       "      <td>0</td>\n",
       "      <td>0</td>\n",
       "      <td>0</td>\n",
       "      <td>0</td>\n",
       "    </tr>\n",
       "    <tr>\n",
       "      <th>38655</th>\n",
       "      <td>9</td>\n",
       "      <td>8</td>\n",
       "      <td>5</td>\n",
       "      <td>0.059259</td>\n",
       "      <td>0</td>\n",
       "      <td>0</td>\n",
       "      <td>0</td>\n",
       "      <td>0</td>\n",
       "      <td>0</td>\n",
       "      <td>0</td>\n",
       "      <td>...</td>\n",
       "      <td>2</td>\n",
       "      <td>0</td>\n",
       "      <td>0</td>\n",
       "      <td>0</td>\n",
       "      <td>0</td>\n",
       "      <td>0</td>\n",
       "      <td>0</td>\n",
       "      <td>0</td>\n",
       "      <td>0</td>\n",
       "      <td>0</td>\n",
       "    </tr>\n",
       "    <tr>\n",
       "      <th>39514</th>\n",
       "      <td>6</td>\n",
       "      <td>6</td>\n",
       "      <td>2</td>\n",
       "      <td>0.043165</td>\n",
       "      <td>0</td>\n",
       "      <td>0</td>\n",
       "      <td>0</td>\n",
       "      <td>0</td>\n",
       "      <td>0</td>\n",
       "      <td>0</td>\n",
       "      <td>...</td>\n",
       "      <td>0</td>\n",
       "      <td>0</td>\n",
       "      <td>0</td>\n",
       "      <td>0</td>\n",
       "      <td>0</td>\n",
       "      <td>0</td>\n",
       "      <td>0</td>\n",
       "      <td>0</td>\n",
       "      <td>0</td>\n",
       "      <td>0</td>\n",
       "    </tr>\n",
       "    <tr>\n",
       "      <th>43951</th>\n",
       "      <td>5</td>\n",
       "      <td>5</td>\n",
       "      <td>3</td>\n",
       "      <td>0.026882</td>\n",
       "      <td>0</td>\n",
       "      <td>0</td>\n",
       "      <td>0</td>\n",
       "      <td>0</td>\n",
       "      <td>0</td>\n",
       "      <td>0</td>\n",
       "      <td>...</td>\n",
       "      <td>6</td>\n",
       "      <td>0</td>\n",
       "      <td>0</td>\n",
       "      <td>0</td>\n",
       "      <td>0</td>\n",
       "      <td>0</td>\n",
       "      <td>0</td>\n",
       "      <td>0</td>\n",
       "      <td>0</td>\n",
       "      <td>0</td>\n",
       "    </tr>\n",
       "  </tbody>\n",
       "</table>\n",
       "<p>5 rows × 43 columns</p>\n",
       "</div>"
      ],
      "text/plain": [
       "       bin_count  bin_count_early  bin_count_stopless  word_overlap_features  \\\n",
       "21452          9                9                   7               0.029762   \n",
       "46770         11                5                   7               0.115789   \n",
       "38655          9                8                   5               0.059259   \n",
       "39514          6                6                   2               0.043165   \n",
       "43951          5                5                   3               0.026882   \n",
       "\n",
       "       wrf_hl_fake  wrf_hl_fraud  wrf_hl_hoax  wrf_hl_false  wrf_hl_deny  \\\n",
       "21452            0             0            0             0            0   \n",
       "46770            0             0            0             0            0   \n",
       "38655            0             0            0             0            0   \n",
       "39514            0             0            0             0            0   \n",
       "43951            0             0            0             0            0   \n",
       "\n",
       "       wrf_hl_denies           ...            chargram_2_first_hits  \\\n",
       "21452              0           ...                                1   \n",
       "46770              0           ...                                3   \n",
       "38655              0           ...                                2   \n",
       "39514              0           ...                                0   \n",
       "43951              0           ...                                6   \n",
       "\n",
       "       chargram_8_hits  chargram_8_early_hits  chargram_8_first_hits  \\\n",
       "21452                0                      0                      0   \n",
       "46770                0                      0                      0   \n",
       "38655                0                      0                      0   \n",
       "39514                0                      0                      0   \n",
       "43951                0                      0                      0   \n",
       "\n",
       "       chargram_4_hits  chargram_4_early_hits  chargram_4_first_hits  \\\n",
       "21452                0                      0                      0   \n",
       "46770                0                      0                      0   \n",
       "38655                0                      0                      0   \n",
       "39514                0                      0                      0   \n",
       "43951                0                      0                      0   \n",
       "\n",
       "       chargram_16_hits  chargram_16_early_hits  chargram_16_first_hits  \n",
       "21452                 0                       0                       0  \n",
       "46770                 0                       0                       0  \n",
       "38655                 0                       0                       0  \n",
       "39514                 0                       0                       0  \n",
       "43951                 0                       0                       0  \n",
       "\n",
       "[5 rows x 43 columns]"
      ]
     },
     "execution_count": 16,
     "metadata": {},
     "output_type": "execute_result"
    }
   ],
   "source": [
    "X_train.head()"
   ]
  },
  {
   "cell_type": "code",
   "execution_count": 17,
   "metadata": {},
   "outputs": [],
   "source": [
    "clf = GradientBoostingClassifier(n_estimators=200, random_state=14128, verbose=True)"
   ]
  },
  {
   "cell_type": "code",
   "execution_count": 18,
   "metadata": {},
   "outputs": [
    {
     "name": "stdout",
     "output_type": "stream",
     "text": [
      "      Iter       Train Loss   Remaining Time \n",
      "         1       11032.4689            8.34s\n",
      "         2       10738.9873            8.30s\n",
      "         3       10494.7511            7.58s\n",
      "         4       10291.4398            6.95s\n",
      "         5       10117.9871            6.89s\n",
      "         6        9972.1088            6.67s\n",
      "         7        9846.7383            6.78s\n",
      "         8        9740.6474            6.65s\n",
      "         9        9648.7340            6.73s\n",
      "        10        9571.4335            6.67s\n",
      "        20        9156.8534            6.16s\n",
      "        30        8996.7904            6.24s\n",
      "        40        8893.0221            5.78s\n",
      "        50        8811.6276            5.38s\n",
      "        60        8744.3585            4.91s\n",
      "        70        8682.5639            4.49s\n",
      "        80        8625.2353            4.11s\n",
      "        90        8571.0818            3.74s\n",
      "       100        8517.1276            3.38s\n",
      "       200        8098.2011            0.00s\n"
     ]
    },
    {
     "data": {
      "text/plain": [
       "GradientBoostingClassifier(criterion='friedman_mse', init=None,\n",
       "              learning_rate=0.1, loss='deviance', max_depth=3,\n",
       "              max_features=None, max_leaf_nodes=None,\n",
       "              min_impurity_decrease=0.0, min_impurity_split=None,\n",
       "              min_samples_leaf=1, min_samples_split=2,\n",
       "              min_weight_fraction_leaf=0.0, n_estimators=200,\n",
       "              presort='auto', random_state=14128, subsample=1.0,\n",
       "              verbose=True, warm_start=False)"
      ]
     },
     "execution_count": 18,
     "metadata": {},
     "output_type": "execute_result"
    }
   ],
   "source": [
    "clf.fit(X_train, y_train)"
   ]
  },
  {
   "cell_type": "code",
   "execution_count": 19,
   "metadata": {},
   "outputs": [],
   "source": [
    "preds = clf.predict(X_dev)"
   ]
  },
  {
   "cell_type": "code",
   "execution_count": 20,
   "metadata": {},
   "outputs": [],
   "source": [
    "actual = y_dev"
   ]
  },
  {
   "cell_type": "code",
   "execution_count": 21,
   "metadata": {},
   "outputs": [],
   "source": [
    "from sklearn.metrics import classification_report"
   ]
  },
  {
   "cell_type": "code",
   "execution_count": 22,
   "metadata": {},
   "outputs": [
    {
     "name": "stdout",
     "output_type": "stream",
     "text": [
      "             precision    recall  f1-score   support\n",
      "\n",
      "      agree       0.77      0.19      0.30       384\n",
      "   disagree       0.50      0.03      0.06        97\n",
      "    discuss       0.68      0.98      0.81       862\n",
      "\n",
      "avg / total       0.69      0.69      0.61      1343\n",
      "\n"
     ]
    }
   ],
   "source": [
    "print(classification_report(actual, preds))"
   ]
  },
  {
   "cell_type": "code",
   "execution_count": null,
   "metadata": {},
   "outputs": [],
   "source": [
    "# 3-class problem: guessing the most common class (discuss) would yield approx. 66% accuracy.\n",
    "# The baseline model instead yields 69% acc., suggesting only a small improvement beyond random."
   ]
  },
  {
   "cell_type": "code",
   "execution_count": 23,
   "metadata": {},
   "outputs": [
    {
     "data": {
      "text/plain": [
       "discuss     0.665922\n",
       "agree       0.272592\n",
       "disagree    0.061486\n",
       "Name: Stance, dtype: float64"
      ]
     },
     "execution_count": 23,
     "metadata": {},
     "output_type": "execute_result"
    }
   ],
   "source": [
    "y_train.value_counts(normalize=True)"
   ]
  },
  {
   "cell_type": "code",
   "execution_count": null,
   "metadata": {},
   "outputs": [],
   "source": []
  },
  {
   "cell_type": "code",
   "execution_count": null,
   "metadata": {},
   "outputs": [],
   "source": []
  },
  {
   "cell_type": "code",
   "execution_count": 30,
   "metadata": {},
   "outputs": [],
   "source": [
    "crf = sklearn.ensemble.RandomForestClassifier(n_estimators=200, n_jobs=8, random_state=42)"
   ]
  },
  {
   "cell_type": "code",
   "execution_count": 31,
   "metadata": {},
   "outputs": [
    {
     "data": {
      "text/plain": [
       "RandomForestClassifier(bootstrap=True, class_weight=None, criterion='gini',\n",
       "            max_depth=None, max_features='auto', max_leaf_nodes=None,\n",
       "            min_impurity_decrease=0.0, min_impurity_split=None,\n",
       "            min_samples_leaf=1, min_samples_split=2,\n",
       "            min_weight_fraction_leaf=0.0, n_estimators=200, n_jobs=8,\n",
       "            oob_score=False, random_state=42, verbose=0, warm_start=False)"
      ]
     },
     "execution_count": 31,
     "metadata": {},
     "output_type": "execute_result"
    }
   ],
   "source": [
    "crf.fit(X_train, y_train)"
   ]
  },
  {
   "cell_type": "code",
   "execution_count": 32,
   "metadata": {},
   "outputs": [
    {
     "name": "stdout",
     "output_type": "stream",
     "text": [
      "             precision    recall  f1-score   support\n",
      "\n",
      "      agree       0.56      0.23      0.33       331\n",
      "   disagree       0.85      0.11      0.19       102\n",
      "    discuss       0.68      0.84      0.75       876\n",
      "  unrelated       0.96      0.98      0.97      3689\n",
      "\n",
      "avg / total       0.88      0.89      0.87      4998\n",
      "\n"
     ]
    }
   ],
   "source": [
    "preds = crf.predict(X_dev)\n",
    "print(classification_report(y_dev, preds))"
   ]
  },
  {
   "cell_type": "code",
   "execution_count": 34,
   "metadata": {},
   "outputs": [
    {
     "data": {
      "text/plain": [
       "unrelated    0.730555\n",
       "discuss      0.178614\n",
       "agree        0.074421\n",
       "disagree     0.016409\n",
       "Name: Stance, dtype: float64"
      ]
     },
     "execution_count": 34,
     "metadata": {},
     "output_type": "execute_result"
    }
   ],
   "source": [
    "y_train.value_counts(normalize=True)"
   ]
  },
  {
   "cell_type": "code",
   "execution_count": 35,
   "metadata": {},
   "outputs": [],
   "source": [
    "# 4-class problem:\n",
    "# By guessing most common category (unrelated), we would achieve approx. 73% accuracy. The baseline model achieves 88%."
   ]
  },
  {
   "cell_type": "code",
   "execution_count": null,
   "metadata": {},
   "outputs": [],
   "source": []
  }
 ],
 "metadata": {
  "kernelspec": {
   "display_name": "Python 3",
   "language": "python",
   "name": "python3"
  },
  "language_info": {
   "codemirror_mode": {
    "name": "ipython",
    "version": 3
   },
   "file_extension": ".py",
   "mimetype": "text/x-python",
   "name": "python",
   "nbconvert_exporter": "python",
   "pygments_lexer": "ipython3",
   "version": "3.6.5"
  }
 },
 "nbformat": 4,
 "nbformat_minor": 2
}
