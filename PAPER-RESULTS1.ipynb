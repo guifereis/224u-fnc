{
 "cells": [
  {
   "cell_type": "code",
   "execution_count": 1,
   "metadata": {},
   "outputs": [
    {
     "name": "stdout",
     "output_type": "stream",
     "text": [
      "[nltk_data] Downloading package averaged_perceptron_tagger to\n",
      "[nltk_data]     /home/gui/nltk_data...\n",
      "[nltk_data]   Package averaged_perceptron_tagger is already up-to-\n",
      "[nltk_data]       date!\n"
     ]
    },
    {
     "name": "stderr",
     "output_type": "stream",
     "text": [
      "/home/gui/anaconda3/envs/nlu4/lib/python3.6/site-packages/nltk/twitter/__init__.py:20: UserWarning: The twython library has not been installed. Some functionality from the twitter package will not be available.\n",
      "  warnings.warn(\"The twython library has not been installed. \"\n"
     ]
    }
   ],
   "source": [
    "import pandas as pd\n",
    "import numpy as np\n",
    "import sklearn\n",
    "import os\n",
    "from tqdm import tqdm, trange, tqdm_notebook\n",
    "import re\n",
    "import nltk\n",
    "from multiprocessing import cpu_count, Pool\n",
    "from functools import partial\n",
    "import ipywidgets\n",
    "from sklearn.ensemble import GradientBoostingClassifier\n",
    "from sklearn.metrics import classification_report\n",
    "from rewrite.scorer import score_4class\n",
    "import utils # utils from CS224U\n",
    "from scipy.spatial import distance\n",
    "import random\n",
    "tqdm.pandas()\n",
    "nltk.download('averaged_perceptron_tagger')\n",
    "from nltk.sentiment import vader"
   ]
  },
  {
   "cell_type": "code",
   "execution_count": 2,
   "metadata": {},
   "outputs": [],
   "source": [
    "def del_str_cols(df): # df should be X, e.g. X_train or X_dev\n",
    "    to_del_names = [\"articleBody\", \"Headline\", \"Body ID\"]\n",
    "    for name in to_del_names:\n",
    "        if name in df.columns:\n",
    "            del df[name]\n",
    "    for col_name in df.columns:\n",
    "        if \"___\" == col_name[0:3]:\n",
    "            del df[col_name]\n",
    "            \n",
    "def print_reports(preds, actual):\n",
    "    print(classification_report(actual, preds))\n",
    "    score, max_score = score_4class(actual, preds)\n",
    "    print(\"Weighted accuracy: \"+str(score/max_score)+\" (\"+str(score)+\" out of \"+str(max_score)+\")\")\n",
    "\n",
    "def print_feature_importances(model, df):\n",
    "    feat_imp = model.feature_importances_\n",
    "    indices = np.argsort(feat_imp)[::-1]\n",
    "    for ii in indices:\n",
    "        print(df.columns[ii]+\": \"+str(feat_imp[ii]))\n",
    "        \n",
    "# Usage: pass Xy_train (or a df with Body ID col., and y col. as well)\n",
    "# returns the same format of df, but spplit so that no body ID is shared between sets\n",
    "proportion_for_holdout_dev_set = 0.2\n",
    "def disjoint_train_test_split(Xy, frac_for_test_set=proportion_for_holdout_dev_set, random_state=42):\n",
    "    r = random.Random()\n",
    "    r.seed(random_state)\n",
    "    Xy_IDs = list(set(Xy[\"Body ID\"]))\n",
    "    print(\"Total unique IDs: \"+str(len(Xy_IDs)))\n",
    "    r.shuffle(Xy_IDs)\n",
    "    num_IDs_for_train = int((1-frac_for_test_set)*len(Xy_IDs))\n",
    "    train_IDs = Xy_IDs[:num_IDs_for_train]\n",
    "    test_IDs = Xy_IDs[num_IDs_for_train:]\n",
    "    train_df = Xy[Xy[\"Body ID\"].isin(train_IDs)]\n",
    "    test_df = Xy[Xy[\"Body ID\"].isin(test_IDs)]\n",
    "    print(\"# instances in train: \"+str(train_df.shape[0]))\n",
    "    print(\"# instances in test: \"+str(test_df.shape[0]))\n",
    "    assert len(set(train_df[\"Body ID\"].unique()) & set(test_df[\"Body ID\"].unique())) == 0 # totally disjoint\n",
    "    return train_df, test_df"
   ]
  },
  {
   "cell_type": "code",
   "execution_count": 3,
   "metadata": {},
   "outputs": [],
   "source": [
    "from multiprocessing import cpu_count, Pool\n",
    "cores = cpu_count() \n",
    "partitions = cores\n",
    "def parallelize(data, func):\n",
    "    data_split = np.array_split(data, partitions)\n",
    "    pool = Pool(cores)\n",
    "    data = pd.concat(pool.map(func, data_split))\n",
    "    pool.close()\n",
    "    pool.join()\n",
    "    return data"
   ]
  },
  {
   "cell_type": "code",
   "execution_count": 4,
   "metadata": {},
   "outputs": [],
   "source": [
    "##### ADD OUR FEATURES\n",
    "# START SENTIMENT ANALYSIS\n",
    "def vader_pol_helper(df):\n",
    "    return df.apply(lambda hl: pd.Series(sid.polarity_scores(hl)))\n",
    "sid = vader.SentimentIntensityAnalyzer() # global scope for parallelization\n",
    "def add_vader_sent(X_df):\n",
    "    def vader_polarity_scores(df, text_col_name, col_name_prefix):\n",
    "        pol_scores = parallelize(df[text_col_name], vader_pol_helper)\n",
    "        #pol_scores = df[text_col_name].progress_apply(lambda hl: pd.Series(sid.polarity_scores(hl)))\n",
    "        cols = pol_scores.columns\n",
    "        new_cols = []\n",
    "        for col_name in cols:\n",
    "            new_cols.append(\"vader_\"+col_name_prefix+\"_\"+col_name)\n",
    "        pol_scores.columns = new_cols\n",
    "        return pol_scores\n",
    "\n",
    "    vader_hl_df = vader_polarity_scores(X_df, \"Headline\", \"hl\")\n",
    "    vader_body_df = vader_polarity_scores(X_df, \"articleBody\", \"body\")\n",
    "    X_df = pd.concat([X_df, vader_hl_df, vader_body_df], axis=1)\n",
    "    return X_df\n",
    "\n",
    "# END SENTIMENT ANALYSIS\n",
    "### GLOVE ####\n",
    "glove_dim = 200\n",
    "glove_src = os.path.join(\"GloVe\", 'glove.6B.'+str(glove_dim)+'d.txt')\n",
    "GLOVE = utils.glove2dict(glove_src)\n",
    "def text_to_mean_vec_ignore_unk(text, w2v=GLOVE, dim=glove_dim):\n",
    "    vec = np.zeros(dim)\n",
    "    num_added = 0\n",
    "    for word in text:\n",
    "        if word in w2v:\n",
    "            vec += w2v[word]\n",
    "            num_added += 1\n",
    "    if num_added > 0:\n",
    "        return vec/num_added\n",
    "    else:\n",
    "        return np.array([random.uniform(-0.5, 0.5) for i in range(glove_dim)])\n",
    "def get_glove_cos_dist_hl_body(row):\n",
    "    hl = row[\"___clean_headline_tokenized_lemmas\"]\n",
    "    body = row[\"___clean_body_tokenized_lemmas\"]\n",
    "    hl_vec = text_to_mean_vec_ignore_unk(hl)\n",
    "    body_vec = text_to_mean_vec_ignore_unk(body)\n",
    "    cosine_dist = distance.cosine(hl_vec, body_vec) # cosine() from scipy\n",
    "    return cosine_dist\n",
    "\n",
    "def get_verbs(text):\n",
    "    verbs = [token for token, pos in nltk.pos_tag(text) if pos.startswith('VB')]\n",
    "    verbs_sentence = ' '.join(word[0] for word in verbs)\n",
    "    return verbs_sentence\n",
    " \n",
    "def get_verb_glove_cos_dist_hl_body(row):\n",
    "    hl = row[\"___clean_headline_tokenized_lemmas\"]\n",
    "    body = row[\"___clean_body_tokenized_lemmas\"]\n",
    "    \n",
    "    hl_verbs = get_verbs(hl)\n",
    "    body_verbs = get_verbs(body)\n",
    "    \n",
    "    hl_vec = text_to_mean_vec_ignore_unk(hl_verbs)\n",
    "    body_vec = text_to_mean_vec_ignore_unk(body_verbs)\n",
    "    cosine_dist = distance.cosine(hl_vec, body_vec) # cosine() from scipy\n",
    "    return cosine_dist\n",
    "\n",
    "def hl_body_glove_cos_dist_helper(X_df):\n",
    "    return X_df[[\"___clean_headline_tokenized_lemmas\", \"___clean_body_tokenized_lemmas\"]].apply(get_glove_cos_dist_hl_body, axis=1)\n",
    "\n",
    "def hl_body_glove_verb_helper(X_df):\n",
    "    return X_df[[\"___clean_headline_tokenized_lemmas\", \"___clean_body_tokenized_lemmas\"]].apply(get_verb_glove_cos_dist_hl_body, axis=1)\n",
    "\n",
    "### END GLOVE CODE BLOCK\n",
    "def add_all_features(X_df, parallel=True):\n",
    "    print(\"Adding glove feature #1...\", flush=True)\n",
    "    X_df[\"hl_body_glove_\"+str(glove_dim)+\"_cos_dist\"] = parallelize(X_df, hl_body_glove_cos_dist_helper)\n",
    "    print(\"Adding glove feature #2...\", flush=True)\n",
    "    X_df[\"hl_body_verb_glove_\"+str(glove_dim)+\"_cos_dist\"] = parallelize(X_df, hl_body_glove_verb_helper)\n",
    "    print(\"Adding VADER sentiment...\", flush=True)\n",
    "    X_df = add_vader_sent(X_df)\n",
    "    return X_df"
   ]
  },
  {
   "cell_type": "code",
   "execution_count": null,
   "metadata": {},
   "outputs": [],
   "source": []
  },
  {
   "cell_type": "code",
   "execution_count": 5,
   "metadata": {},
   "outputs": [
    {
     "name": "stdout",
     "output_type": "stream",
     "text": [
      "(39437, 43)\n",
      "(10535, 43)\n",
      "(25413, 43)\n",
      "(39437,)\n",
      "(10535,)\n",
      "(25413,)\n"
     ]
    }
   ],
   "source": [
    "# Row 1: baseline (original features)\n",
    "X_train = pd.read_hdf(\"X_train_disjoint-allfeatures.h5\", key=\"df\")\n",
    "X_dev = pd.read_hdf(\"X_dev_disjoint-allfeatures.h5\", key=\"df\")\n",
    "X_test = pd.read_hdf(\"X_TEST-allfeatures.h5\", key=\"df\")\n",
    "\n",
    "y_train = pd.read_hdf(\"y_train_disjoint.h5\", key=\"df\")\n",
    "y_dev = pd.read_hdf(\"y_dev_disjoint.h5\", key=\"df\")\n",
    "y_test = pd.read_hdf(\"y_TEST_disjoint.h5\", key=\"df\")\n",
    "\n",
    "\n",
    "del_str_cols(X_train)\n",
    "del_str_cols(X_dev)\n",
    "del_str_cols(X_test)\n",
    "\n",
    "y_train = y_train[\"Stance\"]\n",
    "y_dev = y_dev[\"Stance\"]\n",
    "y_test = y_test[\"Stance\"]\n",
    "\n",
    "\n",
    "print(X_train.shape)\n",
    "print(X_dev.shape)\n",
    "print(X_test.shape)\n",
    "\n",
    "print(y_train.shape)\n",
    "print(y_dev.shape)\n",
    "print(y_test.shape)"
   ]
  },
  {
   "cell_type": "code",
   "execution_count": 6,
   "metadata": {},
   "outputs": [
    {
     "data": {
      "text/plain": [
       "Index(['bin_count', 'bin_count_early', 'bin_count_stopless',\n",
       "       'word_overlap_features', 'wrf_hl_fake', 'wrf_hl_fraud', 'wrf_hl_hoax',\n",
       "       'wrf_hl_false', 'wrf_hl_deny', 'wrf_hl_denies', 'wrf_hl_not',\n",
       "       'wrf_hl_despite', 'wrf_hl_nope', 'wrf_hl_doubt', 'wrf_hl_doubts',\n",
       "       'wrf_hl_bogus', 'wrf_hl_debunk', 'wrf_hl_pranks', 'wrf_hl_retract',\n",
       "       'polar_hl', 'polar_body', 'ngram_2_hits', 'ngram_2_early_hits',\n",
       "       'ngram_3_hits', 'ngram_3_early_hits', 'ngram_4_hits',\n",
       "       'ngram_4_early_hits', 'ngram_5_hits', 'ngram_5_early_hits',\n",
       "       'ngram_6_hits', 'ngram_6_early_hits', 'chargram_2_hits',\n",
       "       'chargram_2_early_hits', 'chargram_2_first_hits', 'chargram_8_hits',\n",
       "       'chargram_8_early_hits', 'chargram_8_first_hits', 'chargram_4_hits',\n",
       "       'chargram_4_early_hits', 'chargram_4_first_hits', 'chargram_16_hits',\n",
       "       'chargram_16_early_hits', 'chargram_16_first_hits'],\n",
       "      dtype='object')"
      ]
     },
     "execution_count": 6,
     "metadata": {},
     "output_type": "execute_result"
    }
   ],
   "source": [
    "X_train.columns"
   ]
  },
  {
   "cell_type": "code",
   "execution_count": 6,
   "metadata": {},
   "outputs": [
    {
     "name": "stdout",
     "output_type": "stream",
     "text": [
      "      Iter       Train Loss   Remaining Time \n",
      "         1       38543.0199           37.74s\n",
      "         2       34470.7567           37.39s\n",
      "         3       31183.3578           36.38s\n",
      "         4       28493.2940           35.99s\n",
      "         5       26268.4467           35.09s\n",
      "         6       24427.0648           34.81s\n",
      "         7       22876.9363           34.32s\n",
      "         8       21561.6821           34.55s\n",
      "         9       20439.7047           35.45s\n",
      "        10       19482.1192           35.69s\n",
      "        20       14985.1799           32.48s\n",
      "        30       13669.5846           30.23s\n",
      "        40       13135.8778           27.99s\n",
      "        50       12833.9941           26.77s\n",
      "        60       12634.6740           24.42s\n",
      "        70       12480.9239           22.18s\n",
      "        80       12340.8888           20.31s\n",
      "        90       12228.5490           18.44s\n",
      "       100       12133.4420           16.65s\n",
      "       200       11469.8073            0.00s\n"
     ]
    },
    {
     "data": {
      "text/plain": [
       "GradientBoostingClassifier(criterion='friedman_mse', init=None,\n",
       "              learning_rate=0.1, loss='deviance', max_depth=3,\n",
       "              max_features=None, max_leaf_nodes=None,\n",
       "              min_impurity_decrease=0.0, min_impurity_split=None,\n",
       "              min_samples_leaf=1, min_samples_split=2,\n",
       "              min_weight_fraction_leaf=0.0, n_estimators=200,\n",
       "              presort='auto', random_state=14128, subsample=1.0,\n",
       "              verbose=True, warm_start=False)"
      ]
     },
     "execution_count": 6,
     "metadata": {},
     "output_type": "execute_result"
    }
   ],
   "source": [
    "clf = GradientBoostingClassifier(n_estimators=200, random_state=14128, verbose=True)\n",
    "clf.fit(X_train, y_train)"
   ]
  },
  {
   "cell_type": "code",
   "execution_count": 7,
   "metadata": {},
   "outputs": [
    {
     "name": "stdout",
     "output_type": "stream",
     "text": [
      "DEV results:\n",
      "             precision    recall  f1-score   support\n",
      "\n",
      "      agree       0.53      0.13      0.21       784\n",
      "   disagree       0.42      0.02      0.05       209\n",
      "    discuss       0.63      0.83      0.72      1805\n",
      "  unrelated       0.95      0.98      0.97      7737\n",
      "\n",
      "avg / total       0.86      0.87      0.85     10535\n",
      "\n",
      "Weighted accuracy: 0.7838237624808495 (3709.25 out of 4732.25)\n",
      "TEST results:\n",
      "             precision    recall  f1-score   support\n",
      "\n",
      "      agree       0.36      0.09      0.14      1903\n",
      "   disagree       0.04      0.00      0.00       697\n",
      "    discuss       0.61      0.79      0.69      4464\n",
      "  unrelated       0.94      0.98      0.96     18349\n",
      "\n",
      "avg / total       0.81      0.85      0.82     25413\n",
      "\n",
      "Weighted accuracy: 0.7499409934556378 (8737.75 out of 11651.25)\n"
     ]
    }
   ],
   "source": [
    "print(\"DEV results:\")\n",
    "dev_preds = clf.predict(X_dev)\n",
    "print_reports(dev_preds, y_dev)\n",
    "\n",
    "print(\"TEST results:\")\n",
    "test_preds = clf.predict(X_test)\n",
    "print_reports(test_preds, y_test)"
   ]
  },
  {
   "cell_type": "code",
   "execution_count": 10,
   "metadata": {},
   "outputs": [],
   "source": [
    "full_X_train = pd.concat([X_train, X_dev], axis=0)\n",
    "full_y_train = pd.concat([y_train, y_dev], axis=0)"
   ]
  },
  {
   "cell_type": "code",
   "execution_count": 12,
   "metadata": {},
   "outputs": [
    {
     "name": "stdout",
     "output_type": "stream",
     "text": [
      "(49972, 43)\n",
      "(49972,)\n"
     ]
    }
   ],
   "source": [
    "print(full_X_train.shape)\n",
    "print(full_y_train.shape)"
   ]
  },
  {
   "cell_type": "code",
   "execution_count": 13,
   "metadata": {},
   "outputs": [
    {
     "name": "stdout",
     "output_type": "stream",
     "text": [
      "      Iter       Train Loss   Remaining Time \n",
      "         1       48868.0741           45.13s\n",
      "         2       43745.7709           46.12s\n",
      "         3       39601.0539           45.24s\n",
      "         4       36213.3368           44.46s\n",
      "         5       33427.7789           43.39s\n",
      "         6       31087.8740           43.11s\n",
      "         7       29137.3133           42.95s\n",
      "         8       27481.4656           42.82s\n",
      "         9       26080.3993           42.44s\n",
      "        10       24909.3943           42.17s\n",
      "        20       19265.8387           38.98s\n",
      "        30       17711.8192           36.26s\n",
      "        40       17042.8985           33.52s\n",
      "        50       16687.1888           30.86s\n",
      "        60       16429.2591           28.47s\n",
      "        70       16242.2205           26.14s\n",
      "        80       16089.9454           23.89s\n",
      "        90       15960.3625           21.78s\n",
      "       100       15845.6934           19.74s\n",
      "       200       15073.3888            0.00s\n"
     ]
    },
    {
     "data": {
      "text/plain": [
       "GradientBoostingClassifier(criterion='friedman_mse', init=None,\n",
       "              learning_rate=0.1, loss='deviance', max_depth=3,\n",
       "              max_features=None, max_leaf_nodes=None,\n",
       "              min_impurity_decrease=0.0, min_impurity_split=None,\n",
       "              min_samples_leaf=1, min_samples_split=2,\n",
       "              min_weight_fraction_leaf=0.0, n_estimators=200,\n",
       "              presort='auto', random_state=14128, subsample=1.0,\n",
       "              verbose=True, warm_start=False)"
      ]
     },
     "execution_count": 13,
     "metadata": {},
     "output_type": "execute_result"
    }
   ],
   "source": [
    "clf_full = GradientBoostingClassifier(n_estimators=200, random_state=14128, verbose=True)\n",
    "clf_full.fit(full_X_train, full_y_train)"
   ]
  },
  {
   "cell_type": "code",
   "execution_count": 14,
   "metadata": {},
   "outputs": [
    {
     "name": "stdout",
     "output_type": "stream",
     "text": [
      "TEST results (trained on train+dev):\n",
      "             precision    recall  f1-score   support\n",
      "\n",
      "      agree       0.39      0.09      0.14      1903\n",
      "   disagree       0.17      0.01      0.01       697\n",
      "    discuss       0.61      0.80      0.70      4464\n",
      "  unrelated       0.94      0.98      0.96     18349\n",
      "\n",
      "avg / total       0.82      0.85      0.82     25413\n",
      "\n",
      "Weighted accuracy: 0.7527303937345778 (8770.25 out of 11651.25)\n"
     ]
    }
   ],
   "source": [
    "print(\"TEST results (trained on train+dev):\")\n",
    "test_preds = clf_full.predict(X_test)\n",
    "print_reports(test_preds, y_test)"
   ]
  },
  {
   "cell_type": "code",
   "execution_count": null,
   "metadata": {},
   "outputs": [],
   "source": [
    "---------"
   ]
  },
  {
   "cell_type": "code",
   "execution_count": null,
   "metadata": {},
   "outputs": [],
   "source": []
  },
  {
   "cell_type": "code",
   "execution_count": 5,
   "metadata": {},
   "outputs": [
    {
     "name": "stdout",
     "output_type": "stream",
     "text": [
      "(39437, 53)\n",
      "(10535, 53)\n",
      "(25413, 53)\n",
      "(39437,)\n",
      "(10535,)\n",
      "(25413,)\n"
     ]
    }
   ],
   "source": [
    "# Row 2: Baseline + 3 features\n",
    "X_train = pd.read_hdf(\"X_train_disjoint-allfeatures-2.h5\", key=\"df\")\n",
    "X_dev = pd.read_hdf(\"X_dev_disjoint-allfeatures-2.h5\", key=\"df\")\n",
    "X_test = pd.read_hdf(\"X_TEST-allfeatures-2.h5\", key=\"df\")\n",
    "\n",
    "y_train = pd.read_hdf(\"y_train_disjoint.h5\", key=\"df\")\n",
    "y_dev = pd.read_hdf(\"y_dev_disjoint.h5\", key=\"df\")\n",
    "y_test = pd.read_hdf(\"y_TEST_disjoint.h5\", key=\"df\")\n",
    "\n",
    "\n",
    "del_str_cols(X_train)\n",
    "del_str_cols(X_dev)\n",
    "del_str_cols(X_test)\n",
    "\n",
    "y_train = y_train[\"Stance\"]\n",
    "y_dev = y_dev[\"Stance\"]\n",
    "y_test = y_test[\"Stance\"]\n",
    "\n",
    "\n",
    "print(X_train.shape)\n",
    "print(X_dev.shape)\n",
    "print(X_test.shape)\n",
    "\n",
    "print(y_train.shape)\n",
    "print(y_dev.shape)\n",
    "print(y_test.shape)"
   ]
  },
  {
   "cell_type": "code",
   "execution_count": 7,
   "metadata": {},
   "outputs": [
    {
     "data": {
      "text/plain": [
       "Index(['bin_count', 'bin_count_early', 'bin_count_stopless',\n",
       "       'word_overlap_features', 'wrf_hl_fake', 'wrf_hl_fraud', 'wrf_hl_hoax',\n",
       "       'wrf_hl_false', 'wrf_hl_deny', 'wrf_hl_denies', 'wrf_hl_not',\n",
       "       'wrf_hl_despite', 'wrf_hl_nope', 'wrf_hl_doubt', 'wrf_hl_doubts',\n",
       "       'wrf_hl_bogus', 'wrf_hl_debunk', 'wrf_hl_pranks', 'wrf_hl_retract',\n",
       "       'polar_hl', 'polar_body', 'ngram_2_hits', 'ngram_2_early_hits',\n",
       "       'ngram_3_hits', 'ngram_3_early_hits', 'ngram_4_hits',\n",
       "       'ngram_4_early_hits', 'ngram_5_hits', 'ngram_5_early_hits',\n",
       "       'ngram_6_hits', 'ngram_6_early_hits', 'chargram_2_hits',\n",
       "       'chargram_2_early_hits', 'chargram_2_first_hits', 'chargram_8_hits',\n",
       "       'chargram_8_early_hits', 'chargram_8_first_hits', 'chargram_4_hits',\n",
       "       'chargram_4_early_hits', 'chargram_4_first_hits', 'chargram_16_hits',\n",
       "       'chargram_16_early_hits', 'chargram_16_first_hits',\n",
       "       'hl_body_glove_200_cos_dist', 'hl_body_verb_glove_200_cos_dist',\n",
       "       'vader_hl_neg', 'vader_hl_neu', 'vader_hl_pos', 'vader_hl_compound',\n",
       "       'vader_body_neg', 'vader_body_neu', 'vader_body_pos',\n",
       "       'vader_body_compound'],\n",
       "      dtype='object')"
      ]
     },
     "execution_count": 7,
     "metadata": {},
     "output_type": "execute_result"
    }
   ],
   "source": [
    "X_train.columns"
   ]
  },
  {
   "cell_type": "code",
   "execution_count": 6,
   "metadata": {},
   "outputs": [
    {
     "data": {
      "text/plain": [
       "Index(['bin_count', 'bin_count_early', 'bin_count_stopless',\n",
       "       'word_overlap_features', 'wrf_hl_fake', 'wrf_hl_fraud', 'wrf_hl_hoax',\n",
       "       'wrf_hl_false', 'wrf_hl_deny', 'wrf_hl_denies', 'wrf_hl_not',\n",
       "       'wrf_hl_despite', 'wrf_hl_nope', 'wrf_hl_doubt', 'wrf_hl_doubts',\n",
       "       'wrf_hl_bogus', 'wrf_hl_debunk', 'wrf_hl_pranks', 'wrf_hl_retract',\n",
       "       'polar_hl', 'polar_body', 'ngram_2_hits', 'ngram_2_early_hits',\n",
       "       'ngram_3_hits', 'ngram_3_early_hits', 'ngram_4_hits',\n",
       "       'ngram_4_early_hits', 'ngram_5_hits', 'ngram_5_early_hits',\n",
       "       'ngram_6_hits', 'ngram_6_early_hits', 'chargram_2_hits',\n",
       "       'chargram_2_early_hits', 'chargram_2_first_hits', 'chargram_8_hits',\n",
       "       'chargram_8_early_hits', 'chargram_8_first_hits', 'chargram_4_hits',\n",
       "       'chargram_4_early_hits', 'chargram_4_first_hits', 'chargram_16_hits',\n",
       "       'chargram_16_early_hits', 'chargram_16_first_hits',\n",
       "       'hl_body_glove_200_cos_dist', 'hl_body_verb_glove_200_cos_dist',\n",
       "       'vader_hl_neg', 'vader_hl_neu', 'vader_hl_pos', 'vader_hl_compound',\n",
       "       'vader_body_neg', 'vader_body_neu', 'vader_body_pos',\n",
       "       'vader_body_compound'],\n",
       "      dtype='object')"
      ]
     },
     "execution_count": 6,
     "metadata": {},
     "output_type": "execute_result"
    }
   ],
   "source": [
    "X_test.columns"
   ]
  },
  {
   "cell_type": "code",
   "execution_count": 8,
   "metadata": {},
   "outputs": [
    {
     "name": "stdout",
     "output_type": "stream",
     "text": [
      "      Iter       Train Loss   Remaining Time \n",
      "         1       38536.1616           54.50s\n",
      "         2       34452.7665           55.15s\n",
      "         3       31155.7738           53.94s\n",
      "         4       28454.5056           53.13s\n",
      "         5       26224.7660           52.10s\n",
      "         6       24357.8561           51.40s\n",
      "         7       22789.9342           50.88s\n",
      "         8       21469.7664           50.51s\n",
      "         9       20336.3581           50.14s\n",
      "        10       19386.5215           49.68s\n",
      "        20       14712.6815           47.05s\n",
      "        30       13239.1760           44.34s\n",
      "        40       12549.6913           41.31s\n",
      "        50       12071.9573           37.97s\n",
      "        60       11714.0419           34.80s\n",
      "        70       11437.0315           31.77s\n",
      "        80       11196.0321           29.12s\n",
      "        90       10966.1043           26.48s\n",
      "       100       10757.8354           23.87s\n",
      "       200        9280.4048            0.00s\n"
     ]
    },
    {
     "data": {
      "text/plain": [
       "GradientBoostingClassifier(criterion='friedman_mse', init=None,\n",
       "              learning_rate=0.1, loss='deviance', max_depth=3,\n",
       "              max_features=None, max_leaf_nodes=None,\n",
       "              min_impurity_decrease=0.0, min_impurity_split=None,\n",
       "              min_samples_leaf=1, min_samples_split=2,\n",
       "              min_weight_fraction_leaf=0.0, n_estimators=200,\n",
       "              presort='auto', random_state=14128, subsample=1.0,\n",
       "              verbose=True, warm_start=False)"
      ]
     },
     "execution_count": 8,
     "metadata": {},
     "output_type": "execute_result"
    }
   ],
   "source": [
    "clf = GradientBoostingClassifier(n_estimators=200, random_state=14128, verbose=True)\n",
    "clf.fit(X_train, y_train)"
   ]
  },
  {
   "cell_type": "code",
   "execution_count": 9,
   "metadata": {},
   "outputs": [
    {
     "name": "stdout",
     "output_type": "stream",
     "text": [
      "DEV results:\n",
      "             precision    recall  f1-score   support\n",
      "\n",
      "      agree       0.53      0.23      0.32       784\n",
      "   disagree       0.65      0.06      0.11       209\n",
      "    discuss       0.65      0.83      0.73      1805\n",
      "  unrelated       0.96      0.98      0.97      7737\n",
      "\n",
      "avg / total       0.87      0.88      0.86     10535\n",
      "\n",
      "Weighted accuracy: 0.7995668022610809 (3783.75 out of 4732.25)\n"
     ]
    }
   ],
   "source": [
    "print(\"DEV results:\")\n",
    "dev_preds = clf.predict(X_dev)\n",
    "print_reports(dev_preds, y_dev)"
   ]
  },
  {
   "cell_type": "code",
   "execution_count": 10,
   "metadata": {},
   "outputs": [
    {
     "name": "stdout",
     "output_type": "stream",
     "text": [
      "(49972, 53)\n",
      "(49972,)\n"
     ]
    }
   ],
   "source": [
    "full_X_train = pd.concat([X_train, X_dev], axis=0)\n",
    "full_y_train = pd.concat([y_train, y_dev], axis=0)\n",
    "\n",
    "print(full_X_train.shape)\n",
    "print(full_y_train.shape)"
   ]
  },
  {
   "cell_type": "code",
   "execution_count": 12,
   "metadata": {},
   "outputs": [
    {
     "data": {
      "text/plain": [
       "Index(['bin_count', 'bin_count_early', 'bin_count_stopless',\n",
       "       'word_overlap_features', 'wrf_hl_fake', 'wrf_hl_fraud', 'wrf_hl_hoax',\n",
       "       'wrf_hl_false', 'wrf_hl_deny', 'wrf_hl_denies', 'wrf_hl_not',\n",
       "       'wrf_hl_despite', 'wrf_hl_nope', 'wrf_hl_doubt', 'wrf_hl_doubts',\n",
       "       'wrf_hl_bogus', 'wrf_hl_debunk', 'wrf_hl_pranks', 'wrf_hl_retract',\n",
       "       'polar_hl', 'polar_body', 'ngram_2_hits', 'ngram_2_early_hits',\n",
       "       'ngram_3_hits', 'ngram_3_early_hits', 'ngram_4_hits',\n",
       "       'ngram_4_early_hits', 'ngram_5_hits', 'ngram_5_early_hits',\n",
       "       'ngram_6_hits', 'ngram_6_early_hits', 'chargram_2_hits',\n",
       "       'chargram_2_early_hits', 'chargram_2_first_hits', 'chargram_8_hits',\n",
       "       'chargram_8_early_hits', 'chargram_8_first_hits', 'chargram_4_hits',\n",
       "       'chargram_4_early_hits', 'chargram_4_first_hits', 'chargram_16_hits',\n",
       "       'chargram_16_early_hits', 'chargram_16_first_hits',\n",
       "       'hl_body_glove_200_cos_dist', 'hl_body_verb_glove_200_cos_dist',\n",
       "       'vader_hl_neg', 'vader_hl_neu', 'vader_hl_pos', 'vader_hl_compound',\n",
       "       'vader_body_neg', 'vader_body_neu', 'vader_body_pos',\n",
       "       'vader_body_compound'],\n",
       "      dtype='object')"
      ]
     },
     "execution_count": 12,
     "metadata": {},
     "output_type": "execute_result"
    }
   ],
   "source": [
    "full_X_train.columns"
   ]
  },
  {
   "cell_type": "code",
   "execution_count": null,
   "metadata": {},
   "outputs": [
    {
     "name": "stdout",
     "output_type": "stream",
     "text": [
      "      Iter       Train Loss   Remaining Time \n",
      "         1       48859.5188            1.15m\n",
      "         2       43717.7479            1.15m\n",
      "         3       39568.3051            1.23m\n",
      "         4       36167.5023            1.20m\n",
      "         5       33365.4602            1.17m\n",
      "         6       31011.6027            1.15m\n",
      "         7       29052.9230            1.16m\n",
      "         8       27386.6775            1.15m\n",
      "         9       25996.0558            1.13m\n",
      "        10       24793.9399            1.11m\n",
      "        20       18968.9824            1.05m\n",
      "        30       17170.4099           57.65s\n",
      "        40       16301.7168           54.64s\n",
      "        50       15745.5246           50.80s\n",
      "        60       15306.1422           48.23s\n",
      "        70       14954.3029           45.11s\n",
      "        80       14683.8783           41.11s\n",
      "        90       14402.8779           37.19s\n",
      "       100       14143.2482           33.57s\n"
     ]
    }
   ],
   "source": [
    "clf_full = GradientBoostingClassifier(n_estimators=200, random_state=14128, verbose=True)\n",
    "clf_full.fit(full_X_train, full_y_train)"
   ]
  },
  {
   "cell_type": "code",
   "execution_count": null,
   "metadata": {},
   "outputs": [],
   "source": [
    "print(\"TEST results (trained on train+dev):\")\n",
    "test_preds = clf_full.predict(X_test)\n",
    "print_reports(test_preds, y_test)"
   ]
  },
  {
   "cell_type": "code",
   "execution_count": null,
   "metadata": {},
   "outputs": [],
   "source": [
    "-----"
   ]
  },
  {
   "cell_type": "code",
   "execution_count": 5,
   "metadata": {},
   "outputs": [],
   "source": [
    "# Row 3: Baseline + 3 features + 2-step\n",
    "\n",
    "X_train = pd.read_hdf(\"X_train_disjoint-allfeatures-2.h5\", key=\"df\")\n",
    "y_train = pd.read_hdf(\"y_train_disjoint.h5\", key=\"df\")\n",
    "y_train = y_train[\"Stance\"]\n",
    "\n",
    "X_dev = pd.read_hdf(\"X_dev_disjoint-allfeatures-2.h5\", key=\"df\")\n",
    "y_dev = pd.read_hdf(\"y_dev_disjoint.h5\", key=\"df\")\n",
    "y_dev = y_dev[\"Stance\"]\n",
    "del_str_cols(X_dev)\n",
    "\n",
    "X_test = pd.read_hdf(\"X_TEST-allfeatures-2.h5\", key=\"df\")\n",
    "y_test = pd.read_hdf(\"y_TEST_disjoint.h5\", key=\"df\")\n",
    "y_test = y_test[\"Stance\"]\n",
    "del_str_cols(X_test)\n",
    "\n",
    "def prep_2step_sets(X_train, y_train):\n",
    "    Xy_train = pd.concat([X_train, y_train], axis=1)\n",
    "\n",
    "    Xy_train_1 = Xy_train.copy()\n",
    "    Xy_train_1.loc[Xy_train_1[\"Stance\"] != \"unrelated\", 'Stance'] = \"related\"\n",
    "    y_train_1 = Xy_train_1[\"Stance\"]\n",
    "    X_train_1 = Xy_train_1.drop([\"Stance\"], axis=1)\n",
    "\n",
    "    Xy_train_2 = Xy_train[Xy_train[\"Stance\"] != \"unrelated\"]\n",
    "    y_train_2 = Xy_train_2[\"Stance\"]\n",
    "    X_train_2 = Xy_train_2.drop(\"Stance\", axis=1)\n",
    "\n",
    "    del_str_cols(X_train_1)\n",
    "    del_str_cols(X_train_2)\n",
    "    \n",
    "    return X_train_1, y_train_1, X_train_2, y_train_2"
   ]
  },
  {
   "cell_type": "code",
   "execution_count": 6,
   "metadata": {},
   "outputs": [
    {
     "name": "stdout",
     "output_type": "stream",
     "text": [
      "(39437, 53)\n",
      "(39437,)\n",
      "(10629, 53)\n",
      "(10629,)\n"
     ]
    }
   ],
   "source": [
    "X_train_1, y_train_1, X_train_2, y_train_2 = prep_2step_sets(X_train, y_train)\n",
    "print(X_train_1.shape)\n",
    "print(y_train_1.shape)\n",
    "print(X_train_2.shape)\n",
    "print(y_train_2.shape)"
   ]
  },
  {
   "cell_type": "code",
   "execution_count": 7,
   "metadata": {},
   "outputs": [
    {
     "data": {
      "text/plain": [
       "Index(['bin_count', 'bin_count_early', 'bin_count_stopless',\n",
       "       'word_overlap_features', 'wrf_hl_fake', 'wrf_hl_fraud', 'wrf_hl_hoax',\n",
       "       'wrf_hl_false', 'wrf_hl_deny', 'wrf_hl_denies', 'wrf_hl_not',\n",
       "       'wrf_hl_despite', 'wrf_hl_nope', 'wrf_hl_doubt', 'wrf_hl_doubts',\n",
       "       'wrf_hl_bogus', 'wrf_hl_debunk', 'wrf_hl_pranks', 'wrf_hl_retract',\n",
       "       'polar_hl', 'polar_body', 'ngram_2_hits', 'ngram_2_early_hits',\n",
       "       'ngram_3_hits', 'ngram_3_early_hits', 'ngram_4_hits',\n",
       "       'ngram_4_early_hits', 'ngram_5_hits', 'ngram_5_early_hits',\n",
       "       'ngram_6_hits', 'ngram_6_early_hits', 'chargram_2_hits',\n",
       "       'chargram_2_early_hits', 'chargram_2_first_hits', 'chargram_8_hits',\n",
       "       'chargram_8_early_hits', 'chargram_8_first_hits', 'chargram_4_hits',\n",
       "       'chargram_4_early_hits', 'chargram_4_first_hits', 'chargram_16_hits',\n",
       "       'chargram_16_early_hits', 'chargram_16_first_hits',\n",
       "       'hl_body_glove_200_cos_dist', 'hl_body_verb_glove_200_cos_dist',\n",
       "       'vader_hl_neg', 'vader_hl_neu', 'vader_hl_pos', 'vader_hl_compound',\n",
       "       'vader_body_neg', 'vader_body_neu', 'vader_body_pos',\n",
       "       'vader_body_compound'],\n",
       "      dtype='object')"
      ]
     },
     "execution_count": 7,
     "metadata": {},
     "output_type": "execute_result"
    }
   ],
   "source": [
    "X_train_2.columns"
   ]
  },
  {
   "cell_type": "code",
   "execution_count": null,
   "metadata": {},
   "outputs": [],
   "source": []
  },
  {
   "cell_type": "code",
   "execution_count": 8,
   "metadata": {},
   "outputs": [
    {
     "name": "stdout",
     "output_type": "stream",
     "text": [
      "      Iter       Train Loss   Remaining Time \n",
      "         1           1.0238           12.51s\n",
      "         2           0.9178           11.59s\n",
      "         3           0.8338           11.33s\n",
      "         4           0.7654           11.37s\n",
      "         5           0.7080           11.31s\n",
      "         6           0.6587           11.25s\n",
      "         7           0.6170           11.32s\n",
      "         8           0.5811           11.35s\n",
      "         9           0.5483           11.71s\n",
      "        10           0.5207           11.53s\n",
      "        20           0.3673           10.22s\n",
      "        30           0.3109            9.43s\n",
      "        40           0.2788            8.89s\n",
      "        50           0.2608            8.22s\n",
      "        60           0.2479            7.98s\n",
      "        70           0.2393            7.24s\n",
      "        80           0.2320            6.59s\n",
      "        90           0.2258            5.98s\n",
      "       100           0.2206            5.42s\n",
      "       200           0.1851            0.00s\n",
      "      Iter       Train Loss   Remaining Time \n",
      "         1        9637.6448            8.86s\n",
      "         2        9343.4160            8.61s\n",
      "         3        9096.6649            8.51s\n",
      "         4        8880.6659            8.58s\n",
      "         5        8694.5556            8.94s\n",
      "         6        8531.4964            8.89s\n",
      "         7        8393.5862            8.87s\n",
      "         8        8270.7897            8.83s\n",
      "         9        8163.0356            8.95s\n",
      "        10        8065.7804            9.05s\n",
      "        20        7499.3412            8.50s\n",
      "        30        7216.2666            7.92s\n",
      "        40        7003.1268            7.62s\n",
      "        50        6824.1222            7.14s\n",
      "        60        6674.2162            6.71s\n",
      "        70        6529.9345            6.29s\n",
      "        80        6404.2150            5.71s\n",
      "        90        6294.9514            5.16s\n",
      "       100        6178.0779            4.66s\n",
      "       200        5317.4053            0.00s\n"
     ]
    },
    {
     "data": {
      "text/plain": [
       "GradientBoostingClassifier(criterion='friedman_mse', init=None,\n",
       "              learning_rate=0.1, loss='deviance', max_depth=3,\n",
       "              max_features=None, max_leaf_nodes=None,\n",
       "              min_impurity_decrease=0.0, min_impurity_split=None,\n",
       "              min_samples_leaf=1, min_samples_split=2,\n",
       "              min_weight_fraction_leaf=0.0, n_estimators=200,\n",
       "              presort='auto', random_state=14128, subsample=1.0,\n",
       "              verbose=True, warm_start=False)"
      ]
     },
     "execution_count": 8,
     "metadata": {},
     "output_type": "execute_result"
    }
   ],
   "source": [
    "## CLASSIFIER 1 - RELATED/UNRELATED\n",
    "#mod1 = sklearn.ensemble.RandomForestClassifier(n_estimators=200, n_jobs=8, random_state=42)\n",
    "mod1 = GradientBoostingClassifier(n_estimators=200, random_state=14128, verbose=True)\n",
    "mod1.fit(X_train_1, y_train_1)\n",
    "\n",
    "## CLASSIFIER 2 - 3-class\n",
    "#mod2 = sklearn.ensemble.RandomForestClassifier(n_estimators=200, n_jobs=8, random_state=42)\n",
    "mod2 = GradientBoostingClassifier(n_estimators=200, random_state=14128, verbose=True)\n",
    "mod2.fit(X_train_2, y_train_2)"
   ]
  },
  {
   "cell_type": "code",
   "execution_count": 9,
   "metadata": {},
   "outputs": [
    {
     "name": "stdout",
     "output_type": "stream",
     "text": [
      "bin_count_stopless: 0.22842108806121494\n",
      "hl_body_glove_200_cos_dist: 0.10848109080386001\n",
      "word_overlap_features: 0.07955066946922915\n",
      "vader_body_compound: 0.06483705353682775\n",
      "bin_count: 0.05701583341747761\n",
      "vader_hl_compound: 0.050846886690258684\n",
      "vader_hl_neg: 0.050559023508291494\n",
      "vader_body_neg: 0.04234646526040893\n",
      "vader_body_neu: 0.04212439073819056\n",
      "vader_hl_pos: 0.04112368741687098\n",
      "chargram_2_hits: 0.0393137273981946\n",
      "vader_body_pos: 0.032294795797188594\n",
      "ngram_2_hits: 0.02578384811436512\n",
      "hl_body_verb_glove_200_cos_dist: 0.02351969607336944\n",
      "ngram_2_early_hits: 0.021072838506949913\n",
      "bin_count_early: 0.019672554613078545\n",
      "vader_hl_neu: 0.017893103754789225\n",
      "chargram_2_early_hits: 0.007168807313426026\n",
      "wrf_hl_false: 0.007132847502413197\n",
      "wrf_hl_doubt: 0.006513256919650657\n",
      "ngram_3_hits: 0.006358561675281132\n",
      "wrf_hl_hoax: 0.005440632653489054\n",
      "wrf_hl_bogus: 0.005145974930286052\n",
      "wrf_hl_not: 0.004638852482525854\n",
      "wrf_hl_debunk: 0.003551444566655474\n",
      "polar_body: 0.002651029680519889\n",
      "polar_hl: 0.002382563483074582\n",
      "wrf_hl_deny: 0.0016285117814402355\n",
      "chargram_2_first_hits: 0.0010097255618380762\n",
      "ngram_6_hits: 0.0008474582683939276\n",
      "wrf_hl_fake: 0.0004855697704447032\n",
      "wrf_hl_despite: 0.0001766943940407066\n",
      "ngram_4_hits: 1.1315855954758506e-05\n",
      "ngram_5_hits: 0.0\n",
      "chargram_16_first_hits: 0.0\n",
      "chargram_16_early_hits: 0.0\n",
      "chargram_16_hits: 0.0\n",
      "wrf_hl_fraud: 0.0\n",
      "chargram_4_first_hits: 0.0\n",
      "ngram_5_early_hits: 0.0\n",
      "wrf_hl_denies: 0.0\n",
      "chargram_8_early_hits: 0.0\n",
      "chargram_8_first_hits: 0.0\n",
      "wrf_hl_nope: 0.0\n",
      "chargram_4_early_hits: 0.0\n",
      "wrf_hl_doubts: 0.0\n",
      "ngram_6_early_hits: 0.0\n",
      "chargram_8_hits: 0.0\n",
      "wrf_hl_pranks: 0.0\n",
      "wrf_hl_retract: 0.0\n",
      "ngram_3_early_hits: 0.0\n",
      "chargram_4_hits: 0.0\n",
      "ngram_4_early_hits: 0.0\n"
     ]
    }
   ],
   "source": [
    "print_feature_importances(mod1, X_train_1)"
   ]
  },
  {
   "cell_type": "code",
   "execution_count": 10,
   "metadata": {},
   "outputs": [
    {
     "name": "stdout",
     "output_type": "stream",
     "text": [
      "vader_body_compound: 0.16694411436436213\n",
      "vader_body_neu: 0.1010181831370722\n",
      "vader_body_pos: 0.0879257617930274\n",
      "vader_body_neg: 0.0793655377275753\n",
      "hl_body_glove_200_cos_dist: 0.07615488430289652\n",
      "hl_body_verb_glove_200_cos_dist: 0.05694685841542658\n",
      "word_overlap_features: 0.04493888715046588\n",
      "vader_hl_compound: 0.04463405322689566\n",
      "vader_hl_neu: 0.04310367306918755\n",
      "chargram_2_hits: 0.04242611050162623\n",
      "vader_hl_neg: 0.04090544861444514\n",
      "vader_hl_pos: 0.03571914297409542\n",
      "chargram_2_early_hits: 0.01966324969989724\n",
      "bin_count_early: 0.018808254899250178\n",
      "bin_count_stopless: 0.016228337669298515\n",
      "polar_body: 0.014694341135489073\n",
      "wrf_hl_hoax: 0.011114120152168418\n",
      "polar_hl: 0.011078937069393524\n",
      "bin_count: 0.009707869860580299\n",
      "ngram_2_early_hits: 0.0096113835078811\n",
      "chargram_2_first_hits: 0.009405867912397326\n",
      "ngram_2_hits: 0.0089867840139236\n",
      "wrf_hl_not: 0.00875645941815127\n",
      "wrf_hl_fake: 0.0068359522098692315\n",
      "ngram_3_early_hits: 0.005166023425461356\n",
      "wrf_hl_doubt: 0.00407829731832492\n",
      "ngram_4_hits: 0.0033117899017096513\n",
      "wrf_hl_false: 0.002923082554366077\n",
      "ngram_3_hits: 0.002700583497384719\n",
      "ngram_5_hits: 0.002590489518260744\n",
      "wrf_hl_deny: 0.002514872523540582\n",
      "wrf_hl_despite: 0.002367315555257527\n",
      "wrf_hl_nope: 0.002353000347242945\n",
      "ngram_6_hits: 0.002039080474406237\n",
      "ngram_4_early_hits: 0.0016808503683787932\n",
      "wrf_hl_denies: 0.0013790002152848316\n",
      "wrf_hl_debunk: 0.0006409683274442224\n",
      "wrf_hl_bogus: 0.0005550075237391653\n",
      "ngram_5_early_hits: 0.0005032066334654413\n",
      "ngram_6_early_hits: 0.00022221899035702988\n",
      "wrf_hl_retract: 0.0\n",
      "chargram_4_early_hits: 0.0\n",
      "chargram_4_hits: 0.0\n",
      "chargram_8_first_hits: 0.0\n",
      "wrf_hl_doubts: 0.0\n",
      "chargram_8_hits: 0.0\n",
      "chargram_4_first_hits: 0.0\n",
      "wrf_hl_fraud: 0.0\n",
      "chargram_8_early_hits: 0.0\n",
      "chargram_16_hits: 0.0\n",
      "chargram_16_early_hits: 0.0\n",
      "chargram_16_first_hits: 0.0\n",
      "wrf_hl_pranks: 0.0\n"
     ]
    }
   ],
   "source": [
    "print_feature_importances(mod2, X_train_2)"
   ]
  },
  {
   "cell_type": "code",
   "execution_count": 11,
   "metadata": {},
   "outputs": [],
   "source": [
    "def predict_tsm(mod1, mod2, X):\n",
    "        #if X is None:\n",
    "        #    X = self.X_dev_1\n",
    "        del_str_cols(X)\n",
    "        preds_1 = mod1.predict(X)\n",
    "        preds_2 = mod2.predict(X) # note X_dev_1\n",
    "        \n",
    "        new_preds = preds_1.copy()\n",
    "        for ii in range(preds_1.shape[0]):\n",
    "            if preds_1[ii] == \"related\":\n",
    "                new_preds[ii] = preds_2[ii]\n",
    "            else:\n",
    "                new_preds[ii] = \"unrelated\"\n",
    "        return new_preds"
   ]
  },
  {
   "cell_type": "code",
   "execution_count": 12,
   "metadata": {},
   "outputs": [
    {
     "name": "stdout",
     "output_type": "stream",
     "text": [
      "DEV results:\n",
      "             precision    recall  f1-score   support\n",
      "\n",
      "      agree       0.51      0.24      0.32       784\n",
      "   disagree       0.30      0.01      0.03       209\n",
      "    discuss       0.64      0.84      0.73      1805\n",
      "  unrelated       0.97      0.98      0.97      7737\n",
      "\n",
      "avg / total       0.87      0.88      0.86     10535\n",
      "\n",
      "Weighted accuracy: 0.8044270695757831 (3806.75 out of 4732.25)\n"
     ]
    }
   ],
   "source": [
    "preds_dev = predict_tsm(mod1, mod2, X_dev)\n",
    "print(\"DEV results:\")\n",
    "print_reports(preds_dev, y_dev)"
   ]
  },
  {
   "cell_type": "code",
   "execution_count": 13,
   "metadata": {},
   "outputs": [
    {
     "name": "stdout",
     "output_type": "stream",
     "text": [
      "(10535, 53)\n",
      "(10535,)\n",
      "(2798, 53)\n",
      "(2798,)\n",
      "(49972, 53)\n",
      "(49972,)\n",
      "(13427, 53)\n",
      "(13427,)\n"
     ]
    }
   ],
   "source": [
    "X_dev_1, y_dev_1, X_dev_2, y_dev_2 = prep_2step_sets(X_dev, y_dev)\n",
    "print(X_dev_1.shape)\n",
    "print(y_dev_1.shape)\n",
    "print(X_dev_2.shape)\n",
    "print(y_dev_2.shape)\n",
    "\n",
    "X_train_1_full = pd.concat([X_train_1, X_dev_1], axis=0)\n",
    "y_train_1_full = pd.concat([y_train_1, y_dev_1], axis=0)\n",
    "\n",
    "X_train_2_full = pd.concat([X_train_2, X_dev_2], axis=0)\n",
    "y_train_2_full = pd.concat([y_train_2, y_dev_2], axis=0)\n",
    "\n",
    "print(X_train_1_full.shape)\n",
    "print(y_train_1_full.shape)\n",
    "\n",
    "print(X_train_2_full.shape)\n",
    "print(y_train_2_full.shape)"
   ]
  },
  {
   "cell_type": "code",
   "execution_count": 14,
   "metadata": {},
   "outputs": [
    {
     "name": "stdout",
     "output_type": "stream",
     "text": [
      "      Iter       Train Loss   Remaining Time \n",
      "         1           1.0229           14.13s\n",
      "         2           0.9174           14.65s\n",
      "         3           0.8336           16.88s\n",
      "         4           0.7652           17.55s\n",
      "         5           0.7078           17.69s\n",
      "         6           0.6589           17.41s\n",
      "         7           0.6176           16.70s\n",
      "         8           0.5813           16.20s\n",
      "         9           0.5496           15.91s\n",
      "        10           0.5223           15.70s\n",
      "        20           0.3690           14.91s\n",
      "        30           0.3133           14.01s\n",
      "        40           0.2839           13.21s\n",
      "        50           0.2676           12.20s\n",
      "        60           0.2556           11.26s\n",
      "        70           0.2456           10.41s\n",
      "        80           0.2390            9.39s\n",
      "        90           0.2328            8.54s\n",
      "       100           0.2275            7.70s\n",
      "       200           0.1928            0.00s\n",
      "      Iter       Train Loss   Remaining Time \n",
      "         1       12254.3523           17.13s\n",
      "         2       11899.9381           15.70s\n",
      "         3       11605.0838           15.90s\n",
      "         4       11337.5910           14.83s\n",
      "         5       11118.3031           14.34s\n",
      "         6       10929.8218           13.96s\n",
      "         7       10760.8061           13.54s\n",
      "         8       10615.0803           13.20s\n",
      "         9       10489.0123           13.01s\n",
      "        10       10377.7003           12.84s\n",
      "        20        9704.6021           11.26s\n",
      "        30        9406.5438           10.75s\n",
      "        40        9185.7255            9.89s\n",
      "        50        9003.2786            9.11s\n",
      "        60        8839.7665            8.33s\n",
      "        70        8675.3834            7.68s\n",
      "        80        8534.0583            7.04s\n",
      "        90        8389.8761            6.39s\n",
      "       100        8271.3592            5.75s\n",
      "       200        7227.3901            0.00s\n"
     ]
    },
    {
     "data": {
      "text/plain": [
       "GradientBoostingClassifier(criterion='friedman_mse', init=None,\n",
       "              learning_rate=0.1, loss='deviance', max_depth=3,\n",
       "              max_features=None, max_leaf_nodes=None,\n",
       "              min_impurity_decrease=0.0, min_impurity_split=None,\n",
       "              min_samples_leaf=1, min_samples_split=2,\n",
       "              min_weight_fraction_leaf=0.0, n_estimators=200,\n",
       "              presort='auto', random_state=14128, subsample=1.0,\n",
       "              verbose=True, warm_start=False)"
      ]
     },
     "execution_count": 14,
     "metadata": {},
     "output_type": "execute_result"
    }
   ],
   "source": [
    "## CLASSIFIER 1 - RELATED/UNRELATED\n",
    "#mod1 = sklearn.ensemble.RandomForestClassifier(n_estimators=200, n_jobs=8, random_state=42)\n",
    "mod1 = GradientBoostingClassifier(n_estimators=200, random_state=14128, verbose=True)\n",
    "mod1.fit(X_train_1_full, y_train_1_full)\n",
    "\n",
    "## CLASSIFIER 2 - 3-class\n",
    "#mod2 = sklearn.ensemble.RandomForestClassifier(n_estimators=200, n_jobs=8, random_state=42)\n",
    "mod2 = GradientBoostingClassifier(n_estimators=200, random_state=14128, verbose=True)\n",
    "mod2.fit(X_train_2_full, y_train_2_full)"
   ]
  },
  {
   "cell_type": "code",
   "execution_count": 15,
   "metadata": {},
   "outputs": [
    {
     "name": "stdout",
     "output_type": "stream",
     "text": [
      "TEST results (trained on train+dev):\n",
      "             precision    recall  f1-score   support\n",
      "\n",
      "      agree       0.46      0.19      0.27      1903\n",
      "   disagree       0.33      0.02      0.04       697\n",
      "    discuss       0.62      0.80      0.70      4464\n",
      "  unrelated       0.95      0.97      0.96     18349\n",
      "\n",
      "avg / total       0.84      0.86      0.84     25413\n",
      "\n",
      "Weighted accuracy: 0.7674713013625147 (8942.0 out of 11651.25)\n"
     ]
    }
   ],
   "source": [
    "print(\"TEST results (trained on train+dev):\")\n",
    "preds_test = predict_tsm(mod1, mod2, X_test)\n",
    "print_reports(preds_test, y_test)"
   ]
  },
  {
   "cell_type": "code",
   "execution_count": 18,
   "metadata": {},
   "outputs": [
    {
     "name": "stdout",
     "output_type": "stream",
     "text": [
      "Confusion matrix, without normalization\n",
      "[[  366    14  1311   212]\n",
      " [   63    13   424   197]\n",
      " [  329    12  3560   563]\n",
      " [   30     1   459 17859]]\n",
      "Normalized confusion matrix\n",
      "[[1.92e-01 7.36e-03 6.89e-01 1.11e-01]\n",
      " [9.04e-02 1.87e-02 6.08e-01 2.83e-01]\n",
      " [7.37e-02 2.69e-03 7.97e-01 1.26e-01]\n",
      " [1.63e-03 5.45e-05 2.50e-02 9.73e-01]]\n"
     ]
    },
    {
     "data": {
      "image/png": "[encoded data removed]",
      "text/plain": [
       "<Figure size 432x288 with 2 Axes>"
      ]
     },
     "metadata": {},
     "output_type": "display_data"
    },
    {
     "data": {
      "image/png": "[encoded data removed]",
      "text/plain": [
       "<Figure size 432x288 with 2 Axes>"
      ]
     },
     "metadata": {},
     "output_type": "display_data"
    }
   ],
   "source": [
    "import matplotlib.pyplot as plt\n",
    "from sklearn.metrics import confusion_matrix\n",
    "import itertools\n",
    "def plot_confusion_matrix(cm, classes,\n",
    "                          normalize=False,\n",
    "                          title='Confusion matrix',\n",
    "                          cmap=plt.cm.Blues):\n",
    "    \"\"\"\n",
    "    This function prints and plots the confusion matrix.\n",
    "    Normalization can be applied by setting `normalize=True`.\n",
    "    \"\"\"\n",
    "    if normalize:\n",
    "        cm = cm.astype('float') / cm.sum(axis=1)[:, np.newaxis]\n",
    "        print(\"Normalized confusion matrix\")\n",
    "    else:\n",
    "        print('Confusion matrix, without normalization')\n",
    "\n",
    "    print(cm)\n",
    "\n",
    "    plt.imshow(cm, interpolation='nearest', cmap=cmap)\n",
    "    plt.title(title)\n",
    "    plt.colorbar()\n",
    "    tick_marks = np.arange(len(classes))\n",
    "    plt.xticks(tick_marks, classes, rotation=45)\n",
    "    plt.yticks(tick_marks, classes)\n",
    "\n",
    "    fmt = '.2f' if normalize else 'd'\n",
    "    thresh = cm.max() / 2.\n",
    "    for i, j in itertools.product(range(cm.shape[0]), range(cm.shape[1])):\n",
    "        plt.text(j, i, format(cm[i, j], fmt),\n",
    "                 horizontalalignment=\"center\",\n",
    "                 color=\"white\" if cm[i, j] > thresh else \"black\")\n",
    "\n",
    "    plt.tight_layout()\n",
    "    plt.ylabel('True label')\n",
    "    plt.xlabel('Predicted label')\n",
    "\n",
    "# Compute confusion matrix\n",
    "cnf_matrix = confusion_matrix(y_test, preds_test)\n",
    "class_names = [\"agrees\", \"disagrees\", \"discusses\", \"unrelated\"]\n",
    "\n",
    "np.set_printoptions(precision=2)\n",
    "\n",
    "# Plot non-normalized confusion matrix\n",
    "plt.figure()\n",
    "plot_confusion_matrix(cnf_matrix, classes=class_names,\n",
    "                      title='Confusion matrix, without normalization')\n",
    "\n",
    "# Plot normalized confusion matrix\n",
    "plt.figure()\n",
    "plot_confusion_matrix(cnf_matrix, classes=class_names, normalize=True,\n",
    "                      title='Normalized confusion matrix')\n",
    "\n",
    "#plt.show()\n",
    "plt.savefig(\"baseline-ourfetures-2step-gbt-testset-normalizedconf.png\")"
   ]
  },
  {
   "cell_type": "code",
   "execution_count": null,
   "metadata": {},
   "outputs": [],
   "source": []
  },
  {
   "cell_type": "code",
   "execution_count": null,
   "metadata": {},
   "outputs": [],
   "source": []
  },
  {
   "cell_type": "code",
   "execution_count": null,
   "metadata": {},
   "outputs": [],
   "source": [
    "-----"
   ]
  },
  {
   "cell_type": "code",
   "execution_count": null,
   "metadata": {},
   "outputs": [],
   "source": [
    "# Row 4: Baseline + 3 features + 2-step + RF"
   ]
  },
  {
   "cell_type": "code",
   "execution_count": 19,
   "metadata": {},
   "outputs": [
    {
     "name": "stdout",
     "output_type": "stream",
     "text": [
      "(39437, 53)\n",
      "(39437,)\n",
      "(10629, 53)\n",
      "(10629,)\n",
      "DEV results:\n",
      "             precision    recall  f1-score   support\n",
      "\n",
      "      agree       0.60      0.26      0.36       784\n",
      "   disagree       1.00      0.07      0.13       209\n",
      "    discuss       0.65      0.85      0.73      1805\n",
      "  unrelated       0.97      0.98      0.97      7737\n",
      "\n",
      "avg / total       0.88      0.88      0.87     10535\n",
      "\n",
      "Weighted accuracy: 0.8090760209202811 (3828.75 out of 4732.25)\n",
      "(10535, 53)\n",
      "(10535,)\n",
      "(2798, 53)\n",
      "(2798,)\n",
      "(49972, 53)\n",
      "(49972,)\n",
      "(13427, 53)\n",
      "(13427,)\n",
      "TEST results (trained on train+dev):\n",
      "             precision    recall  f1-score   support\n",
      "\n",
      "      agree       0.46      0.17      0.24      1903\n",
      "   disagree       0.00      0.00      0.00       697\n",
      "    discuss       0.62      0.79      0.69      4464\n",
      "  unrelated       0.94      0.98      0.96     18349\n",
      "\n",
      "avg / total       0.82      0.86      0.83     25413\n",
      "\n",
      "Weighted accuracy: 0.7613560776740693 (8870.75 out of 11651.25)\n"
     ]
    }
   ],
   "source": [
    "X_train = pd.read_hdf(\"X_train_disjoint-allfeatures-2.h5\", key=\"df\")\n",
    "y_train = pd.read_hdf(\"y_train_disjoint.h5\", key=\"df\")\n",
    "y_train = y_train[\"Stance\"]\n",
    "\n",
    "X_dev = pd.read_hdf(\"X_dev_disjoint-allfeatures-2.h5\", key=\"df\")\n",
    "y_dev = pd.read_hdf(\"y_dev_disjoint.h5\", key=\"df\")\n",
    "y_dev = y_dev[\"Stance\"]\n",
    "del_str_cols(X_dev)\n",
    "\n",
    "X_test = pd.read_hdf(\"X_TEST-allfeatures-2.h5\", key=\"df\")\n",
    "y_test = pd.read_hdf(\"y_TEST_disjoint.h5\", key=\"df\")\n",
    "y_test = y_test[\"Stance\"]\n",
    "del_str_cols(X_test)\n",
    "\n",
    "def prep_2step_sets(X_train, y_train):\n",
    "    Xy_train = pd.concat([X_train, y_train], axis=1)\n",
    "\n",
    "    Xy_train_1 = Xy_train.copy()\n",
    "    Xy_train_1.loc[Xy_train_1[\"Stance\"] != \"unrelated\", 'Stance'] = \"related\"\n",
    "    y_train_1 = Xy_train_1[\"Stance\"]\n",
    "    X_train_1 = Xy_train_1.drop([\"Stance\"], axis=1)\n",
    "\n",
    "    Xy_train_2 = Xy_train[Xy_train[\"Stance\"] != \"unrelated\"]\n",
    "    y_train_2 = Xy_train_2[\"Stance\"]\n",
    "    X_train_2 = Xy_train_2.drop(\"Stance\", axis=1)\n",
    "\n",
    "    del_str_cols(X_train_1)\n",
    "    del_str_cols(X_train_2)\n",
    "    \n",
    "    return X_train_1, y_train_1, X_train_2, y_train_2\n",
    "\n",
    "\n",
    "X_train_1, y_train_1, X_train_2, y_train_2 = prep_2step_sets(X_train, y_train)\n",
    "print(X_train_1.shape)\n",
    "print(y_train_1.shape)\n",
    "print(X_train_2.shape)\n",
    "print(y_train_2.shape)\n",
    "\n",
    "\n",
    "## CLASSIFIER 1 - RELATED/UNRELATED\n",
    "mod1_a = sklearn.ensemble.RandomForestClassifier(n_estimators=200, n_jobs=8, random_state=42)\n",
    "mod1_a.fit(X_train_1, y_train_1)\n",
    "\n",
    "## CLASSIFIER 2 - 3-class\n",
    "mod2_a = sklearn.ensemble.RandomForestClassifier(n_estimators=200, n_jobs=8, random_state=42)\n",
    "mod2_a.fit(X_train_2, y_train_2)\n",
    "\n",
    "\n",
    "preds_dev = predict_tsm(mod1_a, mod2_a, X_dev)\n",
    "print(\"DEV results:\")\n",
    "print_reports(preds_dev, y_dev)\n",
    "\n",
    "\n",
    "X_dev_1, y_dev_1, X_dev_2, y_dev_2 = prep_2step_sets(X_dev, y_dev)\n",
    "print(X_dev_1.shape)\n",
    "print(y_dev_1.shape)\n",
    "print(X_dev_2.shape)\n",
    "print(y_dev_2.shape)\n",
    "\n",
    "X_train_1_full = pd.concat([X_train_1, X_dev_1], axis=0)\n",
    "y_train_1_full = pd.concat([y_train_1, y_dev_1], axis=0)\n",
    "\n",
    "X_train_2_full = pd.concat([X_train_2, X_dev_2], axis=0)\n",
    "y_train_2_full = pd.concat([y_train_2, y_dev_2], axis=0)\n",
    "\n",
    "print(X_train_1_full.shape)\n",
    "print(y_train_1_full.shape)\n",
    "\n",
    "print(X_train_2_full.shape)\n",
    "print(y_train_2_full.shape)\n",
    "\n",
    "\n",
    "## CLASSIFIER 1 - RELATED/UNRELATED\n",
    "mod1 = sklearn.ensemble.RandomForestClassifier(n_estimators=200, n_jobs=8, random_state=42)\n",
    "mod1.fit(X_train_1_full, y_train_1_full)\n",
    "\n",
    "## CLASSIFIER 2 - 3-class\n",
    "mod2 = sklearn.ensemble.RandomForestClassifier(n_estimators=200, n_jobs=8, random_state=42)\n",
    "mod2.fit(X_train_2_full, y_train_2_full)\n",
    "\n",
    "\n",
    "print(\"TEST results (trained on train+dev):\")\n",
    "preds_test = predict_tsm(mod1, mod2, X_test)\n",
    "print_reports(preds_test, y_test)"
   ]
  },
  {
   "cell_type": "code",
   "execution_count": 20,
   "metadata": {},
   "outputs": [
    {
     "name": "stdout",
     "output_type": "stream",
     "text": [
      "bin_count_stopless: 0.24026175543945338\n",
      "ngram_2_early_hits: 0.14785768480407271\n",
      "ngram_2_hits: 0.10765807951086952\n",
      "word_overlap_features: 0.09845858252892857\n",
      "bin_count_early: 0.06823276253314316\n",
      "bin_count: 0.04975811117875905\n",
      "ngram_3_hits: 0.037532147253880564\n",
      "hl_body_glove_200_cos_dist: 0.029269720170934984\n",
      "hl_body_verb_glove_200_cos_dist: 0.0219291116467431\n",
      "chargram_2_hits: 0.021740801081131952\n",
      "ngram_3_early_hits: 0.019876432082182458\n",
      "vader_body_compound: 0.018868443109740677\n",
      "vader_body_neu: 0.017096475002828914\n",
      "vader_body_neg: 0.016864481564688213\n",
      "vader_body_pos: 0.015460178904926587\n",
      "vader_hl_neu: 0.013475745559104779\n",
      "vader_hl_compound: 0.01288509992118288\n",
      "vader_hl_neg: 0.012341066215301379\n",
      "chargram_2_early_hits: 0.011735829695105306\n",
      "ngram_4_hits: 0.009334507337278326\n",
      "chargram_2_first_hits: 0.007729417030661707\n",
      "vader_hl_pos: 0.00625742928641883\n",
      "polar_body: 0.0030757386352540956\n",
      "ngram_4_early_hits: 0.0023756359851706058\n",
      "ngram_5_hits: 0.0017914996421876336\n",
      "polar_hl: 0.0016894268602011895\n",
      "wrf_hl_not: 0.0010672581200833007\n",
      "wrf_hl_doubt: 0.0007468283381151143\n",
      "wrf_hl_hoax: 0.0007193686598082145\n",
      "wrf_hl_false: 0.0007077464938579652\n",
      "ngram_5_early_hits: 0.0005987595577603825\n",
      "wrf_hl_denies: 0.0005159741053674271\n",
      "wrf_hl_fake: 0.0004150165606300087\n",
      "ngram_6_early_hits: 0.00039609805183782863\n",
      "wrf_hl_despite: 0.00036785968042797113\n",
      "ngram_6_hits: 0.0003433402837066702\n",
      "wrf_hl_bogus: 0.0003047617593441561\n",
      "wrf_hl_debunk: 0.00014852204868150994\n",
      "wrf_hl_deny: 9.095050860686595e-05\n",
      "wrf_hl_nope: 2.125187203409686e-05\n",
      "chargram_4_hits: 1.0097958770581749e-07\n",
      "wrf_hl_fraud: 0.0\n",
      "chargram_8_first_hits: 0.0\n",
      "chargram_4_early_hits: 0.0\n",
      "wrf_hl_doubts: 0.0\n",
      "wrf_hl_pranks: 0.0\n",
      "wrf_hl_retract: 0.0\n",
      "chargram_4_first_hits: 0.0\n",
      "chargram_8_early_hits: 0.0\n",
      "chargram_8_hits: 0.0\n",
      "chargram_16_early_hits: 0.0\n",
      "chargram_16_first_hits: 0.0\n",
      "chargram_16_hits: 0.0\n"
     ]
    }
   ],
   "source": [
    "print_feature_importances(mod1, X_train_1_full)"
   ]
  },
  {
   "cell_type": "code",
   "execution_count": null,
   "metadata": {},
   "outputs": [],
   "source": [
    "print_feature_importances(mod2, X_train_1_full)"
   ]
  },
  {
   "cell_type": "code",
   "execution_count": null,
   "metadata": {},
   "outputs": [],
   "source": []
  },
  {
   "cell_type": "code",
   "execution_count": null,
   "metadata": {},
   "outputs": [],
   "source": [
    "# Row 5: 800 trees for RFs"
   ]
  },
  {
   "cell_type": "code",
   "execution_count": 21,
   "metadata": {},
   "outputs": [
    {
     "name": "stdout",
     "output_type": "stream",
     "text": [
      "(39437, 53)\n",
      "(39437,)\n",
      "(10629, 53)\n",
      "(10629,)\n",
      "DEV results:\n",
      "             precision    recall  f1-score   support\n",
      "\n",
      "      agree       0.58      0.23      0.33       784\n",
      "   disagree       1.00      0.06      0.12       209\n",
      "    discuss       0.64      0.84      0.73      1805\n",
      "  unrelated       0.96      0.97      0.97      7737\n",
      "\n",
      "avg / total       0.88      0.88      0.86     10535\n",
      "\n",
      "Weighted accuracy: 0.8034233187173121 (3802.0 out of 4732.25)\n",
      "(10535, 53)\n",
      "(10535,)\n",
      "(2798, 53)\n",
      "(2798,)\n",
      "(49972, 53)\n",
      "(49972,)\n",
      "(13427, 53)\n",
      "(13427,)\n",
      "TEST results (trained on train+dev):\n",
      "             precision    recall  f1-score   support\n",
      "\n",
      "      agree       0.38      0.20      0.26      1903\n",
      "   disagree       0.07      0.00      0.01       697\n",
      "    discuss       0.61      0.75      0.67      4464\n",
      "  unrelated       0.94      0.97      0.96     18349\n",
      "\n",
      "avg / total       0.82      0.85      0.83     25413\n",
      "\n",
      "Weighted accuracy: 0.7514644351464436 (8755.5 out of 11651.25)\n"
     ]
    }
   ],
   "source": [
    "X_train = pd.read_hdf(\"X_train_disjoint-allfeatures-2.h5\", key=\"df\")\n",
    "y_train = pd.read_hdf(\"y_train_disjoint.h5\", key=\"df\")\n",
    "y_train = y_train[\"Stance\"]\n",
    "\n",
    "X_dev = pd.read_hdf(\"X_dev_disjoint-allfeatures-2.h5\", key=\"df\")\n",
    "y_dev = pd.read_hdf(\"y_dev_disjoint.h5\", key=\"df\")\n",
    "y_dev = y_dev[\"Stance\"]\n",
    "del_str_cols(X_dev)\n",
    "\n",
    "X_test = pd.read_hdf(\"X_TEST-allfeatures-2.h5\", key=\"df\")\n",
    "y_test = pd.read_hdf(\"y_TEST_disjoint.h5\", key=\"df\")\n",
    "y_test = y_test[\"Stance\"]\n",
    "del_str_cols(X_test)\n",
    "\n",
    "def prep_2step_sets(X_train, y_train):\n",
    "    Xy_train = pd.concat([X_train, y_train], axis=1)\n",
    "\n",
    "    Xy_train_1 = Xy_train.copy()\n",
    "    Xy_train_1.loc[Xy_train_1[\"Stance\"] != \"unrelated\", 'Stance'] = \"related\"\n",
    "    y_train_1 = Xy_train_1[\"Stance\"]\n",
    "    X_train_1 = Xy_train_1.drop([\"Stance\"], axis=1)\n",
    "\n",
    "    Xy_train_2 = Xy_train[Xy_train[\"Stance\"] != \"unrelated\"]\n",
    "    y_train_2 = Xy_train_2[\"Stance\"]\n",
    "    X_train_2 = Xy_train_2.drop(\"Stance\", axis=1)\n",
    "\n",
    "    del_str_cols(X_train_1)\n",
    "    del_str_cols(X_train_2)\n",
    "    \n",
    "    return X_train_1, y_train_1, X_train_2, y_train_2\n",
    "\n",
    "\n",
    "X_train_1, y_train_1, X_train_2, y_train_2 = prep_2step_sets(X_train, y_train)\n",
    "print(X_train_1.shape)\n",
    "print(y_train_1.shape)\n",
    "print(X_train_2.shape)\n",
    "print(y_train_2.shape)\n",
    "\n",
    "\n",
    "## CLASSIFIER 1 - RELATED/UNRELATED\n",
    "mod1 = sklearn.ensemble.RandomForestClassifier(n_estimators=200, n_jobs=8, random_state=420, min_samples_split=4, min_samples_leaf=2)\n",
    "mod1.fit(X_train_1, y_train_1)\n",
    "\n",
    "## CLASSIFIER 2 - 3-class\n",
    "mod2 = sklearn.ensemble.RandomForestClassifier(n_estimators=200, n_jobs=8, random_state=420, min_samples_split=4, min_samples_leaf=2)\n",
    "mod2.fit(X_train_2, y_train_2)\n",
    "\n",
    "\n",
    "preds_dev = predict_tsm(mod1, mod2, X_dev)\n",
    "print(\"DEV results:\")\n",
    "print_reports(preds_dev, y_dev)\n",
    "\n",
    "\n",
    "X_dev_1, y_dev_1, X_dev_2, y_dev_2 = prep_2step_sets(X_dev, y_dev)\n",
    "print(X_dev_1.shape)\n",
    "print(y_dev_1.shape)\n",
    "print(X_dev_2.shape)\n",
    "print(y_dev_2.shape)\n",
    "\n",
    "X_train_1_full = pd.concat([X_train_1, X_dev_1], axis=0)\n",
    "y_train_1_full = pd.concat([y_train_1, y_dev_1], axis=0)\n",
    "\n",
    "X_train_2_full = pd.concat([X_train_2, X_dev_2], axis=0)\n",
    "y_train_2_full = pd.concat([y_train_2, y_dev_2], axis=0)\n",
    "\n",
    "print(X_train_1_full.shape)\n",
    "print(y_train_1_full.shape)\n",
    "\n",
    "print(X_train_2_full.shape)\n",
    "print(y_train_2_full.shape)\n",
    "\n",
    "\n",
    "## CLASSIFIER 1 - RELATED/UNRELATED\n",
    "mod1 = sklearn.ensemble.RandomForestClassifier(n_estimators=200, n_jobs=8, random_state=420, max_features=None)\n",
    "mod1.fit(X_train_1_full, y_train_1_full)\n",
    "\n",
    "## CLASSIFIER 2 - 3-class\n",
    "mod2 = sklearn.ensemble.RandomForestClassifier(n_estimators=200, n_jobs=8, random_state=420, max_features=None)\n",
    "mod2.fit(X_train_2_full, y_train_2_full)\n",
    "\n",
    "\n",
    "print(\"TEST results (trained on train+dev):\")\n",
    "preds_test = predict_tsm(mod1, mod2, X_test)\n",
    "print_reports(preds_test, y_test)"
   ]
  },
  {
   "cell_type": "code",
   "execution_count": 22,
   "metadata": {},
   "outputs": [
    {
     "name": "stdout",
     "output_type": "stream",
     "text": [
      "Body ID: 0.6927699315889738\n",
      "___clean_headline: 0.049827386146191144\n",
      "ngram_3_early_hits: 0.04365710977001009\n",
      "wrf_hl_bogus: 0.03633118239677147\n",
      "chargram_8_first_hits: 0.0272770117264156\n",
      "chargram_4_hits: 0.021074321698327236\n",
      "vader_hl_neg: 0.013681908789063859\n",
      "chargram_16_first_hits: 0.012444478155580975\n",
      "hl_body_glove_200_cos_dist: 0.011917020790033143\n",
      "hl_body_verb_glove_200_cos_dist: 0.011472442801665855\n",
      "Headline: 0.010752647688736197\n",
      "chargram_16_early_hits: 0.009897065980680332\n",
      "chargram_4_first_hits: 0.009729680749489846\n",
      "wrf_hl_doubts: 0.008644122035026134\n",
      "ngram_4_hits: 0.007371795686722213\n",
      "chargram_4_early_hits: 0.006603097798362504\n",
      "articleBody: 0.0064497966540942205\n",
      "chargram_16_hits: 0.005762535288436218\n",
      "ngram_4_early_hits: 0.004581598442860821\n",
      "wrf_hl_debunk: 0.001701783953199042\n",
      "wrf_hl_doubt: 0.0017015501333818544\n",
      "wrf_hl_hoax: 0.0011465101318106153\n",
      "word_overlap_features: 0.0007589622812599086\n",
      "wrf_hl_nope: 0.0007544627255044123\n",
      "bin_count: 0.0006647910821650179\n",
      "wrf_hl_retract: 0.0005601566517619639\n",
      "bin_count_stopless: 0.0004675699842806463\n",
      "___clean_body_tokenized_lemmas: 0.00043416123767623256\n",
      "wrf_hl_deny: 0.00038326766105902096\n",
      "___clean_headline_tokenized_lemmas: 0.00025861484570075986\n",
      "wrf_hl_fake: 0.00023502183736498077\n",
      "wrf_hl_pranks: 0.00017890341972225888\n",
      "wrf_hl_denies: 0.00013905734508209028\n",
      "bin_count_early: 0.00013826702167655193\n",
      "polar_hl: 9.654577510959018e-05\n",
      "polar_body: 5.491301459421763e-05\n",
      "ngram_2_early_hits: 4.321759961037974e-05\n",
      "ngram_2_hits: 3.03801735916445e-05\n",
      "wrf_hl_fraud: 4.656803549072478e-06\n",
      "ngram_3_hits: 2.072134457994053e-06\n",
      "wrf_hl_not: 0.0\n",
      "___clean_body: 0.0\n",
      "chargram_2_early_hits: 0.0\n",
      "chargram_2_hits: 0.0\n",
      "ngram_6_early_hits: 0.0\n",
      "ngram_6_hits: 0.0\n",
      "chargram_8_early_hits: 0.0\n",
      "ngram_5_early_hits: 0.0\n",
      "ngram_5_hits: 0.0\n",
      "wrf_hl_despite: 0.0\n",
      "wrf_hl_false: 0.0\n",
      "chargram_2_first_hits: 0.0\n",
      "chargram_8_hits: 0.0\n"
     ]
    }
   ],
   "source": [
    "print_feature_importances(mod1, X_train)"
   ]
  },
  {
   "cell_type": "code",
   "execution_count": 23,
   "metadata": {},
   "outputs": [
    {
     "name": "stdout",
     "output_type": "stream",
     "text": [
      "vader_hl_neg: 0.09443646873547128\n",
      "hl_body_verb_glove_200_cos_dist: 0.08854697342946308\n",
      "chargram_8_first_hits: 0.08309549444885148\n",
      "hl_body_glove_200_cos_dist: 0.08228722117425027\n",
      "chargram_16_first_hits: 0.080167113535895\n",
      "chargram_4_hits: 0.07561643422711849\n",
      "___clean_headline: 0.07497266686489126\n",
      "ngram_3_early_hits: 0.04909784466906741\n",
      "ngram_4_hits: 0.03386360210365696\n",
      "chargram_16_early_hits: 0.033379430559569954\n",
      "chargram_4_first_hits: 0.031596233072361916\n",
      "articleBody: 0.030104765213434904\n",
      "Body ID: 0.028042589097982056\n",
      "Headline: 0.02712862551138057\n",
      "ngram_4_early_hits: 0.02575665413945108\n",
      "wrf_hl_doubts: 0.022575103815794043\n",
      "chargram_4_early_hits: 0.022089297812387394\n",
      "chargram_16_hits: 0.018240785793526944\n",
      "wrf_hl_bogus: 0.016961798892113817\n",
      "wrf_hl_doubt: 0.014457891973553825\n",
      "wrf_hl_nope: 0.014328285905007357\n",
      "___clean_body_tokenized_lemmas: 0.014119452744575321\n",
      "wrf_hl_debunk: 0.010353218503744956\n",
      "wrf_hl_pranks: 0.006908469089941991\n",
      "wrf_hl_retract: 0.004741213259020177\n",
      "polar_hl: 0.0032738732797930985\n",
      "word_overlap_features: 0.0023597247502556862\n",
      "polar_body: 0.002199735935188034\n",
      "___clean_headline_tokenized_lemmas: 0.001788718776998358\n",
      "ngram_2_hits: 0.0013428408904292849\n",
      "wrf_hl_fake: 0.0013308407151116542\n",
      "ngram_2_early_hits: 0.0011485196720018662\n",
      "bin_count_stopless: 0.0010842103538917889\n",
      "wrf_hl_hoax: 0.0009168948840703556\n",
      "ngram_3_hits: 0.0006818916221553553\n",
      "bin_count: 0.0004803865651143638\n",
      "bin_count_early: 0.0001834551772496256\n",
      "wrf_hl_deny: 0.0001684639180447361\n",
      "wrf_hl_fraud: 0.00012433904115185482\n",
      "wrf_hl_denies: 4.8469846032369066e-05\n",
      "ngram_5_hits: 0.0\n",
      "chargram_8_early_hits: 0.0\n",
      "ngram_5_early_hits: 0.0\n",
      "ngram_6_hits: 0.0\n",
      "___clean_body: 0.0\n",
      "chargram_8_hits: 0.0\n",
      "wrf_hl_false: 0.0\n",
      "wrf_hl_not: 0.0\n",
      "wrf_hl_despite: 0.0\n",
      "ngram_6_early_hits: 0.0\n",
      "chargram_2_early_hits: 0.0\n",
      "chargram_2_first_hits: 0.0\n",
      "chargram_2_hits: 0.0\n"
     ]
    }
   ],
   "source": [
    "print_feature_importances(mod2, X_train)"
   ]
  },
  {
   "cell_type": "code",
   "execution_count": 24,
   "metadata": {},
   "outputs": [
    {
     "data": {
      "text/html": [
       "<div>\n",
       "<style scoped>\n",
       "    .dataframe tbody tr th:only-of-type {\n",
       "        vertical-align: middle;\n",
       "    }\n",
       "\n",
       "    .dataframe tbody tr th {\n",
       "        vertical-align: top;\n",
       "    }\n",
       "\n",
       "    .dataframe thead th {\n",
       "        text-align: right;\n",
       "    }\n",
       "</style>\n",
       "<table border=\"1\" class=\"dataframe\">\n",
       "  <thead>\n",
       "    <tr style=\"text-align: right;\">\n",
       "      <th></th>\n",
       "      <th>Headline</th>\n",
       "      <th>articleBody</th>\n",
       "      <th>Body ID</th>\n",
       "      <th>___clean_headline</th>\n",
       "      <th>___clean_headline_tokenized_lemmas</th>\n",
       "      <th>___clean_body</th>\n",
       "      <th>___clean_body_tokenized_lemmas</th>\n",
       "      <th>bin_count</th>\n",
       "      <th>bin_count_early</th>\n",
       "      <th>bin_count_stopless</th>\n",
       "      <th>...</th>\n",
       "      <th>hl_body_glove_200_cos_dist</th>\n",
       "      <th>hl_body_verb_glove_200_cos_dist</th>\n",
       "      <th>vader_hl_neg</th>\n",
       "      <th>vader_hl_neu</th>\n",
       "      <th>vader_hl_pos</th>\n",
       "      <th>vader_hl_compound</th>\n",
       "      <th>vader_body_neg</th>\n",
       "      <th>vader_body_neu</th>\n",
       "      <th>vader_body_pos</th>\n",
       "      <th>vader_body_compound</th>\n",
       "    </tr>\n",
       "  </thead>\n",
       "  <tbody>\n",
       "    <tr>\n",
       "      <th>0</th>\n",
       "      <td>Police find mass graves with at least '15 bodi...</td>\n",
       "      <td>Danny Boyle is directing the untitled film\\n\\n...</td>\n",
       "      <td>712</td>\n",
       "      <td>police find mass graves with at least 15 bodie...</td>\n",
       "      <td>[police, find, mass, graf, with, at, least, 15...</td>\n",
       "      <td>danny boyle is directing the untitled film set...</td>\n",
       "      <td>[danny, boyle, is, directing, the, untitled, f...</td>\n",
       "      <td>2</td>\n",
       "      <td>0</td>\n",
       "      <td>0</td>\n",
       "      <td>...</td>\n",
       "      <td>0.157001</td>\n",
       "      <td>0.221717</td>\n",
       "      <td>0.194</td>\n",
       "      <td>0.806</td>\n",
       "      <td>0.0</td>\n",
       "      <td>-0.4767</td>\n",
       "      <td>0.008</td>\n",
       "      <td>0.907</td>\n",
       "      <td>0.085</td>\n",
       "      <td>0.9409</td>\n",
       "    </tr>\n",
       "    <tr>\n",
       "      <th>2</th>\n",
       "      <td>Christian Bale passes on role of Steve Jobs, a...</td>\n",
       "      <td>30-year-old Moscow resident was hospitalized w...</td>\n",
       "      <td>137</td>\n",
       "      <td>christian bale passes on role of steve jobs ac...</td>\n",
       "      <td>[christian, bale, pass, on, role, of, steve, j...</td>\n",
       "      <td>30 year old moscow resident was hospitalized w...</td>\n",
       "      <td>[30, year, old, moscow, resident, wa, hospital...</td>\n",
       "      <td>5</td>\n",
       "      <td>4</td>\n",
       "      <td>1</td>\n",
       "      <td>...</td>\n",
       "      <td>0.104475</td>\n",
       "      <td>0.173301</td>\n",
       "      <td>0.000</td>\n",
       "      <td>1.000</td>\n",
       "      <td>0.0</td>\n",
       "      <td>0.0000</td>\n",
       "      <td>0.116</td>\n",
       "      <td>0.805</td>\n",
       "      <td>0.079</td>\n",
       "      <td>-0.7506</td>\n",
       "    </tr>\n",
       "    <tr>\n",
       "      <th>5</th>\n",
       "      <td>'Nasa Confirms Earth Will Experience 6 Days of...</td>\n",
       "      <td>Thousands of people have been duped by a fake ...</td>\n",
       "      <td>154</td>\n",
       "      <td>nasa confirms earth will experience 6 days of ...</td>\n",
       "      <td>[nasa, confirms, earth, will, experience, 6, d...</td>\n",
       "      <td>thousands of people have been duped by a fake ...</td>\n",
       "      <td>[thousand, of, people, have, been, duped, by, ...</td>\n",
       "      <td>17</td>\n",
       "      <td>15</td>\n",
       "      <td>14</td>\n",
       "      <td>...</td>\n",
       "      <td>0.033813</td>\n",
       "      <td>0.080282</td>\n",
       "      <td>0.267</td>\n",
       "      <td>0.733</td>\n",
       "      <td>0.0</td>\n",
       "      <td>-0.6249</td>\n",
       "      <td>0.157</td>\n",
       "      <td>0.815</td>\n",
       "      <td>0.029</td>\n",
       "      <td>-0.9950</td>\n",
       "    </tr>\n",
       "    <tr>\n",
       "      <th>6</th>\n",
       "      <td>Accused Boston Marathon Bomber Severely Injure...</td>\n",
       "      <td>A British fighter who travelled to Iraq to sto...</td>\n",
       "      <td>962</td>\n",
       "      <td>accused boston marathon bomber severely injure...</td>\n",
       "      <td>[accused, boston, marathon, bomber, severely, ...</td>\n",
       "      <td>a british fighter who travelled to iraq to sto...</td>\n",
       "      <td>[a, british, fighter, who, travelled, to, iraq...</td>\n",
       "      <td>4</td>\n",
       "      <td>1</td>\n",
       "      <td>1</td>\n",
       "      <td>...</td>\n",
       "      <td>0.104640</td>\n",
       "      <td>0.165519</td>\n",
       "      <td>0.528</td>\n",
       "      <td>0.472</td>\n",
       "      <td>0.0</td>\n",
       "      <td>-0.8807</td>\n",
       "      <td>0.162</td>\n",
       "      <td>0.787</td>\n",
       "      <td>0.052</td>\n",
       "      <td>-0.9991</td>\n",
       "    </tr>\n",
       "    <tr>\n",
       "      <th>7</th>\n",
       "      <td>Identity of ISIS terrorist known as 'Jihadi Jo...</td>\n",
       "      <td>Adding to Apple's iOS 8 launch troubles, a rep...</td>\n",
       "      <td>2033</td>\n",
       "      <td>identity of isis terrorist known as jihadi joh...</td>\n",
       "      <td>[identity, of, isi, terrorist, known, a, jihad...</td>\n",
       "      <td>adding to apple s ios 8 launch troubles a repo...</td>\n",
       "      <td>[adding, to, apple, s, io, 8, launch, trouble,...</td>\n",
       "      <td>2</td>\n",
       "      <td>1</td>\n",
       "      <td>0</td>\n",
       "      <td>...</td>\n",
       "      <td>0.243533</td>\n",
       "      <td>0.246454</td>\n",
       "      <td>0.343</td>\n",
       "      <td>0.657</td>\n",
       "      <td>0.0</td>\n",
       "      <td>-0.6908</td>\n",
       "      <td>0.027</td>\n",
       "      <td>0.911</td>\n",
       "      <td>0.062</td>\n",
       "      <td>0.8316</td>\n",
       "    </tr>\n",
       "  </tbody>\n",
       "</table>\n",
       "<p>5 rows × 60 columns</p>\n",
       "</div>"
      ],
      "text/plain": [
       "                                            Headline  \\\n",
       "0  Police find mass graves with at least '15 bodi...   \n",
       "2  Christian Bale passes on role of Steve Jobs, a...   \n",
       "5  'Nasa Confirms Earth Will Experience 6 Days of...   \n",
       "6  Accused Boston Marathon Bomber Severely Injure...   \n",
       "7  Identity of ISIS terrorist known as 'Jihadi Jo...   \n",
       "\n",
       "                                         articleBody  Body ID  \\\n",
       "0  Danny Boyle is directing the untitled film\\n\\n...      712   \n",
       "2  30-year-old Moscow resident was hospitalized w...      137   \n",
       "5  Thousands of people have been duped by a fake ...      154   \n",
       "6  A British fighter who travelled to Iraq to sto...      962   \n",
       "7  Adding to Apple's iOS 8 launch troubles, a rep...     2033   \n",
       "\n",
       "                                   ___clean_headline  \\\n",
       "0  police find mass graves with at least 15 bodie...   \n",
       "2  christian bale passes on role of steve jobs ac...   \n",
       "5  nasa confirms earth will experience 6 days of ...   \n",
       "6  accused boston marathon bomber severely injure...   \n",
       "7  identity of isis terrorist known as jihadi joh...   \n",
       "\n",
       "                  ___clean_headline_tokenized_lemmas  \\\n",
       "0  [police, find, mass, graf, with, at, least, 15...   \n",
       "2  [christian, bale, pass, on, role, of, steve, j...   \n",
       "5  [nasa, confirms, earth, will, experience, 6, d...   \n",
       "6  [accused, boston, marathon, bomber, severely, ...   \n",
       "7  [identity, of, isi, terrorist, known, a, jihad...   \n",
       "\n",
       "                                       ___clean_body  \\\n",
       "0  danny boyle is directing the untitled film set...   \n",
       "2  30 year old moscow resident was hospitalized w...   \n",
       "5  thousands of people have been duped by a fake ...   \n",
       "6  a british fighter who travelled to iraq to sto...   \n",
       "7  adding to apple s ios 8 launch troubles a repo...   \n",
       "\n",
       "                      ___clean_body_tokenized_lemmas  bin_count  \\\n",
       "0  [danny, boyle, is, directing, the, untitled, f...          2   \n",
       "2  [30, year, old, moscow, resident, wa, hospital...          5   \n",
       "5  [thousand, of, people, have, been, duped, by, ...         17   \n",
       "6  [a, british, fighter, who, travelled, to, iraq...          4   \n",
       "7  [adding, to, apple, s, io, 8, launch, trouble,...          2   \n",
       "\n",
       "   bin_count_early  bin_count_stopless         ...           \\\n",
       "0                0                   0         ...            \n",
       "2                4                   1         ...            \n",
       "5               15                  14         ...            \n",
       "6                1                   1         ...            \n",
       "7                1                   0         ...            \n",
       "\n",
       "   hl_body_glove_200_cos_dist  hl_body_verb_glove_200_cos_dist  vader_hl_neg  \\\n",
       "0                    0.157001                         0.221717         0.194   \n",
       "2                    0.104475                         0.173301         0.000   \n",
       "5                    0.033813                         0.080282         0.267   \n",
       "6                    0.104640                         0.165519         0.528   \n",
       "7                    0.243533                         0.246454         0.343   \n",
       "\n",
       "   vader_hl_neu  vader_hl_pos  vader_hl_compound  vader_body_neg  \\\n",
       "0         0.806           0.0            -0.4767           0.008   \n",
       "2         1.000           0.0             0.0000           0.116   \n",
       "5         0.733           0.0            -0.6249           0.157   \n",
       "6         0.472           0.0            -0.8807           0.162   \n",
       "7         0.657           0.0            -0.6908           0.027   \n",
       "\n",
       "   vader_body_neu  vader_body_pos  vader_body_compound  \n",
       "0           0.907           0.085               0.9409  \n",
       "2           0.805           0.079              -0.7506  \n",
       "5           0.815           0.029              -0.9950  \n",
       "6           0.787           0.052              -0.9991  \n",
       "7           0.911           0.062               0.8316  \n",
       "\n",
       "[5 rows x 60 columns]"
      ]
     },
     "execution_count": 24,
     "metadata": {},
     "output_type": "execute_result"
    }
   ],
   "source": [
    "X_train.head()"
   ]
  },
  {
   "cell_type": "code",
   "execution_count": null,
   "metadata": {},
   "outputs": [],
   "source": []
  },
  {
   "cell_type": "code",
   "execution_count": null,
   "metadata": {},
   "outputs": [],
   "source": [
    "# Row 6: diff models"
   ]
  },
  {
   "cell_type": "code",
   "execution_count": 6,
   "metadata": {},
   "outputs": [
    {
     "name": "stdout",
     "output_type": "stream",
     "text": [
      "(39437, 53)\n",
      "(39437,)\n",
      "(10629, 53)\n",
      "(10629,)\n",
      "      Iter       Train Loss   Remaining Time \n",
      "         1        9637.6448           12.09s\n",
      "         2        9343.4160           13.34s\n",
      "         3        9096.6649           14.07s\n",
      "         4        8880.6659           13.74s\n",
      "         5        8694.5556           13.29s\n",
      "         6        8531.4964           12.53s\n",
      "         7        8393.5862           11.98s\n",
      "         8        8270.7897           11.74s\n",
      "         9        8163.0356           11.40s\n",
      "        10        8065.7804           11.04s\n",
      "        20        7499.3412            9.45s\n",
      "        30        7216.2666            8.57s\n",
      "        40        7003.1268            7.87s\n",
      "        50        6824.1222            7.31s\n",
      "        60        6674.2162            6.69s\n",
      "        70        6529.9345            6.12s\n",
      "        80        6404.2150            5.54s\n",
      "        90        6294.9514            5.03s\n",
      "       100        6178.0779            4.69s\n",
      "       200        5317.4053            0.00s\n",
      "DEV results:\n",
      "             precision    recall  f1-score   support\n",
      "\n",
      "      agree       0.52      0.23      0.32       784\n",
      "   disagree       0.36      0.02      0.04       209\n",
      "    discuss       0.64      0.83      0.72      1805\n",
      "  unrelated       0.96      0.97      0.97      7737\n",
      "\n",
      "avg / total       0.86      0.88      0.86     10535\n",
      "\n",
      "Weighted accuracy: 0.7989856833430187 (3781.0 out of 4732.25)\n",
      "(10535, 53)\n",
      "(10535,)\n",
      "(2798, 53)\n",
      "(2798,)\n",
      "(49972, 53)\n",
      "(49972,)\n",
      "(13427, 53)\n",
      "(13427,)\n",
      "      Iter       Train Loss   Remaining Time \n",
      "         1       12254.3523           20.51s\n",
      "         2       11899.9381           18.98s\n",
      "         3       11605.0838           16.56s\n",
      "         4       11337.5910           15.97s\n",
      "         5       11118.3031           15.68s\n",
      "         6       10929.8218           15.36s\n",
      "         7       10760.8061           14.97s\n",
      "         8       10615.0803           14.61s\n",
      "         9       10489.0123           14.33s\n",
      "        10       10377.7003           14.00s\n",
      "        20        9704.6021           12.24s\n",
      "        30        9406.5438           11.10s\n",
      "        40        9185.7255           10.29s\n",
      "        50        9003.2786            9.49s\n",
      "        60        8839.7665            8.81s\n",
      "        70        8675.3834            8.24s\n",
      "        80        8534.0583            7.77s\n",
      "        90        8389.8761            7.02s\n",
      "       100        8271.3592            6.29s\n",
      "       200        7227.3901            0.00s\n",
      "TEST results (trained on train+dev):\n",
      "             precision    recall  f1-score   support\n",
      "\n",
      "      agree       0.46      0.19      0.27      1903\n",
      "   disagree       0.33      0.02      0.03       697\n",
      "    discuss       0.62      0.79      0.69      4464\n",
      "  unrelated       0.94      0.97      0.96     18349\n",
      "\n",
      "avg / total       0.83      0.85      0.83     25413\n",
      "\n",
      "Weighted accuracy: 0.762600579336981 (8885.25 out of 11651.25)\n"
     ]
    }
   ],
   "source": [
    "X_train = pd.read_hdf(\"X_train_disjoint-allfeatures-2.h5\", key=\"df\")\n",
    "y_train = pd.read_hdf(\"y_train_disjoint.h5\", key=\"df\")\n",
    "y_train = y_train[\"Stance\"]\n",
    "\n",
    "X_dev = pd.read_hdf(\"X_dev_disjoint-allfeatures-2.h5\", key=\"df\")\n",
    "y_dev = pd.read_hdf(\"y_dev_disjoint.h5\", key=\"df\")\n",
    "y_dev = y_dev[\"Stance\"]\n",
    "del_str_cols(X_dev)\n",
    "\n",
    "X_test = pd.read_hdf(\"X_TEST-allfeatures-2.h5\", key=\"df\")\n",
    "y_test = pd.read_hdf(\"y_TEST_disjoint.h5\", key=\"df\")\n",
    "y_test = y_test[\"Stance\"]\n",
    "del_str_cols(X_test)\n",
    "\n",
    "def prep_2step_sets(X_train, y_train):\n",
    "    Xy_train = pd.concat([X_train, y_train], axis=1)\n",
    "\n",
    "    Xy_train_1 = Xy_train.copy()\n",
    "    Xy_train_1.loc[Xy_train_1[\"Stance\"] != \"unrelated\", 'Stance'] = \"related\"\n",
    "    y_train_1 = Xy_train_1[\"Stance\"]\n",
    "    X_train_1 = Xy_train_1.drop([\"Stance\"], axis=1)\n",
    "\n",
    "    Xy_train_2 = Xy_train[Xy_train[\"Stance\"] != \"unrelated\"]\n",
    "    y_train_2 = Xy_train_2[\"Stance\"]\n",
    "    X_train_2 = Xy_train_2.drop(\"Stance\", axis=1)\n",
    "\n",
    "    del_str_cols(X_train_1)\n",
    "    del_str_cols(X_train_2)\n",
    "    \n",
    "    return X_train_1, y_train_1, X_train_2, y_train_2\n",
    "\n",
    "\n",
    "X_train_1, y_train_1, X_train_2, y_train_2 = prep_2step_sets(X_train, y_train)\n",
    "print(X_train_1.shape)\n",
    "print(y_train_1.shape)\n",
    "print(X_train_2.shape)\n",
    "print(y_train_2.shape)\n",
    "\n",
    "\n",
    "## CLASSIFIER 1 - RELATED/UNRELATED\n",
    "mod1 = sklearn.ensemble.RandomForestClassifier(n_estimators=200, n_jobs=8, random_state=420, min_samples_split=4, min_samples_leaf=2)\n",
    "mod1.fit(X_train_1, y_train_1)\n",
    "\n",
    "## CLASSIFIER 2 - 3-class\n",
    "#mod2 = sklearn.ensemble.RandomForestClassifier(n_estimators=200, n_jobs=8, random_state=420, min_samples_split=4, min_samples_leaf=2)\n",
    "mod2 = GradientBoostingClassifier(n_estimators=200, random_state=14128, verbose=True)\n",
    "mod2.fit(X_train_2, y_train_2)\n",
    "\n",
    "def predict_tsm(mod1, mod2, X):\n",
    "        #if X is None:\n",
    "        #    X = self.X_dev_1\n",
    "        del_str_cols(X)\n",
    "        preds_1 = mod1.predict(X)\n",
    "        preds_2 = mod2.predict(X) # note X_dev_1\n",
    "        \n",
    "        new_preds = preds_1.copy()\n",
    "        for ii in range(preds_1.shape[0]):\n",
    "            if preds_1[ii] == \"related\":\n",
    "                new_preds[ii] = preds_2[ii]\n",
    "            else:\n",
    "                new_preds[ii] = \"unrelated\"\n",
    "        return new_preds\n",
    "\n",
    "preds_dev = predict_tsm(mod1, mod2, X_dev)\n",
    "print(\"DEV results:\")\n",
    "print_reports(preds_dev, y_dev)\n",
    "\n",
    "\n",
    "X_dev_1, y_dev_1, X_dev_2, y_dev_2 = prep_2step_sets(X_dev, y_dev)\n",
    "print(X_dev_1.shape)\n",
    "print(y_dev_1.shape)\n",
    "print(X_dev_2.shape)\n",
    "print(y_dev_2.shape)\n",
    "\n",
    "X_train_1_full = pd.concat([X_train_1, X_dev_1], axis=0)\n",
    "y_train_1_full = pd.concat([y_train_1, y_dev_1], axis=0)\n",
    "\n",
    "X_train_2_full = pd.concat([X_train_2, X_dev_2], axis=0)\n",
    "y_train_2_full = pd.concat([y_train_2, y_dev_2], axis=0)\n",
    "\n",
    "print(X_train_1_full.shape)\n",
    "print(y_train_1_full.shape)\n",
    "\n",
    "print(X_train_2_full.shape)\n",
    "print(y_train_2_full.shape)\n",
    "\n",
    "\n",
    "## CLASSIFIER 1 - RELATED/UNRELATED\n",
    "mod1 = sklearn.ensemble.RandomForestClassifier(n_estimators=200, n_jobs=8, random_state=420, max_features=None)\n",
    "mod1.fit(X_train_1_full, y_train_1_full)\n",
    "\n",
    "## CLASSIFIER 2 - 3-class\n",
    "#mod2 = sklearn.ensemble.RandomForestClassifier(n_estimators=200, n_jobs=8, random_state=420, max_features=None)\n",
    "mod2 = GradientBoostingClassifier(n_estimators=200, random_state=14128, verbose=True)\n",
    "mod2.fit(X_train_2_full, y_train_2_full)\n",
    "\n",
    "\n",
    "print(\"TEST results (trained on train+dev):\")\n",
    "preds_test = predict_tsm(mod1, mod2, X_test)\n",
    "print_reports(preds_test, y_test)"
   ]
  },
  {
   "cell_type": "code",
   "execution_count": null,
   "metadata": {},
   "outputs": [],
   "source": []
  },
  {
   "cell_type": "code",
   "execution_count": null,
   "metadata": {},
   "outputs": [],
   "source": []
  },
  {
   "cell_type": "code",
   "execution_count": null,
   "metadata": {},
   "outputs": [],
   "source": []
  },
  {
   "cell_type": "code",
   "execution_count": null,
   "metadata": {},
   "outputs": [],
   "source": []
  },
  {
   "cell_type": "code",
   "execution_count": null,
   "metadata": {},
   "outputs": [],
   "source": [
    "---------------"
   ]
  },
  {
   "cell_type": "code",
   "execution_count": null,
   "metadata": {},
   "outputs": [],
   "source": []
  },
  {
   "cell_type": "code",
   "execution_count": null,
   "metadata": {},
   "outputs": [],
   "source": [
    "X_train = pd.read_hdf(\"X_train_disjoint-allfeatures.h5\", key=\"df\")\n",
    "y_train = pd.read_hdf(\"y_train_disjoint.h5\", key=\"df\")\n",
    "\n",
    "X_dev = pd.read_hdf(\"X_dev_disjoint-allfeatures.h5\", key=\"df\")\n",
    "y_dev = pd.read_hdf(\"y_dev_disjoint.h5\", key=\"df\")\n",
    "\n",
    "X_test = pd.read_hdf(\"X_TEST-allfeatures.h5\", key=\"df\")\n",
    "y_test = pd.read_hdf(\"y_TEST_disjoint.h5\", key=\"df\")\n",
    "\n"
   ]
  },
  {
   "cell_type": "code",
   "execution_count": null,
   "metadata": {},
   "outputs": [],
   "source": [
    "%time X_train = add_all_features(X_train)\n",
    "%time X_dev = add_all_features(X_dev)\n",
    "%time X_test = add_all_features(X_test)"
   ]
  },
  {
   "cell_type": "code",
   "execution_count": null,
   "metadata": {},
   "outputs": [],
   "source": [
    "X_train.to_hdf('X_train_disjoint-allfeatures-2.h5','df')\n",
    "X_dev.to_hdf('X_dev_disjoint-allfeatures-2.h5','df')\n",
    "X_test.to_hdf('X_TEST-allfeatures-2.h5','df')"
   ]
  },
  {
   "cell_type": "code",
   "execution_count": null,
   "metadata": {},
   "outputs": [],
   "source": [
    "---------"
   ]
  },
  {
   "cell_type": "code",
   "execution_count": null,
   "metadata": {},
   "outputs": [],
   "source": []
  },
  {
   "cell_type": "code",
   "execution_count": null,
   "metadata": {},
   "outputs": [],
   "source": [
    "X_train = pd.read_hdf(\"X_train_disjoint-allfeatures-2.h5\", key=\"df\")\n",
    "y_train = pd.read_hdf(\"y_train_disjoint.h5\", key=\"df\")\n",
    "y_train = y_train[\"Stance\"]\n",
    "\n",
    "X_dev = pd.read_hdf(\"X_dev_disjoint-allfeatures-2.h5\", key=\"df\")\n",
    "y_dev = pd.read_hdf(\"y_dev_disjoint.h5\", key=\"df\")\n",
    "y_dev = y_dev[\"Stance\"]\n",
    "del_str_cols(X_dev)\n",
    "\n",
    "X_test = pd.read_hdf(\"X_TEST-allfeatures-2.h5\", key=\"df\")\n",
    "y_test = pd.read_hdf(\"y_TEST_disjoint.h5\", key=\"df\")\n",
    "y_test = y_test[\"Stance\"]\n",
    "del_str_cols(X_test)\n"
   ]
  },
  {
   "cell_type": "code",
   "execution_count": null,
   "metadata": {},
   "outputs": [],
   "source": []
  },
  {
   "cell_type": "code",
   "execution_count": null,
   "metadata": {},
   "outputs": [],
   "source": [
    "# Step 1 -- turn into 1/2 sets\n",
    "def prep_2step_sets(X_train, y_train):\n",
    "    Xy_train = pd.concat([X_train, y_train], axis=1)\n",
    "\n",
    "    Xy_train_1 = Xy_train.copy()\n",
    "    Xy_train_1.loc[Xy_train_1[\"Stance\"] != \"unrelated\", 'Stance'] = \"related\"\n",
    "    y_train_1 = Xy_train_1[\"Stance\"]\n",
    "    X_train_1 = Xy_train_1.drop([\"Stance\"], axis=1)\n",
    "\n",
    "    Xy_train_2 = Xy_train[Xy_train[\"Stance\"] != \"unrelated\"]\n",
    "    y_train_2 = Xy_train_2[\"Stance\"]\n",
    "    X_train_2 = Xy_train_2.drop(\"Stance\", axis=1)\n",
    "\n",
    "    del_str_cols(X_train_1)\n",
    "    del_str_cols(X_train_2)\n",
    "    \n",
    "    return X_train_1, y_train_1, X_train_2, y_train_2"
   ]
  },
  {
   "cell_type": "code",
   "execution_count": null,
   "metadata": {},
   "outputs": [],
   "source": [
    "X_train_1, y_train_1, X_train_2, y_train_2 = prep_2step_sets(X_train, y_train)"
   ]
  },
  {
   "cell_type": "code",
   "execution_count": null,
   "metadata": {},
   "outputs": [],
   "source": []
  },
  {
   "cell_type": "code",
   "execution_count": null,
   "metadata": {},
   "outputs": [],
   "source": []
  },
  {
   "cell_type": "code",
   "execution_count": null,
   "metadata": {},
   "outputs": [],
   "source": [
    "print(X_train_1.shape)\n",
    "print(y_train_1.shape)\n",
    "print(X_train_2.shape)\n",
    "print(y_train_2.shape)"
   ]
  },
  {
   "cell_type": "code",
   "execution_count": null,
   "metadata": {},
   "outputs": [],
   "source": [
    "## CLASSIFIER 1 - RELATED/UNRELATED\n",
    "#mod1 = sklearn.ensemble.RandomForestClassifier(n_estimators=200, n_jobs=8, random_state=42)\n",
    "mod1 = GradientBoostingClassifier(n_estimators=200, random_state=14128, verbose=True)\n",
    "mod1.fit(X_train_1, y_train_1)\n",
    "\n",
    "## CLASSIFIER 2 - 3-class\n",
    "#mod2 = sklearn.ensemble.RandomForestClassifier(n_estimators=200, n_jobs=8, random_state=42)\n",
    "mod2 = GradientBoostingClassifier(n_estimators=200, random_state=14128, verbose=True)\n",
    "mod2.fit(X_train_2, y_train_2)"
   ]
  },
  {
   "cell_type": "code",
   "execution_count": null,
   "metadata": {},
   "outputs": [],
   "source": [
    "def predict_tsm(mod1, mod2, X):\n",
    "        #if X is None:\n",
    "        #    X = self.X_dev_1\n",
    "        del_str_cols(X)\n",
    "        preds_1 = mod1.predict(X)\n",
    "        preds_2 = mod2.predict(X) # note X_dev_1\n",
    "        \n",
    "        new_preds = preds_1.copy()\n",
    "        for ii in range(preds_1.shape[0]):\n",
    "            if preds_1[ii] == \"related\":\n",
    "                new_preds[ii] = preds_2[ii]\n",
    "            else:\n",
    "                new_preds[ii] = \"unrelated\"\n",
    "        return new_preds"
   ]
  },
  {
   "cell_type": "code",
   "execution_count": null,
   "metadata": {},
   "outputs": [],
   "source": [
    "preds_rf_test = predict_tsm(mod1, mod2, X_test) # actually GBTs\n",
    "print_reports(preds_rf_test, y_test)"
   ]
  },
  {
   "cell_type": "code",
   "execution_count": null,
   "metadata": {},
   "outputs": [],
   "source": [
    "preds_rf_test = predict_tsm(mod1, mod2, X_test)\n",
    "print_reports(preds_rf_test, y_test)"
   ]
  },
  {
   "cell_type": "code",
   "execution_count": null,
   "metadata": {},
   "outputs": [],
   "source": []
  },
  {
   "cell_type": "code",
   "execution_count": null,
   "metadata": {},
   "outputs": [],
   "source": []
  },
  {
   "cell_type": "code",
   "execution_count": null,
   "metadata": {},
   "outputs": [],
   "source": []
  },
  {
   "cell_type": "code",
   "execution_count": null,
   "metadata": {},
   "outputs": [],
   "source": []
  },
  {
   "cell_type": "code",
   "execution_count": null,
   "metadata": {},
   "outputs": [],
   "source": [
    "----"
   ]
  },
  {
   "cell_type": "code",
   "execution_count": null,
   "metadata": {},
   "outputs": [],
   "source": []
  },
  {
   "cell_type": "code",
   "execution_count": null,
   "metadata": {},
   "outputs": [],
   "source": [
    "preds_rf = predict_tsm(mod1, mod2, X_dev)"
   ]
  },
  {
   "cell_type": "code",
   "execution_count": null,
   "metadata": {},
   "outputs": [],
   "source": [
    "# RFs\n",
    "print_reports(preds_rf, y_dev)"
   ]
  },
  {
   "cell_type": "code",
   "execution_count": null,
   "metadata": {},
   "outputs": [],
   "source": [
    "# GBTs:\n",
    "print_reports(preds, y_dev)"
   ]
  },
  {
   "cell_type": "code",
   "execution_count": null,
   "metadata": {},
   "outputs": [],
   "source": []
  },
  {
   "cell_type": "code",
   "execution_count": null,
   "metadata": {},
   "outputs": [],
   "source": [
    "#mod_one = sklearn.ensemble.RandomForestClassifier(n_estimators=200, n_jobs=8, random_state=42)\n",
    "mod_one = GradientBoostingClassifier(n_estimators=200, random_state=14128, verbose=True)"
   ]
  },
  {
   "cell_type": "code",
   "execution_count": null,
   "metadata": {},
   "outputs": [],
   "source": [
    "del_str_cols(X_train)"
   ]
  },
  {
   "cell_type": "code",
   "execution_count": null,
   "metadata": {},
   "outputs": [],
   "source": [
    "mod_one.fit(X_train, y_train)"
   ]
  },
  {
   "cell_type": "code",
   "execution_count": null,
   "metadata": {},
   "outputs": [],
   "source": [
    "# RFs:\n",
    "preds_one = mod_one.predict(X_dev)\n",
    "print_reports(preds, y_dev)"
   ]
  },
  {
   "cell_type": "code",
   "execution_count": null,
   "metadata": {},
   "outputs": [],
   "source": [
    "# GBTs:\n",
    "preds_one = mod_one.predict(X_dev)\n",
    "print_reports(preds, y_dev)"
   ]
  },
  {
   "cell_type": "code",
   "execution_count": null,
   "metadata": {},
   "outputs": [],
   "source": []
  },
  {
   "cell_type": "code",
   "execution_count": null,
   "metadata": {},
   "outputs": [],
   "source": []
  },
  {
   "cell_type": "code",
   "execution_count": null,
   "metadata": {},
   "outputs": [],
   "source": []
  },
  {
   "cell_type": "code",
   "execution_count": null,
   "metadata": {},
   "outputs": [],
   "source": [
    "import matplotlib.pyplot as plt\n",
    "from sklearn.metrics import confusion_matrix\n",
    "import itertools\n",
    "def plot_confusion_matrix(cm, classes,\n",
    "                          normalize=False,\n",
    "                          title='Confusion matrix',\n",
    "                          cmap=plt.cm.Blues):\n",
    "    \"\"\"\n",
    "    This function prints and plots the confusion matrix.\n",
    "    Normalization can be applied by setting `normalize=True`.\n",
    "    \"\"\"\n",
    "    if normalize:\n",
    "        cm = cm.astype('float') / cm.sum(axis=1)[:, np.newaxis]\n",
    "        print(\"Normalized confusion matrix\")\n",
    "    else:\n",
    "        print('Confusion matrix, without normalization')\n",
    "\n",
    "    print(cm)\n",
    "\n",
    "    plt.imshow(cm, interpolation='nearest', cmap=cmap)\n",
    "    plt.title(title)\n",
    "    plt.colorbar()\n",
    "    tick_marks = np.arange(len(classes))\n",
    "    plt.xticks(tick_marks, classes, rotation=45)\n",
    "    plt.yticks(tick_marks, classes)\n",
    "\n",
    "    fmt = '.2f' if normalize else 'd'\n",
    "    thresh = cm.max() / 2.\n",
    "    for i, j in itertools.product(range(cm.shape[0]), range(cm.shape[1])):\n",
    "        plt.text(j, i, format(cm[i, j], fmt),\n",
    "                 horizontalalignment=\"center\",\n",
    "                 color=\"white\" if cm[i, j] > thresh else \"black\")\n",
    "\n",
    "    plt.tight_layout()\n",
    "    plt.ylabel('True label')\n",
    "    plt.xlabel('Predicted label')\n",
    "\n",
    "# Compute confusion matrix\n",
    "cnf_matrix = confusion_matrix(y_dev, preds_rf)\n",
    "class_names = [\"agrees\", \"disagrees\", \"discusses\", \"unrelated\"]\n",
    "\n",
    "np.set_printoptions(precision=2)\n",
    "\n",
    "# Plot non-normalized confusion matrix\n",
    "plt.figure()\n",
    "plot_confusion_matrix(cnf_matrix, classes=class_names,\n",
    "                      title='Confusion matrix, without normalization')\n",
    "\n",
    "# Plot normalized confusion matrix\n",
    "plt.figure()\n",
    "plot_confusion_matrix(cnf_matrix, classes=class_names, normalize=True,\n",
    "                      title='Normalized confusion matrix')\n",
    "\n",
    "plt.show()"
   ]
  },
  {
   "cell_type": "code",
   "execution_count": null,
   "metadata": {},
   "outputs": [],
   "source": []
  },
  {
   "cell_type": "code",
   "execution_count": null,
   "metadata": {},
   "outputs": [],
   "source": []
  },
  {
   "cell_type": "code",
   "execution_count": null,
   "metadata": {},
   "outputs": [],
   "source": []
  },
  {
   "cell_type": "code",
   "execution_count": null,
   "metadata": {},
   "outputs": [],
   "source": []
  },
  {
   "cell_type": "code",
   "execution_count": null,
   "metadata": {},
   "outputs": [],
   "source": []
  },
  {
   "cell_type": "code",
   "execution_count": null,
   "metadata": {},
   "outputs": [],
   "source": []
  },
  {
   "cell_type": "code",
   "execution_count": null,
   "metadata": {},
   "outputs": [],
   "source": []
  },
  {
   "cell_type": "code",
   "execution_count": null,
   "metadata": {},
   "outputs": [],
   "source": []
  },
  {
   "cell_type": "code",
   "execution_count": null,
   "metadata": {},
   "outputs": [],
   "source": [
    "----"
   ]
  },
  {
   "cell_type": "code",
   "execution_count": null,
   "metadata": {},
   "outputs": [],
   "source": [
    "crf = sklearn.ensemble.RandomForestClassifier(n_estimators=200, n_jobs=8, random_state=42)"
   ]
  },
  {
   "cell_type": "code",
   "execution_count": null,
   "metadata": {},
   "outputs": [],
   "source": [
    "crf.fit(X_train, y_train)"
   ]
  },
  {
   "cell_type": "code",
   "execution_count": null,
   "metadata": {},
   "outputs": [],
   "source": [
    "preds = crf.predict(X_dev)\n",
    "print(classification_report(y_dev, preds))"
   ]
  },
  {
   "cell_type": "code",
   "execution_count": null,
   "metadata": {},
   "outputs": [],
   "source": [
    "y_train.value_counts(normalize=True)"
   ]
  },
  {
   "cell_type": "code",
   "execution_count": null,
   "metadata": {},
   "outputs": [],
   "source": [
    "from sklearn.metrics import confusion_matrix"
   ]
  },
  {
   "cell_type": "code",
   "execution_count": null,
   "metadata": {},
   "outputs": [],
   "source": [
    "confusion_matrix(y_test, preds, labels=[\"agree\", \"disagree\", \"discuss\"], sample_weight=None)"
   ]
  },
  {
   "cell_type": "code",
   "execution_count": null,
   "metadata": {},
   "outputs": [],
   "source": []
  }
 ],
 "metadata": {
  "kernelspec": {
   "display_name": "Python 3",
   "language": "python",
   "name": "python3"
  },
  "language_info": {
   "codemirror_mode": {
    "name": "ipython",
    "version": 3
   },
   "file_extension": ".py",
   "mimetype": "text/x-python",
   "name": "python",
   "nbconvert_exporter": "python",
   "pygments_lexer": "ipython3",
   "version": "3.6.5"
  }
 },
 "nbformat": 4,
 "nbformat_minor": 2
}
