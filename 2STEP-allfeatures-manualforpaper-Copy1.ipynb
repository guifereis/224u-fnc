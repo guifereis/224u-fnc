{
 "cells": [
  {
   "cell_type": "code",
   "execution_count": 1,
   "metadata": {},
   "outputs": [
    {
     "name": "stdout",
     "output_type": "stream",
     "text": [
      "[nltk_data] Downloading package averaged_perceptron_tagger to\n",
      "[nltk_data]     /home/gui/nltk_data...\n",
      "[nltk_data]   Package averaged_perceptron_tagger is already up-to-\n",
      "[nltk_data]       date!\n"
     ]
    },
    {
     "name": "stderr",
     "output_type": "stream",
     "text": [
      "/home/gui/anaconda3/envs/nlu4/lib/python3.6/site-packages/nltk/twitter/__init__.py:20: UserWarning: The twython library has not been installed. Some functionality from the twitter package will not be available.\n",
      "  warnings.warn(\"The twython library has not been installed. \"\n"
     ]
    }
   ],
   "source": [
    "import pandas as pd\n",
    "import numpy as np\n",
    "import sklearn\n",
    "import os\n",
    "from tqdm import tqdm, trange, tqdm_notebook\n",
    "import re\n",
    "import nltk\n",
    "from multiprocessing import cpu_count, Pool\n",
    "from functools import partial\n",
    "import ipywidgets\n",
    "from sklearn.ensemble import GradientBoostingClassifier\n",
    "from sklearn.metrics import classification_report\n",
    "from rewrite.scorer import score_4class\n",
    "import utils # utils from CS224U\n",
    "from scipy.spatial import distance\n",
    "import random\n",
    "tqdm.pandas()\n",
    "nltk.download('averaged_perceptron_tagger')\n",
    "from nltk.sentiment import vader"
   ]
  },
  {
   "cell_type": "code",
   "execution_count": 2,
   "metadata": {},
   "outputs": [],
   "source": [
    "def del_str_cols(df): # df should be X, e.g. X_train or X_dev\n",
    "    try:\n",
    "        del df[\"articleBody\"]\n",
    "    except:\n",
    "        pass\n",
    "    try:\n",
    "        del df[\"Headline\"]\n",
    "    except:\n",
    "        pass\n",
    "    try:\n",
    "        del df[\"Body ID\"]\n",
    "    except:\n",
    "        pass\n",
    "    for col_name in df.columns:\n",
    "        if \"___\" == col_name[0:3]:\n",
    "            del df[col_name]\n",
    "            \n",
    "def print_reports(preds, actual):\n",
    "    print(classification_report(actual, preds))\n",
    "    score, max_score = score_4class(actual, preds)\n",
    "    print(\"Weighted accuracy: \"+str(score/max_score)+\" (\"+str(score)+\" out of \"+str(max_score)+\")\")\n",
    "\n",
    "def print_feature_importances(model, df):\n",
    "    feat_imp = model.feature_importances_\n",
    "    indices = np.argsort(feat_imp)[::-1]\n",
    "    for ii in indices:\n",
    "        print(df.columns[ii]+\": \"+str(feat_imp[ii]))\n",
    "        \n",
    "# Usage: pass Xy_train (or a df with Body ID col., and y col. as well)\n",
    "# returns the same format of df, but spplit so that no body ID is shared between sets\n",
    "proportion_for_holdout_dev_set = 0.2\n",
    "def disjoint_train_test_split(Xy, frac_for_test_set=proportion_for_holdout_dev_set, random_state=42):\n",
    "    r = random.Random()\n",
    "    r.seed(random_state)\n",
    "    Xy_IDs = list(set(Xy[\"Body ID\"]))\n",
    "    print(\"Total unique IDs: \"+str(len(Xy_IDs)))\n",
    "    r.shuffle(Xy_IDs)\n",
    "    num_IDs_for_train = int((1-frac_for_test_set)*len(Xy_IDs))\n",
    "    train_IDs = Xy_IDs[:num_IDs_for_train]\n",
    "    test_IDs = Xy_IDs[num_IDs_for_train:]\n",
    "    train_df = Xy[Xy[\"Body ID\"].isin(train_IDs)]\n",
    "    test_df = Xy[Xy[\"Body ID\"].isin(test_IDs)]\n",
    "    print(\"# instances in train: \"+str(train_df.shape[0]))\n",
    "    print(\"# instances in test: \"+str(test_df.shape[0]))\n",
    "    assert len(set(train_df[\"Body ID\"].unique()) & set(test_df[\"Body ID\"].unique())) == 0 # totally disjoint\n",
    "    return train_df, test_df"
   ]
  },
  {
   "cell_type": "code",
   "execution_count": 3,
   "metadata": {},
   "outputs": [],
   "source": [
    "from multiprocessing import cpu_count, Pool\n",
    "cores = cpu_count() \n",
    "partitions = cores\n",
    "def parallelize(data, func):\n",
    "    data_split = np.array_split(data, partitions)\n",
    "    pool = Pool(cores)\n",
    "    data = pd.concat(pool.map(func, data_split))\n",
    "    pool.close()\n",
    "    pool.join()\n",
    "    return data"
   ]
  },
  {
   "cell_type": "code",
   "execution_count": 4,
   "metadata": {},
   "outputs": [],
   "source": [
    "##### ADD OUR FEATURES\n",
    "# START SENTIMENT ANALYSIS\n",
    "def vader_pol_helper(df):\n",
    "    return df.apply(lambda hl: pd.Series(sid.polarity_scores(hl)))\n",
    "sid = vader.SentimentIntensityAnalyzer() # global scope for parallelization\n",
    "def add_vader_sent(X_df):\n",
    "    def vader_polarity_scores(df, text_col_name, col_name_prefix):\n",
    "        pol_scores = parallelize(df[text_col_name], vader_pol_helper)\n",
    "        #pol_scores = df[text_col_name].progress_apply(lambda hl: pd.Series(sid.polarity_scores(hl)))\n",
    "        cols = pol_scores.columns\n",
    "        new_cols = []\n",
    "        for col_name in cols:\n",
    "            new_cols.append(\"vader_\"+col_name_prefix+\"_\"+col_name)\n",
    "        pol_scores.columns = new_cols\n",
    "        return pol_scores\n",
    "\n",
    "    vader_hl_df = vader_polarity_scores(X_df, \"Headline\", \"hl\")\n",
    "    vader_body_df = vader_polarity_scores(X_df, \"articleBody\", \"body\")\n",
    "    X_df = pd.concat([X_df, vader_hl_df, vader_body_df], axis=1)\n",
    "    return X_df\n",
    "\n",
    "# END SENTIMENT ANALYSIS\n",
    "### GLOVE ####\n",
    "glove_dim = 200\n",
    "glove_src = os.path.join(\"GloVe\", 'glove.6B.'+str(glove_dim)+'d.txt')\n",
    "GLOVE = utils.glove2dict(glove_src)\n",
    "def text_to_mean_vec_ignore_unk(text, w2v=GLOVE, dim=glove_dim):\n",
    "    vec = np.zeros(dim)\n",
    "    num_added = 0\n",
    "    for word in text:\n",
    "        if word in w2v:\n",
    "            vec += w2v[word]\n",
    "            num_added += 1\n",
    "    if num_added > 0:\n",
    "        return vec/num_added\n",
    "    else:\n",
    "        return np.array([random.uniform(-0.5, 0.5) for i in range(glove_dim)])\n",
    "def get_glove_cos_dist_hl_body(row):\n",
    "    hl = row[\"___clean_headline_tokenized_lemmas\"]\n",
    "    body = row[\"___clean_body_tokenized_lemmas\"]\n",
    "    hl_vec = text_to_mean_vec_ignore_unk(hl)\n",
    "    body_vec = text_to_mean_vec_ignore_unk(body)\n",
    "    cosine_dist = distance.cosine(hl_vec, body_vec) # cosine() from scipy\n",
    "    return cosine_dist\n",
    "\n",
    "def get_verbs(text):\n",
    "    verbs = [token for token, pos in nltk.pos_tag(text) if pos.startswith('VB')]\n",
    "    verbs_sentence = ' '.join(word[0] for word in verbs)\n",
    "    return verbs_sentence\n",
    " \n",
    "def get_verb_glove_cos_dist_hl_body(row):\n",
    "    hl = row[\"___clean_headline_tokenized_lemmas\"]\n",
    "    body = row[\"___clean_body_tokenized_lemmas\"]\n",
    "    \n",
    "    hl_verbs = get_verbs(hl)\n",
    "    body_verbs = get_verbs(body)\n",
    "    \n",
    "    hl_vec = text_to_mean_vec_ignore_unk(hl_verbs)\n",
    "    body_vec = text_to_mean_vec_ignore_unk(body_verbs)\n",
    "    cosine_dist = distance.cosine(hl_vec, body_vec) # cosine() from scipy\n",
    "    return cosine_dist\n",
    "\n",
    "def hl_body_glove_cos_dist_helper(X_df):\n",
    "    return X_df[[\"___clean_headline_tokenized_lemmas\", \"___clean_body_tokenized_lemmas\"]].apply(get_glove_cos_dist_hl_body, axis=1)\n",
    "\n",
    "def hl_body_glove_verb_helper(X_df):\n",
    "    return X_df[[\"___clean_headline_tokenized_lemmas\", \"___clean_body_tokenized_lemmas\"]].apply(get_verb_glove_cos_dist_hl_body, axis=1)\n",
    "\n",
    "### END GLOVE CODE BLOCK\n",
    "def add_all_features(X_df, parallel=True):\n",
    "    print(\"Adding glove feature #1...\", flush=True)\n",
    "    X_df[\"hl_body_glove_\"+str(glove_dim)+\"_cos_dist\"] = parallelize(X_df, hl_body_glove_cos_dist_helper)\n",
    "    print(\"Adding glove feature #2...\", flush=True)\n",
    "    X_df[\"hl_body_verb_glove_\"+str(glove_dim)+\"_cos_dist\"] = parallelize(X_df, hl_body_glove_verb_helper)\n",
    "    print(\"Adding VADER sentiment...\", flush=True)\n",
    "    X_df = add_vader_sent(X_df)\n",
    "    return X_df"
   ]
  },
  {
   "cell_type": "code",
   "execution_count": null,
   "metadata": {},
   "outputs": [],
   "source": []
  },
  {
   "cell_type": "code",
   "execution_count": null,
   "metadata": {},
   "outputs": [],
   "source": [
    "X_train = pd.read_hdf(\"X_train_disjoint-allfeatures.h5\", key=\"df\")\n",
    "y_train = pd.read_hdf(\"y_train_disjoint.h5\", key=\"df\")\n",
    "\n",
    "X_dev = pd.read_hdf(\"X_dev_disjoint-allfeatures.h5\", key=\"df\")\n",
    "y_dev = pd.read_hdf(\"y_dev_disjoint.h5\", key=\"df\")\n",
    "\n",
    "X_test = pd.read_hdf(\"X_TEST-allfeatures.h5\", key=\"df\")\n",
    "y_test = pd.read_hdf(\"y_TEST_disjoint.h5\", key=\"df\")\n",
    "\n"
   ]
  },
  {
   "cell_type": "code",
   "execution_count": null,
   "metadata": {},
   "outputs": [],
   "source": [
    "%time X_train = add_all_features(X_train)\n",
    "%time X_dev = add_all_features(X_dev)\n",
    "%time X_test = add_all_features(X_test)"
   ]
  },
  {
   "cell_type": "code",
   "execution_count": null,
   "metadata": {},
   "outputs": [],
   "source": [
    "X_train.to_hdf('X_train_disjoint-allfeatures-2.h5','df')\n",
    "X_dev.to_hdf('X_dev_disjoint-allfeatures-2.h5','df')\n",
    "X_test.to_hdf('X_TEST-allfeatures-2.h5','df')"
   ]
  },
  {
   "cell_type": "code",
   "execution_count": null,
   "metadata": {},
   "outputs": [],
   "source": [
    "---------"
   ]
  },
  {
   "cell_type": "code",
   "execution_count": null,
   "metadata": {},
   "outputs": [],
   "source": []
  },
  {
   "cell_type": "code",
   "execution_count": 53,
   "metadata": {},
   "outputs": [],
   "source": [
    "X_train = pd.read_hdf(\"X_train_disjoint-allfeatures-2.h5\", key=\"df\")\n",
    "y_train = pd.read_hdf(\"y_train_disjoint.h5\", key=\"df\")\n",
    "y_train = y_train[\"Stance\"]\n",
    "\n",
    "X_dev = pd.read_hdf(\"X_dev_disjoint-allfeatures-2.h5\", key=\"df\")\n",
    "y_dev = pd.read_hdf(\"y_dev_disjoint.h5\", key=\"df\")\n",
    "y_dev = y_dev[\"Stance\"]\n",
    "del_str_cols(X_dev)\n",
    "\n",
    "X_test = pd.read_hdf(\"X_TEST-allfeatures-2.h5\", key=\"df\")\n",
    "y_test = pd.read_hdf(\"y_TEST_disjoint.h5\", key=\"df\")\n",
    "y_test = y_test[\"Stance\"]\n",
    "del_str_cols(X_test)\n"
   ]
  },
  {
   "cell_type": "code",
   "execution_count": null,
   "metadata": {},
   "outputs": [],
   "source": []
  },
  {
   "cell_type": "code",
   "execution_count": 54,
   "metadata": {},
   "outputs": [],
   "source": [
    "# Step 1 -- turn into 1/2 sets\n",
    "def prep_2step_sets(X_train, y_train):\n",
    "    Xy_train = pd.concat([X_train, y_train], axis=1)\n",
    "\n",
    "    Xy_train_1 = Xy_train.copy()\n",
    "    Xy_train_1.loc[Xy_train_1[\"Stance\"] != \"unrelated\", 'Stance'] = \"related\"\n",
    "    y_train_1 = Xy_train_1[\"Stance\"]\n",
    "    X_train_1 = Xy_train_1.drop([\"Stance\"], axis=1)\n",
    "\n",
    "    Xy_train_2 = Xy_train[Xy_train[\"Stance\"] != \"unrelated\"]\n",
    "    y_train_2 = Xy_train_2[\"Stance\"]\n",
    "    X_train_2 = Xy_train_2.drop(\"Stance\", axis=1)\n",
    "\n",
    "    del_str_cols(X_train_1)\n",
    "    del_str_cols(X_train_2)\n",
    "    \n",
    "    return X_train_1, y_train_1, X_train_2, y_train_2"
   ]
  },
  {
   "cell_type": "code",
   "execution_count": 55,
   "metadata": {},
   "outputs": [],
   "source": [
    "X_train_1, y_train_1, X_train_2, y_train_2 = prep_2step_sets(X_train, y_train)"
   ]
  },
  {
   "cell_type": "code",
   "execution_count": null,
   "metadata": {},
   "outputs": [],
   "source": []
  },
  {
   "cell_type": "code",
   "execution_count": null,
   "metadata": {},
   "outputs": [],
   "source": []
  },
  {
   "cell_type": "code",
   "execution_count": 56,
   "metadata": {},
   "outputs": [
    {
     "name": "stdout",
     "output_type": "stream",
     "text": [
      "(39437, 53)\n",
      "(39437,)\n",
      "(10629, 53)\n",
      "(10629,)\n"
     ]
    }
   ],
   "source": [
    "print(X_train_1.shape)\n",
    "print(y_train_1.shape)\n",
    "print(X_train_2.shape)\n",
    "print(y_train_2.shape)"
   ]
  },
  {
   "cell_type": "code",
   "execution_count": 60,
   "metadata": {},
   "outputs": [
    {
     "name": "stdout",
     "output_type": "stream",
     "text": [
      "      Iter       Train Loss   Remaining Time \n",
      "         1           1.0238           11.06s\n",
      "         2           0.9178           11.01s\n",
      "         3           0.8338           10.81s\n",
      "         4           0.7654           10.61s\n",
      "         5           0.7080           10.95s\n",
      "         6           0.6587           10.78s\n",
      "         7           0.6170           10.64s\n",
      "         8           0.5811           10.71s\n",
      "         9           0.5483           10.67s\n",
      "        10           0.5207           10.58s\n",
      "        20           0.3673            9.92s\n",
      "        30           0.3109            9.79s\n",
      "        40           0.2788            9.26s\n",
      "        50           0.2608            8.51s\n",
      "        60           0.2479            7.90s\n",
      "        70           0.2393            7.17s\n",
      "        80           0.2320            6.57s\n",
      "        90           0.2258            5.96s\n",
      "       100           0.2206            5.38s\n",
      "       200           0.1851            0.00s\n",
      "      Iter       Train Loss   Remaining Time \n",
      "         1        9637.6448            9.35s\n",
      "         2        9343.4160            9.54s\n",
      "         3        9096.6649            9.50s\n",
      "         4        8880.6659            9.30s\n",
      "         5        8694.5556            9.41s\n",
      "         6        8531.4964            9.42s\n",
      "         7        8393.5862            9.31s\n",
      "         8        8270.7897            9.17s\n",
      "         9        8163.0356            9.25s\n",
      "        10        8065.7804            9.07s\n",
      "        20        7499.3412            8.32s\n",
      "        30        7216.2666            7.60s\n",
      "        40        7003.1268            7.10s\n",
      "        50        6824.1222            6.64s\n",
      "        60        6674.2162            6.20s\n",
      "        70        6529.9345            5.74s\n",
      "        80        6404.2150            5.25s\n",
      "        90        6294.9514            4.91s\n",
      "       100        6178.0779            4.50s\n",
      "       200        5317.4053            0.00s\n"
     ]
    },
    {
     "data": {
      "text/plain": [
       "GradientBoostingClassifier(criterion='friedman_mse', init=None,\n",
       "              learning_rate=0.1, loss='deviance', max_depth=3,\n",
       "              max_features=None, max_leaf_nodes=None,\n",
       "              min_impurity_decrease=0.0, min_impurity_split=None,\n",
       "              min_samples_leaf=1, min_samples_split=2,\n",
       "              min_weight_fraction_leaf=0.0, n_estimators=200,\n",
       "              presort='auto', random_state=14128, subsample=1.0,\n",
       "              verbose=True, warm_start=False)"
      ]
     },
     "execution_count": 60,
     "metadata": {},
     "output_type": "execute_result"
    }
   ],
   "source": [
    "## CLASSIFIER 1 - RELATED/UNRELATED\n",
    "#mod1 = sklearn.ensemble.RandomForestClassifier(n_estimators=200, n_jobs=8, random_state=42)\n",
    "mod1 = GradientBoostingClassifier(n_estimators=200, random_state=14128, verbose=True)\n",
    "mod1.fit(X_train_1, y_train_1)\n",
    "\n",
    "## CLASSIFIER 2 - 3-class\n",
    "#mod2 = sklearn.ensemble.RandomForestClassifier(n_estimators=200, n_jobs=8, random_state=42)\n",
    "mod2 = GradientBoostingClassifier(n_estimators=200, random_state=14128, verbose=True)\n",
    "mod2.fit(X_train_2, y_train_2)"
   ]
  },
  {
   "cell_type": "code",
   "execution_count": 61,
   "metadata": {},
   "outputs": [],
   "source": [
    "def predict_tsm(mod1, mod2, X):\n",
    "        #if X is None:\n",
    "        #    X = self.X_dev_1\n",
    "        del_str_cols(X)\n",
    "        preds_1 = mod1.predict(X)\n",
    "        preds_2 = mod2.predict(X) # note X_dev_1\n",
    "        \n",
    "        new_preds = preds_1.copy()\n",
    "        for ii in range(preds_1.shape[0]):\n",
    "            if preds_1[ii] == \"related\":\n",
    "                new_preds[ii] = preds_2[ii]\n",
    "            else:\n",
    "                new_preds[ii] = \"unrelated\"\n",
    "        return new_preds"
   ]
  },
  {
   "cell_type": "code",
   "execution_count": 62,
   "metadata": {},
   "outputs": [
    {
     "name": "stdout",
     "output_type": "stream",
     "text": [
      "             precision    recall  f1-score   support\n",
      "\n",
      "      agree       0.41      0.21      0.28      1903\n",
      "   disagree       0.22      0.01      0.01       697\n",
      "    discuss       0.62      0.77      0.68      4464\n",
      "  unrelated       0.95      0.97      0.96     18349\n",
      "\n",
      "avg / total       0.83      0.85      0.83     25413\n",
      "\n",
      "Weighted accuracy: 0.7603046883381611 (8858.5 out of 11651.25)\n"
     ]
    }
   ],
   "source": [
    "preds_rf_test = predict_tsm(mod1, mod2, X_test) # actually GBTs\n",
    "print_reports(preds_rf_test, y_test)"
   ]
  },
  {
   "cell_type": "code",
   "execution_count": 59,
   "metadata": {},
   "outputs": [
    {
     "name": "stdout",
     "output_type": "stream",
     "text": [
      "             precision    recall  f1-score   support\n",
      "\n",
      "      agree       0.44      0.18      0.25      1903\n",
      "   disagree       0.00      0.00      0.00       697\n",
      "    discuss       0.62      0.78      0.69      4464\n",
      "  unrelated       0.94      0.98      0.96     18349\n",
      "\n",
      "avg / total       0.82      0.86      0.83     25413\n",
      "\n",
      "Weighted accuracy: 0.7588456174230233 (8841.5 out of 11651.25)\n"
     ]
    },
    {
     "name": "stderr",
     "output_type": "stream",
     "text": [
      "/home/gui/anaconda3/envs/nlu4/lib/python3.6/site-packages/sklearn/metrics/classification.py:1135: UndefinedMetricWarning: Precision and F-score are ill-defined and being set to 0.0 in labels with no predicted samples.\n",
      "  'precision', 'predicted', average, warn_for)\n"
     ]
    }
   ],
   "source": [
    "preds_rf_test = predict_tsm(mod1, mod2, X_test)\n",
    "print_reports(preds_rf_test, y_test)"
   ]
  },
  {
   "cell_type": "code",
   "execution_count": null,
   "metadata": {},
   "outputs": [],
   "source": []
  },
  {
   "cell_type": "code",
   "execution_count": null,
   "metadata": {},
   "outputs": [],
   "source": []
  },
  {
   "cell_type": "code",
   "execution_count": null,
   "metadata": {},
   "outputs": [],
   "source": []
  },
  {
   "cell_type": "code",
   "execution_count": null,
   "metadata": {},
   "outputs": [],
   "source": []
  },
  {
   "cell_type": "code",
   "execution_count": null,
   "metadata": {},
   "outputs": [],
   "source": [
    "----"
   ]
  },
  {
   "cell_type": "code",
   "execution_count": null,
   "metadata": {},
   "outputs": [],
   "source": []
  },
  {
   "cell_type": "code",
   "execution_count": 43,
   "metadata": {},
   "outputs": [],
   "source": [
    "preds_rf = predict_tsm(mod1, mod2, X_dev)"
   ]
  },
  {
   "cell_type": "code",
   "execution_count": 44,
   "metadata": {},
   "outputs": [
    {
     "name": "stdout",
     "output_type": "stream",
     "text": [
      "             precision    recall  f1-score   support\n",
      "\n",
      "      agree       0.60      0.26      0.36       784\n",
      "   disagree       1.00      0.07      0.13       209\n",
      "    discuss       0.65      0.85      0.73      1805\n",
      "  unrelated       0.97      0.98      0.97      7737\n",
      "\n",
      "avg / total       0.88      0.88      0.87     10535\n",
      "\n",
      "Weighted accuracy: 0.8090760209202811 (3828.75 out of 4732.25)\n"
     ]
    }
   ],
   "source": [
    "# RFs\n",
    "print_reports(preds_rf, y_dev)"
   ]
  },
  {
   "cell_type": "code",
   "execution_count": 31,
   "metadata": {},
   "outputs": [
    {
     "name": "stdout",
     "output_type": "stream",
     "text": [
      "             precision    recall  f1-score   support\n",
      "\n",
      "      agree       0.51      0.24      0.32       784\n",
      "   disagree       0.30      0.01      0.03       209\n",
      "    discuss       0.64      0.84      0.73      1805\n",
      "  unrelated       0.97      0.98      0.97      7737\n",
      "\n",
      "avg / total       0.87      0.88      0.86     10535\n",
      "\n",
      "Weighted accuracy: 0.8044270695757831 (3806.75 out of 4732.25)\n"
     ]
    }
   ],
   "source": [
    "# GBTs:\n",
    "print_reports(preds, y_dev)"
   ]
  },
  {
   "cell_type": "code",
   "execution_count": null,
   "metadata": {},
   "outputs": [],
   "source": []
  },
  {
   "cell_type": "code",
   "execution_count": 32,
   "metadata": {},
   "outputs": [],
   "source": [
    "#mod_one = sklearn.ensemble.RandomForestClassifier(n_estimators=200, n_jobs=8, random_state=42)\n",
    "mod_one = GradientBoostingClassifier(n_estimators=200, random_state=14128, verbose=True)"
   ]
  },
  {
   "cell_type": "code",
   "execution_count": 33,
   "metadata": {},
   "outputs": [],
   "source": [
    "del_str_cols(X_train)"
   ]
  },
  {
   "cell_type": "code",
   "execution_count": 34,
   "metadata": {},
   "outputs": [
    {
     "name": "stdout",
     "output_type": "stream",
     "text": [
      "      Iter       Train Loss   Remaining Time \n",
      "         1       38536.1616            1.82m\n",
      "         2       34452.7665            1.82m\n",
      "         3       31155.7738            1.76m\n",
      "         4       28454.5056            1.73m\n",
      "         5       26224.7660            1.71m\n",
      "         6       24357.8561            1.69m\n",
      "         7       22789.9342            1.67m\n",
      "         8       21469.7664            1.65m\n",
      "         9       20336.3581            1.65m\n",
      "        10       19386.5215            1.64m\n",
      "        20       14712.6815            1.56m\n",
      "        30       13239.1760            1.45m\n",
      "        40       12549.6913            1.35m\n",
      "        50       12071.9573            1.25m\n",
      "        60       11714.0419            1.16m\n",
      "        70       11437.0315            1.06m\n",
      "        80       11196.0321           58.36s\n",
      "        90       10966.1043           53.11s\n",
      "       100       10757.8354           48.08s\n",
      "       200        9280.4048            0.00s\n"
     ]
    },
    {
     "data": {
      "text/plain": [
       "GradientBoostingClassifier(criterion='friedman_mse', init=None,\n",
       "              learning_rate=0.1, loss='deviance', max_depth=3,\n",
       "              max_features=None, max_leaf_nodes=None,\n",
       "              min_impurity_decrease=0.0, min_impurity_split=None,\n",
       "              min_samples_leaf=1, min_samples_split=2,\n",
       "              min_weight_fraction_leaf=0.0, n_estimators=200,\n",
       "              presort='auto', random_state=14128, subsample=1.0,\n",
       "              verbose=True, warm_start=False)"
      ]
     },
     "execution_count": 34,
     "metadata": {},
     "output_type": "execute_result"
    }
   ],
   "source": [
    "mod_one.fit(X_train, y_train)"
   ]
  },
  {
   "cell_type": "code",
   "execution_count": 21,
   "metadata": {},
   "outputs": [
    {
     "name": "stdout",
     "output_type": "stream",
     "text": [
      "             precision    recall  f1-score   support\n",
      "\n",
      "      agree       0.60      0.26      0.36       784\n",
      "   disagree       1.00      0.07      0.13       209\n",
      "    discuss       0.65      0.85      0.73      1805\n",
      "  unrelated       0.97      0.98      0.97      7737\n",
      "\n",
      "avg / total       0.88      0.88      0.87     10535\n",
      "\n",
      "Weighted accuracy: 0.8090760209202811 (3828.75 out of 4732.25)\n"
     ]
    }
   ],
   "source": [
    "# RFs:\n",
    "preds_one = mod_one.predict(X_dev)\n",
    "print_reports(preds, y_dev)"
   ]
  },
  {
   "cell_type": "code",
   "execution_count": 35,
   "metadata": {},
   "outputs": [
    {
     "name": "stdout",
     "output_type": "stream",
     "text": [
      "             precision    recall  f1-score   support\n",
      "\n",
      "      agree       0.51      0.24      0.32       784\n",
      "   disagree       0.30      0.01      0.03       209\n",
      "    discuss       0.64      0.84      0.73      1805\n",
      "  unrelated       0.97      0.98      0.97      7737\n",
      "\n",
      "avg / total       0.87      0.88      0.86     10535\n",
      "\n",
      "Weighted accuracy: 0.8044270695757831 (3806.75 out of 4732.25)\n"
     ]
    }
   ],
   "source": [
    "# GBTs:\n",
    "preds_one = mod_one.predict(X_dev)\n",
    "print_reports(preds, y_dev)"
   ]
  },
  {
   "cell_type": "code",
   "execution_count": null,
   "metadata": {},
   "outputs": [],
   "source": []
  },
  {
   "cell_type": "code",
   "execution_count": null,
   "metadata": {},
   "outputs": [],
   "source": []
  },
  {
   "cell_type": "code",
   "execution_count": null,
   "metadata": {},
   "outputs": [],
   "source": []
  },
  {
   "cell_type": "code",
   "execution_count": 50,
   "metadata": {},
   "outputs": [
    {
     "name": "stdout",
     "output_type": "stream",
     "text": [
      "Confusion matrix, without normalization\n",
      "[[ 205    0  503   76]\n",
      " [  27   15  150   17]\n",
      " [  99    0 1528  178]\n",
      " [  12    0  181 7544]]\n",
      "Normalized confusion matrix\n",
      "[[0.26 0.   0.64 0.1 ]\n",
      " [0.13 0.07 0.72 0.08]\n",
      " [0.05 0.   0.85 0.1 ]\n",
      " [0.   0.   0.02 0.98]]\n"
     ]
    },
    {
     "data": {
      "image/png": "[encoded data removed]",
      "text/plain": [
       "<Figure size 432x288 with 2 Axes>"
      ]
     },
     "metadata": {},
     "output_type": "display_data"
    },
    {
     "data": {
      "image/png": "[encoded data removed]",
      "text/plain": [
       "<Figure size 432x288 with 2 Axes>"
      ]
     },
     "metadata": {},
     "output_type": "display_data"
    }
   ],
   "source": [
    "import matplotlib.pyplot as plt\n",
    "from sklearn.metrics import confusion_matrix\n",
    "import itertools\n",
    "def plot_confusion_matrix(cm, classes,\n",
    "                          normalize=False,\n",
    "                          title='Confusion matrix',\n",
    "                          cmap=plt.cm.Blues):\n",
    "    \"\"\"\n",
    "    This function prints and plots the confusion matrix.\n",
    "    Normalization can be applied by setting `normalize=True`.\n",
    "    \"\"\"\n",
    "    if normalize:\n",
    "        cm = cm.astype('float') / cm.sum(axis=1)[:, np.newaxis]\n",
    "        print(\"Normalized confusion matrix\")\n",
    "    else:\n",
    "        print('Confusion matrix, without normalization')\n",
    "\n",
    "    print(cm)\n",
    "\n",
    "    plt.imshow(cm, interpolation='nearest', cmap=cmap)\n",
    "    plt.title(title)\n",
    "    plt.colorbar()\n",
    "    tick_marks = np.arange(len(classes))\n",
    "    plt.xticks(tick_marks, classes, rotation=45)\n",
    "    plt.yticks(tick_marks, classes)\n",
    "\n",
    "    fmt = '.2f' if normalize else 'd'\n",
    "    thresh = cm.max() / 2.\n",
    "    for i, j in itertools.product(range(cm.shape[0]), range(cm.shape[1])):\n",
    "        plt.text(j, i, format(cm[i, j], fmt),\n",
    "                 horizontalalignment=\"center\",\n",
    "                 color=\"white\" if cm[i, j] > thresh else \"black\")\n",
    "\n",
    "    plt.tight_layout()\n",
    "    plt.ylabel('True label')\n",
    "    plt.xlabel('Predicted label')\n",
    "\n",
    "# Compute confusion matrix\n",
    "cnf_matrix = confusion_matrix(y_dev, preds_rf)\n",
    "class_names = [\"agrees\", \"disagrees\", \"discusses\", \"unrelated\"]\n",
    "\n",
    "np.set_printoptions(precision=2)\n",
    "\n",
    "# Plot non-normalized confusion matrix\n",
    "plt.figure()\n",
    "plot_confusion_matrix(cnf_matrix, classes=class_names,\n",
    "                      title='Confusion matrix, without normalization')\n",
    "\n",
    "# Plot normalized confusion matrix\n",
    "plt.figure()\n",
    "plot_confusion_matrix(cnf_matrix, classes=class_names, normalize=True,\n",
    "                      title='Normalized confusion matrix')\n",
    "\n",
    "plt.show()"
   ]
  },
  {
   "cell_type": "code",
   "execution_count": null,
   "metadata": {},
   "outputs": [],
   "source": []
  },
  {
   "cell_type": "code",
   "execution_count": null,
   "metadata": {},
   "outputs": [],
   "source": []
  },
  {
   "cell_type": "code",
   "execution_count": null,
   "metadata": {},
   "outputs": [],
   "source": []
  },
  {
   "cell_type": "code",
   "execution_count": null,
   "metadata": {},
   "outputs": [],
   "source": []
  },
  {
   "cell_type": "code",
   "execution_count": null,
   "metadata": {},
   "outputs": [],
   "source": []
  },
  {
   "cell_type": "code",
   "execution_count": null,
   "metadata": {},
   "outputs": [],
   "source": []
  },
  {
   "cell_type": "code",
   "execution_count": null,
   "metadata": {},
   "outputs": [],
   "source": []
  },
  {
   "cell_type": "code",
   "execution_count": null,
   "metadata": {},
   "outputs": [],
   "source": []
  },
  {
   "cell_type": "code",
   "execution_count": null,
   "metadata": {},
   "outputs": [],
   "source": [
    "----"
   ]
  },
  {
   "cell_type": "code",
   "execution_count": null,
   "metadata": {},
   "outputs": [],
   "source": [
    "crf = sklearn.ensemble.RandomForestClassifier(n_estimators=200, n_jobs=8, random_state=42)"
   ]
  },
  {
   "cell_type": "code",
   "execution_count": null,
   "metadata": {},
   "outputs": [],
   "source": [
    "crf.fit(X_train, y_train)"
   ]
  },
  {
   "cell_type": "code",
   "execution_count": null,
   "metadata": {},
   "outputs": [],
   "source": [
    "preds = crf.predict(X_dev)\n",
    "print(classification_report(y_dev, preds))"
   ]
  },
  {
   "cell_type": "code",
   "execution_count": null,
   "metadata": {},
   "outputs": [],
   "source": [
    "y_train.value_counts(normalize=True)"
   ]
  },
  {
   "cell_type": "code",
   "execution_count": null,
   "metadata": {},
   "outputs": [],
   "source": [
    "from sklearn.metrics import confusion_matrix"
   ]
  },
  {
   "cell_type": "code",
   "execution_count": null,
   "metadata": {},
   "outputs": [],
   "source": [
    "confusion_matrix(y_test, preds, labels=[\"agree\", \"disagree\", \"discuss\"], sample_weight=None)"
   ]
  },
  {
   "cell_type": "code",
   "execution_count": null,
   "metadata": {},
   "outputs": [],
   "source": []
  }
 ],
 "metadata": {
  "kernelspec": {
   "display_name": "Python 3",
   "language": "python",
   "name": "python3"
  },
  "language_info": {
   "codemirror_mode": {
    "name": "ipython",
    "version": 3
   },
   "file_extension": ".py",
   "mimetype": "text/x-python",
   "name": "python",
   "nbconvert_exporter": "python",
   "pygments_lexer": "ipython3",
   "version": "3.6.5"
  }
 },
 "nbformat": 4,
 "nbformat_minor": 2
}
