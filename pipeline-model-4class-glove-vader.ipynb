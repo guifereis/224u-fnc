{
 "cells": [
  {
   "cell_type": "code",
   "execution_count": null,
   "metadata": {},
   "outputs": [],
   "source": [
    "import pandas as pd\n",
    "import numpy as np\n",
    "import sklearn\n",
    "import os\n",
    "from tqdm import tqdm, trange, tqdm_notebook\n",
    "import re\n",
    "import nltk\n",
    "from multiprocessing import cpu_count, Pool\n",
    "from functools import partial\n",
    "import ipywidgets\n",
    "from sklearn.ensemble import GradientBoostingClassifier\n",
    "from sklearn.metrics import classification_report\n",
    "from rewrite.scorer import score_4class\n",
    "import utils # utils from CS224U\n",
    "from scipy.spatial import distance\n",
    "import random\n",
    "tqdm.pandas()"
   ]
  },
  {
   "cell_type": "code",
   "execution_count": null,
   "metadata": {},
   "outputs": [],
   "source": [
    "X_train = pd.read_hdf(\"X_train_full_allfeatures-NOLABEL.h5\", key=\"df\")\n",
    "y_train = pd.read_hdf(\"y_train_full.h5\", key=\"df\")"
   ]
  },
  {
   "cell_type": "code",
   "execution_count": null,
   "metadata": {},
   "outputs": [],
   "source": [
    "def del_str_cols(df): # df should be X, e.g. X_train or X_dev\n",
    "    del df[\"articleBody\"]\n",
    "    del df[\"Headline\"]\n",
    "    for col_name in df.columns:\n",
    "        if \"___\" == col_name[0:3]:\n",
    "            del df[col_name]\n",
    "#del_str_cols()"
   ]
  },
  {
   "cell_type": "code",
   "execution_count": null,
   "metadata": {},
   "outputs": [],
   "source": [
    "Xy_train = pd.concat([X_train, y_train], axis=1)\n",
    "print(Xy_train.shape)"
   ]
  },
  {
   "cell_type": "code",
   "execution_count": 5,
   "metadata": {},
   "outputs": [
    {
     "name": "stdout",
     "output_type": "stream",
     "text": [
      "(49972, 49)\n",
      "(49972,)\n"
     ]
    }
   ],
   "source": [
    "y_train = Xy_train[\"Stance\"]\n",
    "X_train = Xy_train.drop(\"Stance\", axis=1)\n",
    "print(X_train.shape)\n",
    "print(y_train.shape)"
   ]
  },
  {
   "cell_type": "code",
   "execution_count": null,
   "metadata": {},
   "outputs": [],
   "source": []
  },
  {
   "cell_type": "code",
   "execution_count": null,
   "metadata": {},
   "outputs": [],
   "source": []
  },
  {
   "cell_type": "code",
   "execution_count": 6,
   "metadata": {},
   "outputs": [
    {
     "name": "stderr",
     "output_type": "stream",
     "text": [
      "100%|██████████| 49972/49972 [00:32<00:00, 1550.66it/s]\n"
     ]
    }
   ],
   "source": [
    "### START GLOVE CODE BLOCK\n",
    "    # ---> Running this adds glove feature\n",
    "# GloVe reading code from CS224U instructors\n",
    "# functions for .apply() by us\n",
    "#def randvec(w, n=50, lower=-1.0, upper=1.0):\n",
    "#    \"\"\"Returns a random vector of length `n`. `w` is ignored.\"\"\"\n",
    "#    return utils.randvec(n=n, lower=lower, upper=upper)\n",
    "\n",
    "glove_dim = 200\n",
    "glove_src = os.path.join(\"GloVe\", 'glove.6B.'+str(glove_dim)+'d.txt')\n",
    "GLOVE = utils.glove2dict(glove_src)\n",
    "def text_to_mean_vec_ignore_unk(text, w2v=GLOVE, dim=glove_dim):\n",
    "    vec = np.zeros(dim)\n",
    "    num_added = 0\n",
    "    for word in text:\n",
    "        if word in w2v:\n",
    "            vec += w2v[word]\n",
    "            num_added += 1\n",
    "    if num_added > 0:\n",
    "        return vec/num_added\n",
    "    else:\n",
    "        return np.array([random.uniform(-0.5, 0.5) for i in range(glove_dim)])\n",
    "def get_glove_cos_dist_hl_body(row):\n",
    "    hl = row[\"___clean_headline_tokenized_lemmas\"]\n",
    "    body = row[\"___clean_body_tokenized_lemmas\"]\n",
    "    hl_vec = text_to_mean_vec_ignore_unk(hl)\n",
    "    body_vec = text_to_mean_vec_ignore_unk(body)\n",
    "    cosine_dist = distance.cosine(hl_vec, body_vec) # cosine() from scipy\n",
    "    return cosine_dist\n",
    "### END GLOVE CODE BLOCK\n",
    "X_train[\"hl_body_glove_\"+str(glove_dim)+\"_cos_dist\"] = X_train[[\"___clean_headline_tokenized_lemmas\", \"___clean_body_tokenized_lemmas\"]].progress_apply(get_glove_cos_dist_hl_body, axis=1)"
   ]
  },
  {
   "cell_type": "code",
   "execution_count": null,
   "metadata": {},
   "outputs": [],
   "source": []
  },
  {
   "cell_type": "code",
   "execution_count": null,
   "metadata": {},
   "outputs": [],
   "source": []
  },
  {
   "cell_type": "code",
   "execution_count": null,
   "metadata": {},
   "outputs": [],
   "source": []
  },
  {
   "cell_type": "code",
   "execution_count": null,
   "metadata": {},
   "outputs": [],
   "source": [
    "### START SENTIMENT ANALYSIS\n",
    "    # ---> Running this block adds VADER sentiment features\n",
    "from nltk.sentiment import vader\n",
    "sid = vader.SentimentIntensityAnalyzer()\n",
    "def vader_polarity_scores(df, text_col_name, col_name_prefix):\n",
    "    pol_scores = df[text_col_name].progress_apply(lambda hl: pd.Series(sid.polarity_scores(hl)))\n",
    "    cols = pol_scores.columns\n",
    "    new_cols = []\n",
    "    for col_name in cols:\n",
    "        new_cols.append(\"vader_\"+col_name_prefix+\"_\"+col_name)\n",
    "    pol_scores.columns = new_cols\n",
    "    return pol_scores\n",
    "\n",
    "vader_hl_df = vader_polarity_scores(X_train, \"Headline\", \"hl\")\n",
    "vader_body_df = vader_polarity_scores(X_train, \"articleBody\", \"body\")\n",
    "X_train = pd.concat([X_train, vader_hl_df, vader_body_df], axis=1)\n",
    "### END SENTIMENT ANALYSIS"
   ]
  },
  {
   "cell_type": "code",
   "execution_count": null,
   "metadata": {},
   "outputs": [],
   "source": [
    "# END SENTIMENT ANALYSIS"
   ]
  },
  {
   "cell_type": "code",
   "execution_count": 8,
   "metadata": {},
   "outputs": [],
   "source": [
    "del_str_cols(X_train)"
   ]
  },
  {
   "cell_type": "code",
   "execution_count": 9,
   "metadata": {},
   "outputs": [
    {
     "name": "stdout",
     "output_type": "stream",
     "text": [
      "(49972, 44)\n",
      "(49972,)\n"
     ]
    }
   ],
   "source": [
    "print(X_train.shape)\n",
    "print(y_train.shape)"
   ]
  },
  {
   "cell_type": "code",
   "execution_count": 10,
   "metadata": {},
   "outputs": [
    {
     "data": {
      "text/html": [
       "<div>\n",
       "<style scoped>\n",
       "    .dataframe tbody tr th:only-of-type {\n",
       "        vertical-align: middle;\n",
       "    }\n",
       "\n",
       "    .dataframe tbody tr th {\n",
       "        vertical-align: top;\n",
       "    }\n",
       "\n",
       "    .dataframe thead th {\n",
       "        text-align: right;\n",
       "    }\n",
       "</style>\n",
       "<table border=\"1\" class=\"dataframe\">\n",
       "  <thead>\n",
       "    <tr style=\"text-align: right;\">\n",
       "      <th></th>\n",
       "      <th>bin_count</th>\n",
       "      <th>bin_count_early</th>\n",
       "      <th>bin_count_stopless</th>\n",
       "      <th>word_overlap_features</th>\n",
       "      <th>wrf_hl_fake</th>\n",
       "      <th>wrf_hl_fraud</th>\n",
       "      <th>wrf_hl_hoax</th>\n",
       "      <th>wrf_hl_false</th>\n",
       "      <th>wrf_hl_deny</th>\n",
       "      <th>wrf_hl_denies</th>\n",
       "      <th>...</th>\n",
       "      <th>chargram_8_hits</th>\n",
       "      <th>chargram_8_early_hits</th>\n",
       "      <th>chargram_8_first_hits</th>\n",
       "      <th>chargram_4_hits</th>\n",
       "      <th>chargram_4_early_hits</th>\n",
       "      <th>chargram_4_first_hits</th>\n",
       "      <th>chargram_16_hits</th>\n",
       "      <th>chargram_16_early_hits</th>\n",
       "      <th>chargram_16_first_hits</th>\n",
       "      <th>hl_body_glove_200_cos_dist</th>\n",
       "    </tr>\n",
       "  </thead>\n",
       "  <tbody>\n",
       "    <tr>\n",
       "      <th>0</th>\n",
       "      <td>2</td>\n",
       "      <td>0</td>\n",
       "      <td>0</td>\n",
       "      <td>0.014085</td>\n",
       "      <td>0</td>\n",
       "      <td>0</td>\n",
       "      <td>0</td>\n",
       "      <td>0</td>\n",
       "      <td>0</td>\n",
       "      <td>0</td>\n",
       "      <td>...</td>\n",
       "      <td>0</td>\n",
       "      <td>0</td>\n",
       "      <td>0</td>\n",
       "      <td>0</td>\n",
       "      <td>0</td>\n",
       "      <td>0</td>\n",
       "      <td>0</td>\n",
       "      <td>0</td>\n",
       "      <td>0</td>\n",
       "      <td>0.157001</td>\n",
       "    </tr>\n",
       "    <tr>\n",
       "      <th>1</th>\n",
       "      <td>10</td>\n",
       "      <td>7</td>\n",
       "      <td>7</td>\n",
       "      <td>0.046083</td>\n",
       "      <td>0</td>\n",
       "      <td>0</td>\n",
       "      <td>0</td>\n",
       "      <td>0</td>\n",
       "      <td>0</td>\n",
       "      <td>0</td>\n",
       "      <td>...</td>\n",
       "      <td>0</td>\n",
       "      <td>0</td>\n",
       "      <td>0</td>\n",
       "      <td>0</td>\n",
       "      <td>0</td>\n",
       "      <td>0</td>\n",
       "      <td>0</td>\n",
       "      <td>0</td>\n",
       "      <td>0</td>\n",
       "      <td>0.089189</td>\n",
       "    </tr>\n",
       "    <tr>\n",
       "      <th>2</th>\n",
       "      <td>5</td>\n",
       "      <td>4</td>\n",
       "      <td>1</td>\n",
       "      <td>0.030303</td>\n",
       "      <td>0</td>\n",
       "      <td>0</td>\n",
       "      <td>0</td>\n",
       "      <td>0</td>\n",
       "      <td>0</td>\n",
       "      <td>0</td>\n",
       "      <td>...</td>\n",
       "      <td>0</td>\n",
       "      <td>0</td>\n",
       "      <td>0</td>\n",
       "      <td>0</td>\n",
       "      <td>0</td>\n",
       "      <td>0</td>\n",
       "      <td>0</td>\n",
       "      <td>0</td>\n",
       "      <td>0</td>\n",
       "      <td>0.104475</td>\n",
       "    </tr>\n",
       "    <tr>\n",
       "      <th>3</th>\n",
       "      <td>3</td>\n",
       "      <td>3</td>\n",
       "      <td>0</td>\n",
       "      <td>0.028169</td>\n",
       "      <td>0</td>\n",
       "      <td>0</td>\n",
       "      <td>0</td>\n",
       "      <td>0</td>\n",
       "      <td>0</td>\n",
       "      <td>0</td>\n",
       "      <td>...</td>\n",
       "      <td>0</td>\n",
       "      <td>0</td>\n",
       "      <td>0</td>\n",
       "      <td>0</td>\n",
       "      <td>0</td>\n",
       "      <td>0</td>\n",
       "      <td>0</td>\n",
       "      <td>0</td>\n",
       "      <td>0</td>\n",
       "      <td>0.152586</td>\n",
       "    </tr>\n",
       "    <tr>\n",
       "      <th>4</th>\n",
       "      <td>9</td>\n",
       "      <td>5</td>\n",
       "      <td>4</td>\n",
       "      <td>0.032727</td>\n",
       "      <td>0</td>\n",
       "      <td>0</td>\n",
       "      <td>0</td>\n",
       "      <td>0</td>\n",
       "      <td>0</td>\n",
       "      <td>0</td>\n",
       "      <td>...</td>\n",
       "      <td>0</td>\n",
       "      <td>0</td>\n",
       "      <td>0</td>\n",
       "      <td>0</td>\n",
       "      <td>0</td>\n",
       "      <td>0</td>\n",
       "      <td>0</td>\n",
       "      <td>0</td>\n",
       "      <td>0</td>\n",
       "      <td>0.160243</td>\n",
       "    </tr>\n",
       "  </tbody>\n",
       "</table>\n",
       "<p>5 rows × 44 columns</p>\n",
       "</div>"
      ],
      "text/plain": [
       "   bin_count  bin_count_early  bin_count_stopless  word_overlap_features  \\\n",
       "0          2                0                   0               0.014085   \n",
       "1         10                7                   7               0.046083   \n",
       "2          5                4                   1               0.030303   \n",
       "3          3                3                   0               0.028169   \n",
       "4          9                5                   4               0.032727   \n",
       "\n",
       "   wrf_hl_fake  wrf_hl_fraud  wrf_hl_hoax  wrf_hl_false  wrf_hl_deny  \\\n",
       "0            0             0            0             0            0   \n",
       "1            0             0            0             0            0   \n",
       "2            0             0            0             0            0   \n",
       "3            0             0            0             0            0   \n",
       "4            0             0            0             0            0   \n",
       "\n",
       "   wrf_hl_denies             ...              chargram_8_hits  \\\n",
       "0              0             ...                            0   \n",
       "1              0             ...                            0   \n",
       "2              0             ...                            0   \n",
       "3              0             ...                            0   \n",
       "4              0             ...                            0   \n",
       "\n",
       "   chargram_8_early_hits  chargram_8_first_hits  chargram_4_hits  \\\n",
       "0                      0                      0                0   \n",
       "1                      0                      0                0   \n",
       "2                      0                      0                0   \n",
       "3                      0                      0                0   \n",
       "4                      0                      0                0   \n",
       "\n",
       "   chargram_4_early_hits  chargram_4_first_hits  chargram_16_hits  \\\n",
       "0                      0                      0                 0   \n",
       "1                      0                      0                 0   \n",
       "2                      0                      0                 0   \n",
       "3                      0                      0                 0   \n",
       "4                      0                      0                 0   \n",
       "\n",
       "   chargram_16_early_hits  chargram_16_first_hits  hl_body_glove_200_cos_dist  \n",
       "0                       0                       0                    0.157001  \n",
       "1                       0                       0                    0.089189  \n",
       "2                       0                       0                    0.104475  \n",
       "3                       0                       0                    0.152586  \n",
       "4                       0                       0                    0.160243  \n",
       "\n",
       "[5 rows x 44 columns]"
      ]
     },
     "execution_count": 10,
     "metadata": {},
     "output_type": "execute_result"
    }
   ],
   "source": [
    "X_train.head()"
   ]
  },
  {
   "cell_type": "code",
   "execution_count": null,
   "metadata": {},
   "outputs": [],
   "source": []
  },
  {
   "cell_type": "code",
   "execution_count": null,
   "metadata": {},
   "outputs": [],
   "source": []
  },
  {
   "cell_type": "code",
   "execution_count": null,
   "metadata": {},
   "outputs": [],
   "source": []
  },
  {
   "cell_type": "code",
   "execution_count": 11,
   "metadata": {},
   "outputs": [],
   "source": [
    "X_train, X_dev, y_train, y_dev = sklearn.model_selection.train_test_split(X_train, y_train, test_size=0.1, random_state=42, shuffle=True)"
   ]
  },
  {
   "cell_type": "code",
   "execution_count": 12,
   "metadata": {},
   "outputs": [
    {
     "name": "stdout",
     "output_type": "stream",
     "text": [
      "(44974, 44)\n",
      "(44974,)\n",
      "(4998, 44)\n",
      "(4998,)\n"
     ]
    }
   ],
   "source": [
    "print(X_train.shape)\n",
    "print(y_train.shape)\n",
    "print(X_dev.shape)\n",
    "print(y_dev.shape)"
   ]
  },
  {
   "cell_type": "code",
   "execution_count": null,
   "metadata": {},
   "outputs": [],
   "source": []
  },
  {
   "cell_type": "code",
   "execution_count": 13,
   "metadata": {},
   "outputs": [],
   "source": [
    "clf = GradientBoostingClassifier(n_estimators=200, random_state=14128, verbose=True)"
   ]
  },
  {
   "cell_type": "code",
   "execution_count": 14,
   "metadata": {},
   "outputs": [
    {
     "name": "stdout",
     "output_type": "stream",
     "text": [
      "      Iter       Train Loss   Remaining Time \n",
      "         1       44003.6782           51.34s\n",
      "         2       39386.2805           47.72s\n",
      "         3       35644.9415           46.27s\n",
      "         4       32588.8785           45.25s\n",
      "         5       30070.6445           44.92s\n",
      "         6       27965.6642           44.73s\n",
      "         7       26208.2776           43.82s\n",
      "         8       24717.7259           43.14s\n",
      "         9       23471.6261           42.73s\n",
      "        10       22380.8199           42.45s\n",
      "        20       17270.0571           40.80s\n",
      "        30       15812.0082           38.36s\n",
      "        40       15159.4344           35.65s\n",
      "        50       14787.8910           32.55s\n",
      "        60       14534.0643           29.67s\n",
      "        70       14339.2110           27.21s\n",
      "        80       14181.4277           24.97s\n",
      "        90       14052.3365           22.65s\n",
      "       100       13929.0381           20.46s\n",
      "       200       13051.6725            0.00s\n"
     ]
    },
    {
     "data": {
      "text/plain": [
       "GradientBoostingClassifier(criterion='friedman_mse', init=None,\n",
       "              learning_rate=0.1, loss='deviance', max_depth=3,\n",
       "              max_features=None, max_leaf_nodes=None,\n",
       "              min_impurity_decrease=0.0, min_impurity_split=None,\n",
       "              min_samples_leaf=1, min_samples_split=2,\n",
       "              min_weight_fraction_leaf=0.0, n_estimators=200,\n",
       "              presort='auto', random_state=14128, subsample=1.0,\n",
       "              verbose=True, warm_start=False)"
      ]
     },
     "execution_count": 14,
     "metadata": {},
     "output_type": "execute_result"
    }
   ],
   "source": [
    "clf.fit(X_train, y_train)"
   ]
  },
  {
   "cell_type": "code",
   "execution_count": 15,
   "metadata": {},
   "outputs": [
    {
     "name": "stdout",
     "output_type": "stream",
     "text": [
      "             precision    recall  f1-score   support\n",
      "\n",
      "      agree       0.60      0.16      0.26       331\n",
      "   disagree       0.29      0.02      0.04       102\n",
      "    discuss       0.66      0.85      0.75       876\n",
      "  unrelated       0.96      0.98      0.97      3689\n",
      "\n",
      "avg / total       0.87      0.89      0.86      4998\n",
      "\n",
      "Weighted accuracy: 0.8058263305322129 (1798.0 out of 2231.25)\n"
     ]
    }
   ],
   "source": [
    "preds = clf.predict(X_dev)\n",
    "print(classification_report(y_dev, preds))\n",
    "score, max_score = score_4class(y_dev, preds)\n",
    "print(\"Weighted accuracy: \"+str(score/max_score)+\" (\"+str(score)+\" out of \"+str(max_score)+\")\")"
   ]
  },
  {
   "cell_type": "code",
   "execution_count": 18,
   "metadata": {},
   "outputs": [
    {
     "name": "stdout",
     "output_type": "stream",
     "text": [
      "             precision    recall  f1-score   support\n",
      "\n",
      "      agree       0.35      0.08      0.14      1903\n",
      "   disagree       0.09      0.00      0.01       697\n",
      "    discuss       0.61      0.80      0.70      4464\n",
      "  unrelated       0.94      0.98      0.96     18349\n",
      "\n",
      "avg / total       0.81      0.85      0.82     25413\n",
      "\n",
      "Weighted accuracy: 0.7525372814075743 (8768.0 out of 11651.25)\n"
     ]
    }
   ],
   "source": [
    "preds = clf.predict(X_test)\n",
    "print(classification_report(y_test, preds))\n",
    "score, max_score = score_4class(y_test, preds)\n",
    "print(\"Weighted accuracy: \"+str(score/max_score)+\" (\"+str(score)+\" out of \"+str(max_score)+\")\")"
   ]
  },
  {
   "cell_type": "code",
   "execution_count": null,
   "metadata": {},
   "outputs": [],
   "source": []
  },
  {
   "cell_type": "code",
   "execution_count": 16,
   "metadata": {},
   "outputs": [
    {
     "name": "stdout",
     "output_type": "stream",
     "text": [
      "hl_body_glove_200_cos_dist: 0.1902913508323937\n",
      "word_overlap_features: 0.16351842500262193\n",
      "bin_count_stopless: 0.1486098884502007\n",
      "bin_count: 0.08389369075687826\n",
      "chargram_2_hits: 0.06642816497813628\n",
      "bin_count_early: 0.05931518680579846\n",
      "ngram_2_hits: 0.05281044531087529\n",
      "ngram_2_early_hits: 0.04216553357922573\n",
      "chargram_2_early_hits: 0.033335825859544754\n",
      "ngram_4_hits: 0.017039733089217805\n",
      "chargram_2_first_hits: 0.016998518563192462\n",
      "ngram_3_hits: 0.015279521011858558\n",
      "polar_body: 0.013265917234754216\n",
      "polar_hl: 0.011756816832107457\n",
      "wrf_hl_hoax: 0.011040965955630118\n",
      "ngram_6_hits: 0.011004930758880517\n",
      "wrf_hl_doubt: 0.009921725583108599\n",
      "ngram_4_early_hits: 0.007714985927264708\n",
      "wrf_hl_false: 0.006872908325971317\n",
      "ngram_5_hits: 0.0060373454428725125\n",
      "ngram_3_early_hits: 0.00498573075764935\n",
      "wrf_hl_fake: 0.004143759207083079\n",
      "wrf_hl_not: 0.004111099024616867\n",
      "wrf_hl_despite: 0.003371031615300037\n",
      "wrf_hl_denies: 0.0032366957515727064\n",
      "wrf_hl_bogus: 0.003057185337776991\n",
      "ngram_5_early_hits: 0.0026724358373359566\n",
      "ngram_6_early_hits: 0.002502644203133873\n",
      "wrf_hl_deny: 0.0017833464961268582\n",
      "wrf_hl_nope: 0.0016808946311014947\n",
      "wrf_hl_debunk: 0.0011532968377694656\n",
      "chargram_16_hits: 0.0\n",
      "chargram_16_early_hits: 0.0\n",
      "chargram_4_hits: 0.0\n",
      "wrf_hl_fraud: 0.0\n",
      "wrf_hl_doubts: 0.0\n",
      "wrf_hl_pranks: 0.0\n",
      "wrf_hl_retract: 0.0\n",
      "chargram_4_early_hits: 0.0\n",
      "chargram_8_first_hits: 0.0\n",
      "chargram_16_first_hits: 0.0\n",
      "chargram_8_early_hits: 0.0\n",
      "chargram_8_hits: 0.0\n",
      "chargram_4_first_hits: 0.0\n"
     ]
    }
   ],
   "source": [
    "feat_imp = clf.feature_importances_\n",
    "indices = np.argsort(feat_imp)[::-1]\n",
    "for ii in indices:\n",
    "    print(X_train.columns[ii]+\": \"+str(feat_imp[ii]))"
   ]
  },
  {
   "cell_type": "code",
   "execution_count": null,
   "metadata": {},
   "outputs": [],
   "source": []
  },
  {
   "cell_type": "code",
   "execution_count": null,
   "metadata": {},
   "outputs": [],
   "source": []
  },
  {
   "cell_type": "code",
   "execution_count": null,
   "metadata": {},
   "outputs": [],
   "source": []
  },
  {
   "cell_type": "code",
   "execution_count": null,
   "metadata": {},
   "outputs": [],
   "source": []
  },
  {
   "cell_type": "code",
   "execution_count": null,
   "metadata": {},
   "outputs": [],
   "source": []
  },
  {
   "cell_type": "code",
   "execution_count": null,
   "metadata": {},
   "outputs": [],
   "source": []
  },
  {
   "cell_type": "code",
   "execution_count": null,
   "metadata": {},
   "outputs": [],
   "source": [
    "crf = sklearn.ensemble.RandomForestClassifier(n_estimators=400, n_jobs=8, random_state=42)\n",
    "crf.fit(X_train, y_train)"
   ]
  },
  {
   "cell_type": "code",
   "execution_count": null,
   "metadata": {},
   "outputs": [],
   "source": [
    "preds = crf.predict(X_dev)\n",
    "print(classification_report(y_dev, preds))"
   ]
  },
  {
   "cell_type": "code",
   "execution_count": null,
   "metadata": {},
   "outputs": [],
   "source": [
    "score, max_score = score_4class(y_dev, preds)\n",
    "print(\"Weighted accuracy: \"+str(score/max_score)+\" (\"+str(score)+\" out of \"+str(max_score)+\")\")"
   ]
  },
  {
   "cell_type": "code",
   "execution_count": null,
   "metadata": {},
   "outputs": [],
   "source": [
    "preds = clf.predict(X_test)\n",
    "print(classification_report(y_test, preds))\n",
    "\n",
    "score, max_score = score_4class(y_test, preds)\n",
    "print(\"Weighted accuracy: \"+str(score/max_score)+\" (\"+str(score)+\" out of \"+str(max_score)+\")\")"
   ]
  },
  {
   "cell_type": "code",
   "execution_count": null,
   "metadata": {},
   "outputs": [],
   "source": []
  },
  {
   "cell_type": "code",
   "execution_count": null,
   "metadata": {},
   "outputs": [],
   "source": [
    "-----"
   ]
  },
  {
   "cell_type": "code",
   "execution_count": null,
   "metadata": {},
   "outputs": [],
   "source": [
    "crf = sklearn.ensemble.RandomForestClassifier(n_estimators=200, n_jobs=8, random_state=42)"
   ]
  },
  {
   "cell_type": "code",
   "execution_count": null,
   "metadata": {},
   "outputs": [],
   "source": [
    "crf.fit(X_train, y_train)"
   ]
  },
  {
   "cell_type": "code",
   "execution_count": null,
   "metadata": {},
   "outputs": [],
   "source": [
    "preds = crf.predict(X_dev)\n",
    "print(classification_report(y_dev, preds))"
   ]
  },
  {
   "cell_type": "code",
   "execution_count": null,
   "metadata": {},
   "outputs": [],
   "source": []
  },
  {
   "cell_type": "code",
   "execution_count": null,
   "metadata": {},
   "outputs": [],
   "source": []
  },
  {
   "cell_type": "code",
   "execution_count": 7,
   "metadata": {},
   "outputs": [
    {
     "name": "stderr",
     "output_type": "stream",
     "text": [
      "100%|██████████| 25413/25413 [00:13<00:00, 1825.55it/s]\n"
     ]
    }
   ],
   "source": [
    "### LOAD TEST SET ###\n",
    "X_test = pd.read_hdf(\"X_TEST_full_allfeatures-NOLABEL.h5\", key=\"df\")\n",
    "y_test = pd.read_hdf(\"y_TEST_full.h5\", key=\"df\")\n",
    "\n",
    "Xy_test = pd.concat([X_test, y_test], axis=1)\n",
    "\n",
    "y_test = Xy_test[\"Stance\"]\n",
    "X_test = Xy_test.drop(\"Stance\", axis=1)\n",
    "\n",
    "#vader_hl_df = vader_polarity_scores(X_test, \"Headline\", \"hl\")\n",
    "#vader_body_df = vader_polarity_scores(X_test, \"articleBody\", \"body\")\n",
    "#X_test = pd.concat([X_test, vader_hl_df, vader_body_df], axis=1)\n",
    "X_test[\"hl_body_glove_\"+str(glove_dim)+\"_cos_dist\"] = X_test[[\"___clean_headline_tokenized_lemmas\", \"___clean_body_tokenized_lemmas\"]].progress_apply(get_glove_cos_dist_hl_body, axis=1)\n",
    "\n",
    "del_str_cols(X_test)"
   ]
  },
  {
   "cell_type": "code",
   "execution_count": null,
   "metadata": {},
   "outputs": [],
   "source": []
  }
 ],
 "metadata": {
  "kernelspec": {
   "display_name": "Python 3",
   "language": "python",
   "name": "python3"
  },
  "language_info": {
   "codemirror_mode": {
    "name": "ipython",
    "version": 3
   },
   "file_extension": ".py",
   "mimetype": "text/x-python",
   "name": "python",
   "nbconvert_exporter": "python",
   "pygments_lexer": "ipython3",
   "version": "3.6.5"
  }
 },
 "nbformat": 4,
 "nbformat_minor": 2
}
